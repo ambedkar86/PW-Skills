{
  "nbformat": 4,
  "nbformat_minor": 0,
  "metadata": {
    "colab": {
      "provenance": []
    },
    "kernelspec": {
      "name": "python3",
      "display_name": "Python 3"
    },
    "language_info": {
      "name": "python"
    }
  },
  "cells": [
    {
      "cell_type": "markdown",
      "source": [
        "# Data Types and Structures Questions\n"
      ],
      "metadata": {
        "id": "sIOrFOWQq3Bg"
      }
    },
    {
      "cell_type": "markdown",
      "source": [
        "#1.  What are data structures, and why are they important ?\n",
        "\n",
        "  - Data structures are specialized formats for organizing, storing, and accessing collections of data. They provide efficient ways to manage information based on its characteristics and intended use.\n",
        "\n",
        "    - Choosing the right data structure significantly impacts the        efficiency and performance of your program.\n",
        "    - Well-chosen data structures can:\n",
        "     - Simplify data manipulation (adding, removing, modifying elements)\n",
        "     - Optimize searching and sorting operations\n",
        "     - Conserve memory usage"
      ],
      "metadata": {
        "id": "nUvoRUh1rFqf"
      }
    },
    {
      "cell_type": "markdown",
      "source": [
        "#2.  Explain the difference between mutable and immutable data types with examples.\n",
        "\n",
        "  - Mutable data types are those whose values or contents can be changed or modified after they have been created. Immutable data types, conversely, are those whose values or contents cannot be altered once they are created; any operation that appears to modify an immutable object actually results in the creation of a new object with the desired changes.\n"
      ],
      "metadata": {
        "id": "ISbQUe2YrZN_"
      }
    },
    {
      "cell_type": "markdown",
      "source": [
        "#3.  What are the main differences between lists and tuples in Python ?\n",
        "\n",
        "  - Lists: are mutable, meaning their elements can be modified (added, removed, or changed) after creation.\n",
        "  - Lists: are defined using square brackets [].\n",
        "\n",
        "\n",
        "  - Tuples: are immutable, meaning their elements cannot be changed once the tuple is created.\n",
        "  - Tuples: are defined using parentheses ().\n"
      ],
      "metadata": {
        "id": "7RN2-eb6sPsf"
      }
    },
    {
      "cell_type": "markdown",
      "source": [
        "#4.  Describe how dictionaries store data.\n",
        "\n",
        " - Dictionaries store data as a collection of key-value pairs. This fundamental structure allows for efficient retrieval of values based on their associated unique keys.\n"
      ],
      "metadata": {
        "id": "TIRhLMsUtGKv"
      }
    },
    {
      "cell_type": "markdown",
      "source": [
        "#5.  Why might you use a set instead of a list in Python\n",
        "   - The Python sets are highly useful to efficiently remove duplicate values from a collection like a list and to perform common math operations like unions and intersections."
      ],
      "metadata": {
        "id": "DQALN-iFtr1P"
      }
    },
    {
      "cell_type": "markdown",
      "source": [
        "#6.  What is a string in Python, and how is it different from a list ?\n",
        "\n",
        "  - In Python, a string is an immutable sequence of characters, used to represent text. Strings are enclosed in single quotes (') or double quotes (\"). For example, 'hello' and \"world\" are both strings.\n",
        "\n",
        "  - A list in Python, on the other hand, is a mutable, ordered collection of items. These items can be of any data type and are enclosed in square brackets ([]), with individual items separated by commas. For example, [1, 'apple', True] is a list containing an integer, a string, and a boolean.\n"
      ],
      "metadata": {
        "id": "Jn4CdcbnySL4"
      }
    },
    {
      "cell_type": "markdown",
      "source": [
        "#7.  How do tuples ensure data integrity in Python?\n",
        "  -   Once you create a tuple, you cannot change its content. This immutability makes tuples useful for\n",
        "situations where you want to ensure that the data remains constant."
      ],
      "metadata": {
        "id": "ImBP-kdLy01a"
      }
    },
    {
      "cell_type": "markdown",
      "source": [
        "#8.  What is a hash table, and how does it relate to dictionaries in Python ?\n",
        "  - A hash table is a data structure that stores key-value pairs by using a hash function to map keys to indices in an array. This mapping allows for efficient retrieval, insertion, and deletion of data, ideally achieving average time complexity for these operations."
      ],
      "metadata": {
        "id": "KMevnEzq_2nY"
      }
    },
    {
      "cell_type": "markdown",
      "source": [
        "#9.  Can lists contain different data types in Python ?\n",
        "  - A list is one of the most versatile and commonly used data structures in Python. It is an ordered collection\n",
        "of elements that can be of any data type, such as integers, strings, or other lists."
      ],
      "metadata": {
        "id": "9ndL8j1O_2ko"
      }
    },
    {
      "cell_type": "markdown",
      "source": [
        "#10. Explain why strings are immutable in Python ?\n",
        "   - Strings in Python are \"immutable\" which means they can not be changed after they are created. The immutability of Python string is very useful as it helps in hashing, performance optimization, safety, ease of use, etc.\n"
      ],
      "metadata": {
        "id": "oY89jQJU_2hw"
      }
    },
    {
      "cell_type": "markdown",
      "source": [
        "#11.  What advantages do dictionaries offer over lists for certain tasks?\n",
        "   Benefits of Using Dictionary Comprehensions:\n",
        "\n",
        "- Conciseness and readability: They provide a more compact and readable way to create dictionaries\n",
        "compared to traditional methods like loops or for loops combined with if statements\n",
        "- Expressiveness: Dictionary comprehensions allow developers to express complex operations in a succinct\n",
        "manner, enhancing code clarity and maintainability\n",
        "- Efficiency: They often result in faster execution times and better performance, especially for smaller\n",
        "dictionaries\n",
        "\n",
        "\n"
      ],
      "metadata": {
        "id": "djxjdeZF_2eo"
      }
    },
    {
      "cell_type": "markdown",
      "source": [
        "#12.  Describe a scenario where using a tuple would be preferable over a list.\n",
        "\n",
        " - Imagine you have different boxes, each containing a variety of chocolates. You want to represent this\n",
        "situation using tuples:\n",
        "\n",
        "\n"
      ],
      "metadata": {
        "id": "sAusTZE4_2cI"
      }
    },
    {
      "cell_type": "code",
      "source": [
        " # Define tuples to represent boxes of chocolates\n",
        " box1 = (\"Dark Chocolate\", \"Milk Chocolate\", \"White Chocolate\")\n",
        " box2 = (\"Caramel Chocolate\", \"Hazelnut Chocolate\")\n",
        " box3 = (\"Raspberry Chocolate\", \"Coconut Chocolate\")\n",
        " # Combine the boxes into a larger bag\n",
        " chocolate_bag = (box1, box2, box3)\n",
        " # Access the chocolates in the bag\n",
        " for box in chocolate_bag:\n",
        "   print(\"Box contents:\")\n",
        "   for chocolate in box:\n",
        "      print(\" - \" + chocolate)"
      ],
      "metadata": {
        "colab": {
          "base_uri": "https://localhost:8080/"
        },
        "id": "zy1mKIc7XXJU",
        "outputId": "ebb29462-08bd-49e2-9bda-a2488ad41fec"
      },
      "execution_count": null,
      "outputs": [
        {
          "output_type": "stream",
          "name": "stdout",
          "text": [
            "Box contents:\n",
            " - Dark Chocolate\n",
            " - Milk Chocolate\n",
            " - White Chocolate\n",
            "Box contents:\n",
            " - Caramel Chocolate\n",
            " - Hazelnut Chocolate\n",
            "Box contents:\n",
            " - Raspberry Chocolate\n",
            " - Coconut Chocolate\n"
          ]
        }
      ]
    },
    {
      "cell_type": "markdown",
      "source": [
        "#13.  How do sets handle duplicate values in Python ?\n",
        "  - Python sets are inherently designed to store only unique elements. This means that when you attempt to add a duplicate value to a set, the set simply ignores the addition. They are useful when you need to work with distinct items because in sets duplicate entries are not allowed.\n",
        "\n"
      ],
      "metadata": {
        "id": "PciA7gPu_2ZA"
      }
    },
    {
      "cell_type": "markdown",
      "source": [
        "#14.  How does the “in” keyword work differently for lists and dictionaries ?\n",
        "-- The in keyword in Python functions differently for lists and dictionaries due to their underlying data structures and how membership is defined for each:\n",
        "\n",
        " - Lists: When used with a list, the in keyword checks for the presence of a specific element within the list. It performs a linear search, iterating through each item in the list to see if it matches the target element.\n",
        "\n",
        " - Dictionaries: When used with a dictionary, the in keyword checks for the presence of a specific key within the dictionary. It leverages the dictionary's hash-table implementation, which allows for very fast lookups based on keys."
      ],
      "metadata": {
        "id": "iFOiY2cv_2WI"
      }
    },
    {
      "cell_type": "markdown",
      "source": [
        "#15.  Can you modify the elements of a tuple? Explain why or why not.\n",
        "  - The elements of a tuple cannot be modified after the tuple has been created. Tuples are immutable data structures in Python, meaning their contents cannot be changed once they are defined."
      ],
      "metadata": {
        "id": "iWGZHESu_2To"
      }
    },
    {
      "cell_type": "markdown",
      "source": [
        "#16.  What is a nested dictionary, and give an example of its use case ?\n",
        "  - A nested dictionary is a dictionary that contains other dictionaries as values. This structure allows for the representation of hierarchical or tree-like data, where each level of nesting provides a more specific detail about the data.\n",
        "\n",
        "  - Example of its Use Case:\n",
        "A common use case for nested dictionaries is to store and manage complex, structured data, such as information about multiple entities with detailed attributes. Consider managing a database of students in a school, where each student has personal details and academic records."
      ],
      "metadata": {
        "id": "wZsl_h5W_2Qo"
      }
    },
    {
      "cell_type": "code",
      "source": [
        "school_data = {\n",
        "    \"student_id_001\": {\n",
        "        \"name\": \"Alice Smith\",\n",
        "        \"age\": 16,\n",
        "        \"grade\": 10,\n",
        "        \"courses\": {\n",
        "            \"math\": {\"score\": 92, \"teacher\": \"Mr. Jones\"},\n",
        "            \"science\": {\"score\": 88, \"teacher\": \"Ms. Davis\"},\n",
        "            \"history\": {\"score\": 95, \"teacher\": \"Dr. Lee\"}\n",
        "        }\n",
        "    },\n",
        "    \"student_id_002\": {\n",
        "        \"name\": \"Bob Johnson\",\n",
        "        \"age\": 17,\n",
        "        \"grade\": 11,\n",
        "        \"courses\": {\n",
        "            \"math\": {\"score\": 85, \"teacher\": \"Mr. Jones\"},\n",
        "            \"literature\": {\"score\": 90, \"teacher\": \"Ms. White\"},\n",
        "            \"art\": {\"score\": 78, \"teacher\": \"Mr. Brown\"}\n",
        "        }\n",
        "    }\n",
        "}\n",
        "\n",
        "# Accessing data:\n",
        "print(school_data[\"student_id_001\"][\"name\"])\n",
        "print(school_data[\"student_id_002\"][\"courses\"][\"math\"][\"score\"])"
      ],
      "metadata": {
        "colab": {
          "base_uri": "https://localhost:8080/"
        },
        "id": "psBADDEIgxwW",
        "outputId": "33c8d426-1b04-49a2-839a-470cf4e1eb05"
      },
      "execution_count": null,
      "outputs": [
        {
          "output_type": "stream",
          "name": "stdout",
          "text": [
            "Alice Smith\n",
            "85\n"
          ]
        }
      ]
    },
    {
      "cell_type": "markdown",
      "source": [
        "#17.  Describe the time complexity of accessing elements in a dictionary.\n",
        "\n",
        "  - The time complexity of accessing elements in a dictionary is typically O(1) on average. This means that the time taken to retrieve a value by its key remains constant, regardless of the size of the dictionary.\n",
        "\n",
        "  - This efficiency is attributed to the internal implementation of dictionaries, which utilize hash tables. When a key is used to access a value, its hash value is computed, leading directly to the memory location where the corresponding value is stored. This direct access mechanism allows for constant-time lookups in most scenarios.\n",
        "  - However, in the worst-case scenario, the time complexity can degrade to O(n), where 'n' is the number of key-value pairs in the dictionary. This occurs when there are numerous hash collisions, meaning multiple keys produce the same hash value. In such cases, the dictionary may need to linearly search through a chain of elements within a specific hash bucket, leading to a performance proportional to the number of elements in that bucket. While possible, this worst-case scenario is rare due to effective hash function design and collision resolution strategies employed in dictionary implementations.\n",
        "\n",
        "\n",
        "\n",
        "\n"
      ],
      "metadata": {
        "id": "Uioy0Yfz_2Ng"
      }
    },
    {
      "cell_type": "markdown",
      "source": [
        "#18.  In what situations are lists preferred over dictionaries ?\n",
        "  - Lists are preferred over dictionaries when the order of data matters, such as in a sequence of events or a step-by-step process, or when data is accessed by its numerical position (index) rather than a unique key. Lists are also better for situations where you need to perform ordered operations like sorting, or when you require methods for adding and removing elements sequentially, like appending to a shopping list."
      ],
      "metadata": {
        "id": "x-x6OIo7_2Ko"
      }
    },
    {
      "cell_type": "markdown",
      "source": [
        "#19.  Why are dictionaries considered unordered, and how does that affect data retrieval?\n",
        "  - Dictionaries are considered \"unordered\" because, historically and by design, their primary purpose is fast retrieval of values using unique keys, not to maintain a specific sequence of elements. This means you cannot rely on positional indexing (like dictionary[0]) to access items. While modern Python versions (3.7+) preserve insertion order, dictionaries are still fundamentally unordered because their structure is based on key-value mapping, not a defined sequence, which affects data retrieval by making key-based lookups efficient but positional access impossible.\n"
      ],
      "metadata": {
        "id": "dsLyUrHe_2Hw"
      }
    },
    {
      "cell_type": "markdown",
      "source": [
        "#20.  Explain the difference between a list and a dictionary in terms of data retrieval.\n",
        "  - Lists are used to store the data, which should be ordered and sequential. On the other hand, dictionary is used to store large amounts of data for easy and quick access. List is ordered and mutable, whereas dictionaries are unordered and mutable\n"
      ],
      "metadata": {
        "id": "As6Rz22S_2E4"
      }
    },
    {
      "cell_type": "markdown",
      "source": [
        " # Practical Questions\n"
      ],
      "metadata": {
        "id": "jhCjaXRC_2B4"
      }
    },
    {
      "cell_type": "markdown",
      "source": [
        "#1.  Write a code to create a string with your name and print it\n"
      ],
      "metadata": {
        "id": "YReNPhKU_1-g"
      }
    },
    {
      "cell_type": "code",
      "source": [
        "name =\" Rahul Ambedkar\"\n",
        "print(name)"
      ],
      "metadata": {
        "colab": {
          "base_uri": "https://localhost:8080/"
        },
        "id": "Wo-RLBsrDtIB",
        "outputId": "53f4c0d8-459e-4438-dfec-67767f47176e"
      },
      "execution_count": null,
      "outputs": [
        {
          "output_type": "stream",
          "name": "stdout",
          "text": [
            " Rahul Ambedkar\n"
          ]
        }
      ]
    },
    {
      "cell_type": "markdown",
      "source": [
        "#2.  Write a code to find the length of the string \"Hello World\".\n"
      ],
      "metadata": {
        "id": "zN64Cvey_17g"
      }
    },
    {
      "cell_type": "code",
      "source": [
        "string = \"Hello World\"\n",
        "length = len(string)\n",
        "print(length)"
      ],
      "metadata": {
        "colab": {
          "base_uri": "https://localhost:8080/"
        },
        "id": "nVAbmaR2Dn97",
        "outputId": "3e754046-e6bf-4eea-96a3-93874a405f5c"
      },
      "execution_count": null,
      "outputs": [
        {
          "output_type": "stream",
          "name": "stdout",
          "text": [
            "11\n"
          ]
        }
      ]
    },
    {
      "cell_type": "markdown",
      "source": [
        "#3.  Write a code to slice the first 3 characters from the string \"Python Programming\".\n"
      ],
      "metadata": {
        "id": "r9ipQhDJ_14g"
      }
    },
    {
      "cell_type": "code",
      "source": [
        "string = \"Python Programming\"\n",
        "sliced_string = string[:3]\n",
        "print(sliced_string)"
      ],
      "metadata": {
        "colab": {
          "base_uri": "https://localhost:8080/"
        },
        "id": "KrdFEQXxDdL5",
        "outputId": "b9297ad6-3934-4634-cff0-8c5d6fd1bc10"
      },
      "execution_count": null,
      "outputs": [
        {
          "output_type": "stream",
          "name": "stdout",
          "text": [
            "Pyt\n"
          ]
        }
      ]
    },
    {
      "cell_type": "markdown",
      "source": [
        "#4.  Write a code to convert the string \"hello\" to uppercase.\n"
      ],
      "metadata": {
        "id": "kmTw6oLt_11Y"
      }
    },
    {
      "cell_type": "code",
      "source": [
        "string = \"hello\"\n",
        "uppercase_string = string.upper()\n",
        "print(uppercase_string)"
      ],
      "metadata": {
        "colab": {
          "base_uri": "https://localhost:8080/"
        },
        "id": "isNetpJYDSVJ",
        "outputId": "a16b1c07-6e71-40de-dbb9-22b570bc8de4"
      },
      "execution_count": null,
      "outputs": [
        {
          "output_type": "stream",
          "name": "stdout",
          "text": [
            "HELLO\n"
          ]
        }
      ]
    },
    {
      "cell_type": "markdown",
      "source": [
        "#5.  Write a code to replace the word \"apple\" with \"orange\" in the string \"I like apple\".\n"
      ],
      "metadata": {
        "id": "JJCHsygL_1yZ"
      }
    },
    {
      "cell_type": "code",
      "source": [
        "string = \"I like apple\"\n",
        "new_string = string.replace(\"apple\", \"orange\")\n",
        "print(new_string)\n"
      ],
      "metadata": {
        "colab": {
          "base_uri": "https://localhost:8080/"
        },
        "id": "QWe13E0aDFmK",
        "outputId": "605563e3-2855-488f-e7bf-3ff22afff65d"
      },
      "execution_count": null,
      "outputs": [
        {
          "output_type": "stream",
          "name": "stdout",
          "text": [
            "I like orange\n"
          ]
        }
      ]
    },
    {
      "cell_type": "markdown",
      "source": [
        "#6.  Write a code to create a list with numbers 1 to 5 and print it.\n"
      ],
      "metadata": {
        "id": "rBCLPNAk_1vI"
      }
    },
    {
      "cell_type": "code",
      "source": [
        " numbers = list(range(1, 6))\n",
        " print(numbers)"
      ],
      "metadata": {
        "colab": {
          "base_uri": "https://localhost:8080/"
        },
        "id": "KAsVOiOsCi3x",
        "outputId": "adffdf28-5a89-4f8e-f19b-7921903727ed"
      },
      "execution_count": null,
      "outputs": [
        {
          "output_type": "stream",
          "name": "stdout",
          "text": [
            "[1, 2, 3, 4, 5]\n"
          ]
        }
      ]
    },
    {
      "cell_type": "markdown",
      "source": [
        "#7.  Write a code to append the number 10 to the list [1, 2, 3, 4].\n"
      ],
      "metadata": {
        "id": "F_9vqBcv_1o4"
      }
    },
    {
      "cell_type": "code",
      "source": [
        "numbers = [1, 2, 3, 4]\n",
        "numbers.append(10)\n",
        "print(numbers)"
      ],
      "metadata": {
        "colab": {
          "base_uri": "https://localhost:8080/"
        },
        "id": "cS53zlA7CaHx",
        "outputId": "69d0b1d8-77f5-499f-d19b-41752449d38d"
      },
      "execution_count": 26,
      "outputs": [
        {
          "output_type": "stream",
          "name": "stdout",
          "text": [
            "[1, 2, 3, 4, 10]\n"
          ]
        }
      ]
    },
    {
      "cell_type": "markdown",
      "source": [
        "#8  Write a code to remove the number 3 from the list [1, 2, 3, 4, 5].`\n"
      ],
      "metadata": {
        "id": "mr2b-N_5_1lY"
      }
    },
    {
      "cell_type": "code",
      "source": [
        "lst1 =  [1, 2, 3, 4, 5]\n",
        "lst1.remove(3)\n",
        "print(lst1)"
      ],
      "metadata": {
        "colab": {
          "base_uri": "https://localhost:8080/"
        },
        "id": "_ODsMKkkCQah",
        "outputId": "7a138d99-16bb-4c20-fd20-8984eb211239"
      },
      "execution_count": null,
      "outputs": [
        {
          "output_type": "stream",
          "name": "stdout",
          "text": [
            "[1, 2, 4, 5]\n"
          ]
        }
      ]
    },
    {
      "cell_type": "markdown",
      "source": [
        "#9.  Write a code to access the second element in the list ['a', 'b', 'c', 'd'].\n"
      ],
      "metadata": {
        "id": "G2-N_IHj_1dI"
      }
    },
    {
      "cell_type": "code",
      "source": [
        "element = ['a', 'b', 'c', 'd']\n",
        "second_element = element[1]\n",
        "print(second_element)"
      ],
      "metadata": {
        "colab": {
          "base_uri": "https://localhost:8080/"
        },
        "id": "Vm9PzawxCFuJ",
        "outputId": "214531c8-43d0-4f77-b13e-33f4723d3ea0"
      },
      "execution_count": null,
      "outputs": [
        {
          "output_type": "stream",
          "name": "stdout",
          "text": [
            "b\n"
          ]
        }
      ]
    },
    {
      "cell_type": "markdown",
      "source": [
        "#10.  Write a code to reverse the list [10, 20, 30, 40, 50].\n"
      ],
      "metadata": {
        "id": "98q3M14qB5ip"
      }
    },
    {
      "cell_type": "code",
      "source": [
        "lst = [10, 20, 30, 40, 50]\n",
        "reversed_lst = lst[::-1]\n",
        "print(reversed_lst)"
      ],
      "metadata": {
        "colab": {
          "base_uri": "https://localhost:8080/"
        },
        "id": "i6Kh_COqB_pR",
        "outputId": "48a13d9f-496c-4fb6-d6a8-b660794608b3"
      },
      "execution_count": null,
      "outputs": [
        {
          "output_type": "stream",
          "name": "stdout",
          "text": [
            "[50, 40, 30, 20, 10]\n"
          ]
        }
      ]
    },
    {
      "cell_type": "markdown",
      "source": [
        "# 11. Write a code to create a tuple with the elements 100, 200, 300 and print it.\n"
      ],
      "metadata": {
        "id": "rWPfEo5NB8_J"
      }
    },
    {
      "cell_type": "code",
      "source": [
        "my_tuple = (100, 200, 300)\n",
        "print(my_tuple)"
      ],
      "metadata": {
        "colab": {
          "base_uri": "https://localhost:8080/"
        },
        "id": "n7teolJoVKze",
        "outputId": "0756dbec-7afe-43dd-a4f7-9da5176ea8bb"
      },
      "execution_count": 1,
      "outputs": [
        {
          "output_type": "stream",
          "name": "stdout",
          "text": [
            "(100, 200, 300)\n"
          ]
        }
      ]
    },
    {
      "cell_type": "markdown",
      "source": [
        "# 12. Write a code to access the second-to-last element of the tuple ('red', 'green', 'blue', 'yellow')."
      ],
      "metadata": {
        "id": "6gM7wKKlVEzu"
      }
    },
    {
      "cell_type": "code",
      "source": [
        "my_tuple = ('red', 'green', 'blue', 'yellow')\n",
        "second_to_last_element = my_tuple[-2]\n",
        "print(second_to_last_element)"
      ],
      "metadata": {
        "colab": {
          "base_uri": "https://localhost:8080/"
        },
        "id": "IlGu3i-MWkyQ",
        "outputId": "2923cdb6-c41c-49c7-fbe1-0c2c134997eb"
      },
      "execution_count": 2,
      "outputs": [
        {
          "output_type": "stream",
          "name": "stdout",
          "text": [
            "blue\n"
          ]
        }
      ]
    },
    {
      "cell_type": "markdown",
      "source": [
        "# 13. Write a code to find the minimum number in the tuple (10, 20, 5, 15)."
      ],
      "metadata": {
        "id": "kgA7mQ-iVEwN"
      }
    },
    {
      "cell_type": "code",
      "source": [
        "tuple1 = (10, 20, 5, 15)\n",
        "min_number = min(tuple1)\n",
        "print(min_number)"
      ],
      "metadata": {
        "colab": {
          "base_uri": "https://localhost:8080/"
        },
        "id": "eZNBMUPSWzF3",
        "outputId": "39c049e5-96d0-4252-ded7-6f4cbf3941bc"
      },
      "execution_count": 3,
      "outputs": [
        {
          "output_type": "stream",
          "name": "stdout",
          "text": [
            "5\n"
          ]
        }
      ]
    },
    {
      "cell_type": "markdown",
      "source": [
        "# 14. Write a code to find the index of the element \"cat\" in the tuple ('dog', 'cat', 'rabbit')"
      ],
      "metadata": {
        "id": "nd1WZ3WQVEtm"
      }
    },
    {
      "cell_type": "code",
      "source": [
        "my_tuple = ('dog', 'cat', 'rabbit')\n",
        "index = my_tuple.index('cat')\n",
        "print(index)"
      ],
      "metadata": {
        "colab": {
          "base_uri": "https://localhost:8080/"
        },
        "id": "1Wwt094_W5Ou",
        "outputId": "7a3e8266-164d-4002-8b8a-4aba8fe27902"
      },
      "execution_count": 4,
      "outputs": [
        {
          "output_type": "stream",
          "name": "stdout",
          "text": [
            "1\n"
          ]
        }
      ]
    },
    {
      "cell_type": "markdown",
      "source": [
        "# 15. Write a code to create a tuple containing three different fruits and check if \"kiwi\" is in it"
      ],
      "metadata": {
        "id": "IoEuibtvVEqm"
      }
    },
    {
      "cell_type": "code",
      "source": [
        "my_tuple = ('apple', 'banana', 'orange')\n",
        "if 'kiwi' in my_tuple:\n",
        "    print(\"kiwi is in the tuple\")\n",
        "else:\n",
        "    print(\"kiwi is not in the tuple\")"
      ],
      "metadata": {
        "colab": {
          "base_uri": "https://localhost:8080/"
        },
        "id": "W_t3JGNiXAsW",
        "outputId": "55587cea-048f-4b81-e41a-dc42bdf3c144"
      },
      "execution_count": 5,
      "outputs": [
        {
          "output_type": "stream",
          "name": "stdout",
          "text": [
            "kiwi is not in the tuple\n"
          ]
        }
      ]
    },
    {
      "cell_type": "markdown",
      "source": [
        "# 16. Write a code to create a set with the elements 'a', 'b', 'c' and print it."
      ],
      "metadata": {
        "id": "VD9QPz_5VEnV"
      }
    },
    {
      "cell_type": "code",
      "source": [
        "my_set = {'a', 'b', 'c'}\n",
        "print(my_set)"
      ],
      "metadata": {
        "colab": {
          "base_uri": "https://localhost:8080/"
        },
        "id": "2NS5iW6fXJ9-",
        "outputId": "9e93a2f3-8429-45ae-c947-f309735c8f04"
      },
      "execution_count": 6,
      "outputs": [
        {
          "output_type": "stream",
          "name": "stdout",
          "text": [
            "{'b', 'c', 'a'}\n"
          ]
        }
      ]
    },
    {
      "cell_type": "markdown",
      "source": [
        "# 17. Write a code to clear all elements from the set {1, 2, 3, 4, 5}"
      ],
      "metadata": {
        "id": "0Tw4v_hsVEj3"
      }
    },
    {
      "cell_type": "code",
      "source": [
        "my_set = {1, 2, 3, 4, 5}\n",
        "my_set.clear()\n",
        "print(my_set)"
      ],
      "metadata": {
        "colab": {
          "base_uri": "https://localhost:8080/"
        },
        "id": "UpgYQOr2XQr-",
        "outputId": "7e1a7393-2a3f-4343-baca-51b0d795cb11"
      },
      "execution_count": 7,
      "outputs": [
        {
          "output_type": "stream",
          "name": "stdout",
          "text": [
            "set()\n"
          ]
        }
      ]
    },
    {
      "cell_type": "markdown",
      "source": [
        "# 18. Write a code to remove the element 4 from the set {1, 2, 3, 4}"
      ],
      "metadata": {
        "id": "iIJdIUwiVEgm"
      }
    },
    {
      "cell_type": "code",
      "source": [
        "set1 = {1, 2, 3, 4}\n",
        "set1.remove(4)\n",
        "print(set1)"
      ],
      "metadata": {
        "colab": {
          "base_uri": "https://localhost:8080/"
        },
        "id": "cOJNEqFQXWrv",
        "outputId": "3e808760-343d-4353-e934-f021b54d8d4e"
      },
      "execution_count": 8,
      "outputs": [
        {
          "output_type": "stream",
          "name": "stdout",
          "text": [
            "{1, 2, 3}\n"
          ]
        }
      ]
    },
    {
      "cell_type": "markdown",
      "source": [
        "# 19. Write a code to find the union of two sets {1, 2, 3} and {3, 4, 5}"
      ],
      "metadata": {
        "id": "cRaoWYEoVEdX"
      }
    },
    {
      "cell_type": "code",
      "source": [
        "set1 = {1, 2, 3}\n",
        "set2 = {3, 4, 5}\n",
        "union_set = set1.union(set2)\n",
        "print(union_set)"
      ],
      "metadata": {
        "colab": {
          "base_uri": "https://localhost:8080/"
        },
        "id": "QC2ZyjqwXc9G",
        "outputId": "c790f581-617b-4831-cc13-bff8b4175e4a"
      },
      "execution_count": 9,
      "outputs": [
        {
          "output_type": "stream",
          "name": "stdout",
          "text": [
            "{1, 2, 3, 4, 5}\n"
          ]
        }
      ]
    },
    {
      "cell_type": "markdown",
      "source": [
        "# 20. Write a code to find the intersection of two sets {1, 2, 3} and {2, 3, 4}"
      ],
      "metadata": {
        "id": "l8IRjq-VVEaW"
      }
    },
    {
      "cell_type": "code",
      "source": [
        "set1 = {1, 2, 3}\n",
        "set2 = {2, 3, 4}\n",
        "intersection_set = set1.intersection(set2)\n",
        "print(intersection_set)"
      ],
      "metadata": {
        "colab": {
          "base_uri": "https://localhost:8080/"
        },
        "id": "KZH-2FMBXktm",
        "outputId": "1c1feae7-72a3-4b63-ab08-38eda6677d02"
      },
      "execution_count": 10,
      "outputs": [
        {
          "output_type": "stream",
          "name": "stdout",
          "text": [
            "{2, 3}\n"
          ]
        }
      ]
    },
    {
      "cell_type": "markdown",
      "source": [
        "# 21. Write a code to create a dictionary with the keys \"name\", \"age\", and \"city\", and print it"
      ],
      "metadata": {
        "id": "7D8V1CgPVEW4"
      }
    },
    {
      "cell_type": "code",
      "source": [
        "my_dict = {'name': 'John', 'age': 25, 'city': 'New York'}\n",
        "print(my_dict)"
      ],
      "metadata": {
        "colab": {
          "base_uri": "https://localhost:8080/"
        },
        "id": "bZu_tWITXpqu",
        "outputId": "aaefd170-cb08-460b-8900-fcfbbe98ad33"
      },
      "execution_count": 11,
      "outputs": [
        {
          "output_type": "stream",
          "name": "stdout",
          "text": [
            "{'name': 'John', 'age': 25, 'city': 'New York'}\n"
          ]
        }
      ]
    },
    {
      "cell_type": "markdown",
      "source": [
        "# 22. Write a code to add a new key-value pair \"country\": \"USA\" to the dictionary {'name': 'John', 'age': 25}."
      ],
      "metadata": {
        "id": "UP7Kcw6aVwef"
      }
    },
    {
      "cell_type": "code",
      "source": [
        "my_dict = {'name': 'John', 'age': 25}\n",
        "my_dict['country'] = 'USA'\n",
        "print(my_dict)"
      ],
      "metadata": {
        "colab": {
          "base_uri": "https://localhost:8080/"
        },
        "id": "twcr4cqhXy9G",
        "outputId": "4c72eb26-9ae9-46c4-92ce-96bafd4b614c"
      },
      "execution_count": 12,
      "outputs": [
        {
          "output_type": "stream",
          "name": "stdout",
          "text": [
            "{'name': 'John', 'age': 25, 'country': 'USA'}\n"
          ]
        }
      ]
    },
    {
      "cell_type": "markdown",
      "source": [
        "# 23. Write a code to access the value associated with the key \"name\" in the dictionary {'name': 'Alice', 'age': 30}."
      ],
      "metadata": {
        "id": "QAfJ15Y3VwX_"
      }
    },
    {
      "cell_type": "code",
      "source": [
        "my_dict = {'name': 'Alice', 'age': 30}\n",
        "value = my_dict['name']\n",
        "print(value)"
      ],
      "metadata": {
        "colab": {
          "base_uri": "https://localhost:8080/"
        },
        "id": "U4aCHaveX7bW",
        "outputId": "0718d12d-6901-4ef7-b88c-56050da4072f"
      },
      "execution_count": 13,
      "outputs": [
        {
          "output_type": "stream",
          "name": "stdout",
          "text": [
            "Alice\n"
          ]
        }
      ]
    },
    {
      "cell_type": "markdown",
      "source": [
        "# 24. Write a code to remove the key \"age\" from the dictionary {'name': 'Bob', 'age': 22, 'city': 'New York'}."
      ],
      "metadata": {
        "id": "lNHPO9f2VwU-"
      }
    },
    {
      "cell_type": "code",
      "source": [
        "dict1 = {'name': 'Bob', 'age': 22, 'city': 'New York'}\n",
        "del dict1['age']\n",
        "print(dict1)"
      ],
      "metadata": {
        "colab": {
          "base_uri": "https://localhost:8080/"
        },
        "id": "t84vjZqsYIxG",
        "outputId": "e51de35a-b9c5-4cfc-d86e-3a4b316f13cb"
      },
      "execution_count": 14,
      "outputs": [
        {
          "output_type": "stream",
          "name": "stdout",
          "text": [
            "{'name': 'Bob', 'city': 'New York'}\n"
          ]
        }
      ]
    },
    {
      "cell_type": "markdown",
      "source": [
        "# 25. Write a code to check if the key \"city\" exists in the dictionary {'name': 'Alice', 'city': 'Paris'}."
      ],
      "metadata": {
        "id": "Su_88LjaVwR-"
      }
    },
    {
      "cell_type": "code",
      "source": [
        "my_dict = {'name': 'Alice', 'city': 'Paris'}\n",
        "if 'city' in my_dict:\n",
        "    print(\"The key 'city' exists in the dictionary.\")\n",
        "else:\n",
        "    print(\"The key 'city' does not exist in the dictionary.\")"
      ],
      "metadata": {
        "colab": {
          "base_uri": "https://localhost:8080/"
        },
        "id": "eIr3XbT-YVxu",
        "outputId": "9da37801-7e05-46af-bece-4a17e7b9037f"
      },
      "execution_count": 15,
      "outputs": [
        {
          "output_type": "stream",
          "name": "stdout",
          "text": [
            "The key 'city' exists in the dictionary.\n"
          ]
        }
      ]
    },
    {
      "cell_type": "markdown",
      "source": [
        "# 26. Write a code to create a list, a tuple, and a dictionary, and print them all"
      ],
      "metadata": {
        "id": "NCqe1U8bVwPG"
      }
    },
    {
      "cell_type": "code",
      "source": [
        "my_list = [1, 2, 3, 4, 5]\n",
        "my_tuple = (10, 20, 30, 40, 50)\n",
        "my_dict = {'name': 'John', 'age': 25, 'city': 'New York'}\n",
        "print(\"List:\", my_list)\n",
        "print(\"Tuple:\", my_tuple)\n",
        "print(\"Dictionary:\", my_dict)"
      ],
      "metadata": {
        "colab": {
          "base_uri": "https://localhost:8080/"
        },
        "id": "lTh7ZTbwYgt-",
        "outputId": "37be724b-c329-4b8a-f3bc-76740346593a"
      },
      "execution_count": 16,
      "outputs": [
        {
          "output_type": "stream",
          "name": "stdout",
          "text": [
            "List: [1, 2, 3, 4, 5]\n",
            "Tuple: (10, 20, 30, 40, 50)\n",
            "Dictionary: {'name': 'John', 'age': 25, 'city': 'New York'}\n"
          ]
        }
      ]
    },
    {
      "cell_type": "markdown",
      "source": [
        "# 27. Write a code to create a list of 5 random numbers between 1 and 100, sort it in ascending order, and print the  result.(replaced)\n"
      ],
      "metadata": {
        "id": "tMFQ-8IcVwMm"
      }
    },
    {
      "cell_type": "code",
      "source": [
        "my_list = [50, 20, 90, 10, 70]\n",
        "my_list.sort()\n",
        "print(my_list)"
      ],
      "metadata": {
        "colab": {
          "base_uri": "https://localhost:8080/"
        },
        "id": "CUErSCyvY0V-",
        "outputId": "48d79d5d-ede7-4d16-a64f-28521f573b96"
      },
      "execution_count": 17,
      "outputs": [
        {
          "output_type": "stream",
          "name": "stdout",
          "text": [
            "[10, 20, 50, 70, 90]\n"
          ]
        }
      ]
    },
    {
      "cell_type": "markdown",
      "source": [
        "#28. Write a code to create a list with strings and print the element at the third index"
      ],
      "metadata": {
        "id": "qFEcPX4iVwJ2"
      }
    },
    {
      "cell_type": "code",
      "source": [
        "my_list = [\"apple\", \"banana\", \"cherry\", \"date\", \"elderberry\"]\n",
        "third_element = my_list[2]\n",
        "print(third_element)"
      ],
      "metadata": {
        "colab": {
          "base_uri": "https://localhost:8080/"
        },
        "id": "sEY9QHNNZIbO",
        "outputId": "40f29fda-9916-48ac-c04f-c295a1756bfb"
      },
      "execution_count": 18,
      "outputs": [
        {
          "output_type": "stream",
          "name": "stdout",
          "text": [
            "cherry\n"
          ]
        }
      ]
    },
    {
      "cell_type": "markdown",
      "source": [
        "# 29. Write a code to combine two dictionaries into one and print the result"
      ],
      "metadata": {
        "id": "mUryROa9VwG-"
      }
    },
    {
      "cell_type": "code",
      "source": [
        "dict1 = {'a': 1, 'b': 2}\n",
        "dict2 = {'c': 3, 'd': 4}\n",
        "combined_dict = {**dict1, **dict2}\n",
        "print(combined_dict)"
      ],
      "metadata": {
        "colab": {
          "base_uri": "https://localhost:8080/"
        },
        "id": "Uto9_dwLZTQH",
        "outputId": "60d8abc5-c12d-442b-eb91-c9db8a3c63ab"
      },
      "execution_count": 19,
      "outputs": [
        {
          "output_type": "stream",
          "name": "stdout",
          "text": [
            "{'a': 1, 'b': 2, 'c': 3, 'd': 4}\n"
          ]
        }
      ]
    },
    {
      "cell_type": "markdown",
      "source": [
        "#30. Write a code to convert a list of strings into a set"
      ],
      "metadata": {
        "id": "gMVaEdABVwEO"
      }
    },
    {
      "cell_type": "code",
      "source": [
        "my_list = [\"apple\", \"banana\", \"cherry\", \"date\", \"elderberry\"]\n",
        "my_set = set(my_list)\n",
        "print(my_set)"
      ],
      "metadata": {
        "colab": {
          "base_uri": "https://localhost:8080/"
        },
        "id": "_nSdlsbwZayY",
        "outputId": "ac7bb002-ed7f-4097-99d9-6eed58df05a3"
      },
      "execution_count": 25,
      "outputs": [
        {
          "output_type": "stream",
          "name": "stdout",
          "text": [
            "{'cherry', 'elderberry', 'date', 'banana', 'apple'}\n"
          ]
        }
      ]
    },
    {
      "cell_type": "markdown",
      "source": [],
      "metadata": {
        "id": "HOd33zFmVwA2"
      }
    }
  ]
}