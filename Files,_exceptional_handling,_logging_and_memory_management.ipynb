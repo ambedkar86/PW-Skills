{
  "nbformat": 4,
  "nbformat_minor": 0,
  "metadata": {
    "colab": {
      "provenance": []
    },
    "kernelspec": {
      "name": "python3",
      "display_name": "Python 3"
    },
    "language_info": {
      "name": "python"
    }
  },
  "cells": [
    {
      "cell_type": "markdown",
      "source": [
        "# Files, exceptional handling, logging and memory management Questions"
      ],
      "metadata": {
        "id": "PPNvX1AIV0No"
      }
    },
    {
      "cell_type": "markdown",
      "source": [
        "##1. What is the difference between interpreted and compiled languages?\n",
        "  - **Compiled language:**  Source code is translated entirely into machine code by a compiler before it is run. The resulting machine code is then run directly by the system.\n",
        "    \n",
        "    Examples: C, C++.\n",
        "\n",
        "  - **Interpreted language:**  Source code is read and executed line-by-line by an interpreter at runtime.No separate machine code file is created; the interpreter runs the code directly.\n",
        "  \n",
        "    Examples: Python, JavaScript."
      ],
      "metadata": {
        "id": "p4PonmaMV0LI"
      }
    },
    {
      "cell_type": "markdown",
      "source": [
        "##2. What is exception handling in Python ?\n",
        "  -  Exception handling in Python is a mechanism that allows programs to gracefully manage and respond to runtime errors, known as exceptions, instead of crashing abruptly. It enables developers to anticipate potential issues and provide alternative code paths or informative messages when errors occur, making the code more robust and user-friendly."
      ],
      "metadata": {
        "id": "RKfKEpJBV0F4"
      }
    },
    {
      "cell_type": "markdown",
      "source": [
        "##3. What is the purpose of the finally block in exception handling ?\n",
        "   - The finally block is used to ensure that certain code always runs, no matter what happens. whether an exception was raised or not."
      ],
      "metadata": {
        "id": "Jjsg6OYZV0DA"
      }
    },
    {
      "cell_type": "code",
      "source": [
        "try:\n",
        "    x = int(input(\"Enter a number: \"))\n",
        "    y = 10 / x\n",
        "except ValueError:\n",
        "    print(\"Invalid input: not a number.\")\n",
        "finally:\n",
        "  print(\"done\")"
      ],
      "metadata": {
        "colab": {
          "base_uri": "https://localhost:8080/"
        },
        "id": "TmjNYIKzjemw",
        "outputId": "f5840249-cefc-4310-ee1b-f755f033be31"
      },
      "execution_count": null,
      "outputs": [
        {
          "output_type": "stream",
          "name": "stdout",
          "text": [
            "Enter a number: a\n",
            "Invalid input: not a number.\n",
            "done\n"
          ]
        }
      ]
    },
    {
      "cell_type": "markdown",
      "source": [
        "##4. What is logging in Python ?\n",
        "  -  Logging in Python is a mechanism for tracking events that occur during the execution of a program. It involves recording information about these events, such as errors, warnings, or informational messages, to various destinations like the console, a file, or even a remote server.\n",
        "\n",
        "\n",
        "   - The core of Python's logging functionality is provided by the built-in logging module. This module allows developers to:\n",
        "\n",
        "     - Record Events: Add logging calls within their code to mark specific events.\n",
        "     - Assign Levels of Severity: Categorize log messages based on their importance using predefined levels:\n",
        "        - DEBUG: Detailed information, useful for diagnosing problems.\n",
        "        - INFO: Confirmation that things are working as expected.\n",
        "        - WARNING: Indication of something unexpected or a potential problem.\n",
        "        - ERROR: A more serious problem preventing the software from performing a function.\n",
        "        - CRITICAL: A severe error indicating the program may be unable to continue.\n",
        "\n",
        "        Example:-  \n",
        "        import logging\n",
        "        \n",
        "        logging.basicConfig(filename=\"xyx.txt\",level=logging.INFO)"
      ],
      "metadata": {
        "id": "4rPnW9tfV0AQ"
      }
    },
    {
      "cell_type": "markdown",
      "source": [
        "##5. What is the significance of the __del__ method in Python ?\n",
        "  - The __del__ method in Python, often referred to as a destructor, holds significance primarily in resource management. It is a special method that is automatically invoked when an object is about to be destroyed, typically during garbage collection or when its reference count drops to zero.\n",
        "\n",
        "  - The key significance of __del__ lies in its ability to facilitate cleanup operations for resources held by an object. This can include:\n",
        "\n",
        "    - **Closing open files**: Ensuring that file handles are properly released.\n",
        "    - **Releasing network connections**: Closing sockets or other network resources.\n",
        "    - **Freeing up memory or other system resources**: If the object manages external resources not directly handled by Python's garbage collector."
      ],
      "metadata": {
        "id": "8CogYInmVz6o"
      }
    },
    {
      "cell_type": "markdown",
      "source": [
        "##6. What is the difference between import and from ... import in Python ?\n",
        "   - In Python, both import and from ... import statements are used to bring modules or specific components from modules into the current namespace, but they differ in how they manage the namespace and how the imported elements are accessed.\n",
        "  \n",
        "   - import module_name :\n",
        "\n",
        "      - This statement imports the entire module_name and makes it available in the current scope.\n",
        "      - To access any function, class, or variable within the imported module, you must prefix it with the module name and a dot (e.g., module_name.function_name(), module_name.variable).\n",
        "     "
      ],
      "metadata": {
        "id": "XVdWZw5VVz3g"
      }
    },
    {
      "cell_type": "code",
      "source": [
        "#Example:\n",
        "import math\n",
        "math.sqrt(16)"
      ],
      "metadata": {
        "colab": {
          "base_uri": "https://localhost:8080/"
        },
        "id": "PCvLh513nwcA",
        "outputId": "ce9620af-99ea-41f0-febf-c6091222ff3d"
      },
      "execution_count": null,
      "outputs": [
        {
          "output_type": "execute_result",
          "data": {
            "text/plain": [
              "4.0"
            ]
          },
          "metadata": {},
          "execution_count": 5
        }
      ]
    },
    {
      "cell_type": "markdown",
      "source": [
        "  - from module_name import object_name:\n",
        "   \n",
        "     - This statement imports only specific object_name (e.g., a function, class, or variable) from module_name directly into the current namespace.\n",
        "    - You can then use the imported object_name directly without needing to prefix it with the module name.\n",
        "    "
      ],
      "metadata": {
        "id": "SBaXKTxzn3BA"
      }
    },
    {
      "cell_type": "code",
      "source": [
        "#Example:\n",
        "from math import sqrt\n",
        "print(sqrt(25))"
      ],
      "metadata": {
        "colab": {
          "base_uri": "https://localhost:8080/"
        },
        "id": "Z30IVVnepHdJ",
        "outputId": "55c9646c-ab99-4dfa-fe8a-8849a7610325"
      },
      "execution_count": null,
      "outputs": [
        {
          "output_type": "stream",
          "name": "stdout",
          "text": [
            "5.0\n"
          ]
        }
      ]
    },
    {
      "cell_type": "markdown",
      "source": [
        "##7. How can you handle multiple exceptions in Python?\n",
        "  - Multiple exceptions in Python can be handled within a try-except block using a few different methods: multiple except blocks.\n",
        "\n",
        "  - This approach involves using separate except blocks for each specific exception type that needs distinct handling. Only the except block corresponding to the raised exception will be executed."
      ],
      "metadata": {
        "id": "yuA-GtczVz0g"
      }
    },
    {
      "cell_type": "code",
      "source": [
        "try:\n",
        "    x = int(input(\"Enter a number: \"))\n",
        "    y = 10 / x\n",
        "except ValueError:\n",
        "    print(\"Invalid input: not a number.\")\n",
        "except ZeroDivisionError:\n",
        "    print(\"You can't divide by zero.\")"
      ],
      "metadata": {
        "colab": {
          "base_uri": "https://localhost:8080/"
        },
        "id": "tofhoKPSpxug",
        "outputId": "a3087b41-67f4-4e6a-eda4-f37e6d4fe091"
      },
      "execution_count": null,
      "outputs": [
        {
          "output_type": "stream",
          "name": "stdout",
          "text": [
            "Enter a number: 0\n",
            "You can't divide by zero.\n"
          ]
        }
      ]
    },
    {
      "cell_type": "markdown",
      "source": [
        "##8. What is the purpose of the with statement when handling files in Python?\n",
        "  - The with statement in Python, when used for file handling, serves the primary purpose of ensuring that file resources are properly managed and released.\n",
        "\n",
        "  - The with statement in Python is used to simplify file handling by automatically opening and closing files even if an error occurs."
      ],
      "metadata": {
        "id": "otDNf0n4Vzxo"
      }
    },
    {
      "cell_type": "code",
      "source": [
        "# Example\n",
        "with open(\"file.txt\",\"w\")as f:\n",
        "   f.write(\"hello world\")\n"
      ],
      "metadata": {
        "id": "LwGfVLZmq8ZA"
      },
      "execution_count": null,
      "outputs": []
    },
    {
      "cell_type": "markdown",
      "source": [
        "##9.What is the difference between multithreading and multiprocessing?\n",
        "  - Multiprocessing runs independent processes on multiple CPUs for true parallelism, ideal for CPU-bound tasks, while multithreading runs multiple threads within a single process, sharing memory for better concurrency and throughput, suitable for I/O-bound tasks.\n",
        "  \n",
        "  - The fundamental difference is that processes have separate memory spaces, making them isolated and robust, whereas threads share a process's memory, making them lightweight and efficient but potentially vulnerable to race conditions if not managed carefully.\n"
      ],
      "metadata": {
        "id": "rVXEDFj8Vzuo"
      }
    },
    {
      "cell_type": "markdown",
      "source": [
        "##10. What are the advantages of using logging in a program ?\n",
        "   -  Helps Debugging:\n",
        "Logging records detailed information about what the program is doing, making it easier to find and fix problems.\n",
        "\n",
        "  - Keeps a Permanent Record:\n",
        "Logs can be saved to files, so you can review program activity even after it has finished running.\n",
        "\n",
        "  -  Provides Different Levels of Messages:\n",
        "You can categorize logs by importance (e.g., INFO, WARNING, ERROR), helping you focus on what matters most.\n",
        "\n",
        "  - Better than Print Statements:\n",
        "Unlike print, logging can be turned on or off and can be configured to output to different places (files, consoles, etc.)."
      ],
      "metadata": {
        "id": "ri_8bJZSVzrx"
      }
    },
    {
      "cell_type": "markdown",
      "source": [
        "##11. What is memory management in Python ?\n",
        "\n",
        " - Memory management refers to process of allocating and deallocating memory to a program while it runs. Python handles memory management automatically using mechanisms like reference counting and garbage collection, which means programmers do not have to manually manage memory."
      ],
      "metadata": {
        "id": "-vgPqJNBVzo3"
      }
    },
    {
      "cell_type": "markdown",
      "source": [
        "##12. What are the basic steps involved in exception handling in Python ?\n",
        "  - Exception handling in Python involves anticipating and gracefully managing runtime errors, preventing program crashes. The basic steps utilize specific keywords: try, except, else, and finally.\n",
        "\n",
        "  - try Block:\n",
        "     \n",
        "      - This block encloses the code that might potentially raise an exception. It's the \"risky\" part of your code where errors are anticipated.\n",
        "- except Block :\n",
        "\n",
        "    - If an exception occurs within the try block, the program immediately jumps to the corresponding except block. You can specify different except blocks to handle specific types of exceptions (e.g., ZeroDivisionError, ValueError) or a general Exception to catch any unhandled error. The code within the except block defines how to respond to the error, such as printing an error message, logging the error, or taking corrective action.\n",
        "- else Block :\n",
        "\n",
        "    - This block executes only if no exception occurs within the try block. It's useful for placing code that should only run when the try block completes successfully.\n",
        "\n",
        "- finally Block :\n",
        "\n",
        "    - This block always executes, regardless of whether an exception occurred or was handled. It's typically used for cleanup operations, such as closing files or releasing resources, ensuring these actions happen even if an error disrupts the normal flow.\n"
      ],
      "metadata": {
        "id": "TxWjeQoLVzl4"
      }
    },
    {
      "cell_type": "code",
      "source": [
        "try:\n",
        "    # Code that might raise an exception\n",
        "    numerator = int(input(\"Enter numerator: \"))\n",
        "    denominator = int(input(\"Enter denominator: \"))\n",
        "    result = numerator / denominator\n",
        "except ZeroDivisionError:\n",
        "    print(\"Error: Cannot divide by zero.\")\n",
        "except ValueError:\n",
        "    print(\"Error: Invalid input. Please enter integers.\")\n",
        "else:\n",
        "    print(f\"The result is: {result}\")\n",
        "finally:\n",
        "    print(\"Execution of the division attempt is complete.\")"
      ],
      "metadata": {
        "colab": {
          "base_uri": "https://localhost:8080/"
        },
        "id": "2hLUdUiOuWpu",
        "outputId": "d6d876d2-18f4-4537-8dd2-ad19c0a7a654"
      },
      "execution_count": null,
      "outputs": [
        {
          "output_type": "stream",
          "name": "stdout",
          "text": [
            "Enter numerator: 2\n",
            "Enter denominator: 6\n",
            "The result is: 0.3333333333333333\n",
            "Execution of the division attempt is complete.\n"
          ]
        }
      ]
    },
    {
      "cell_type": "markdown",
      "source": [
        "##13. Why is memory management important in Python ?\n",
        "  - Memory management is important in Python because it helps ensure that your programs run efficiently and reliably.Memory management in Python is crucial because it keeps your program fast, stable, and resource-friendly by automatically managing how memory is used and freed."
      ],
      "metadata": {
        "id": "86ZrMymNVzjI"
      }
    },
    {
      "cell_type": "markdown",
      "source": [
        "##14. What is the role of try and except in exception handling ?\n",
        "  - The try and except blocks are fundamental components of exception handling in programming, particularly in languages like Python. Their primary role is to gracefully manage errors that occur during program execution, preventing crashes and allowing for controlled responses to unexpected situations.\n",
        "\n",
        "  - **try block:**\n",
        "\n",
        "    - This block encloses the code that is susceptible to raising an exception. The program attempts to execute the code within the try block. If an error, or \"exception,\" occurs during this execution, the try block's execution is immediately halted, and control is transferred to the corresponding except block. If no exception occurs, the try block completes its execution, and the except block is skipped.\n",
        "\n",
        " - **except block:**\n",
        "\n",
        "    - This block follows a try block and contains the code that is executed when a specific type of exception (or any exception, if not specified) occurs within the preceding try block. The except block allows for handling the error, such as logging the error, providing a user-friendly message, or attempting to recover from the error. Multiple except blocks can be used to handle different types of exceptions, allowing for more specific error management.\n",
        "\n",
        "  -  In essence, the try block anticipates potential errors, while the except block provides the mechanism to \"catch\" and manage those errors when they arise, ensuring the program's continued operation and preventing abrupt termination.\n"
      ],
      "metadata": {
        "id": "933I78jeVzgR"
      }
    },
    {
      "cell_type": "markdown",
      "source": [
        "##15.  How does Python's garbage collection system work ?\n",
        "  - Python’s garbage collection (GC) system automatically manages memory by removing objects that are no longer needed so that memory can be reused."
      ],
      "metadata": {
        "id": "800PnrJlVzdp"
      }
    },
    {
      "cell_type": "markdown",
      "source": [
        "##16. What is the purpose of the else block in exception handling ?\n",
        "  - The purpose of the else block in exception handling, particularly in Python's try...except...else structure, is to execute a block of code only if no exception is raised within the corresponding try block."
      ],
      "metadata": {
        "id": "8juvGINEVzaw"
      }
    },
    {
      "cell_type": "code",
      "source": [
        "try:\n",
        "    result = 10 / 2\n",
        "except ZeroDivisionError:\n",
        "    print(\"Cannot divide by zero.\")\n",
        "else:\n",
        "    print(\"Division successful! Result is\", result)"
      ],
      "metadata": {
        "colab": {
          "base_uri": "https://localhost:8080/"
        },
        "id": "W5hFp0_7vZ7X",
        "outputId": "d48e3cc0-0b57-496e-9210-be2e2b34ab2f"
      },
      "execution_count": null,
      "outputs": [
        {
          "output_type": "stream",
          "name": "stdout",
          "text": [
            "Division successful! Result is 5.0\n"
          ]
        }
      ]
    },
    {
      "cell_type": "markdown",
      "source": [
        "##17.What are the common logging levels in Python ?\n",
        "  - Python's built-in logging module defines several standard logging levels, indicating the severity of an event. These levels are used to categorize and filter log messages effectively, allowing for control over the verbosity of logs.\n",
        "\n",
        "  - The common logging levels, in increasing order of severity, are:\n",
        "   \n",
        "    - DEBUG : Detailed information, typically of interest only when diagnosing problems. This level is usually used during development and debugging.\n",
        "\n",
        "    - INFO : Confirmation that things are working as expected. This level provides general information on the program's operation.\n",
        "\n",
        "    - WARNING :  An indication that something unexpected happened or could happen soon, but the software is still working as expected. This might include minor issues or potential problems.\n",
        "\n",
        "    - ERROR : A more serious problem that has prevented the software from performing some function. The program might still be running, but a specific operation has failed.\n",
        "\n",
        "    - CRITICAL : A severe error indicating that the program itself may be unable to continue running. This level suggests a critical failure that requires immediate attention.\n"
      ],
      "metadata": {
        "id": "OFft56SYVzX4"
      }
    },
    {
      "cell_type": "markdown",
      "source": [
        "##18. What is the difference between os.fork() and multiprocessing in Python ?\n",
        "  - os.fork(): A low-level function available on Unix/Linux systems only.\n",
        "It creates a child process by duplicating the current process.\n",
        "Both parent and child processes continue running from the same point in the code.\n",
        "\n",
        " -  multiprocessing Module:A high-level Python module for creating and managing separate processes.Works on all platforms (Windows, macOS, Linux).\n",
        "Provides easy-to-use classes like Process, Queue, Pool, etc.\n"
      ],
      "metadata": {
        "id": "vY8L1Q3KVzVQ"
      }
    },
    {
      "cell_type": "markdown",
      "source": [
        "##19.What is the importance of closing a file in Python ?\n",
        "  - Closing a file in Python is important to ensure that your program uses system resources properly and does not lose data."
      ],
      "metadata": {
        "id": "JcuLP9mMVzSQ"
      }
    },
    {
      "cell_type": "markdown",
      "source": [
        "##20. What is the difference between file.read() and file.readline() in Python ?\n",
        "\n",
        "  - file.read() : In this we can read the whole file in one go.\n",
        "\n",
        "  \n",
        "     with open(\"file.txt\",\"r\")as f:\n",
        "\n",
        "      r=f.read()\n",
        "\n",
        "      print(r)\n",
        "\n",
        "\n",
        " - file.readline(): in this we can read first line of our file.\n",
        "\n",
        "\n",
        "   with open(\"file.txt\",\"r\")as f:\n",
        "\n",
        "   r=f.readline()\n",
        "   \n",
        "   print(r)\n",
        "\n",
        "\n",
        "\n"
      ],
      "metadata": {
        "id": "WmWOo0hhVzPJ"
      }
    },
    {
      "cell_type": "markdown",
      "source": [
        "##21.What is the logging module in Python used for ?\n",
        "  - The logging module in Python is used to record messages that describe events happening in your program. It helps you track errors, monitor performance, and understand how your code is running — without using print() statements."
      ],
      "metadata": {
        "id": "lEahuULpYNi2"
      }
    },
    {
      "cell_type": "markdown",
      "source": [
        "##22. What is the os module in Python used for in file handling?\n",
        "   - The os module in Python provides a way to interact with the operating system, including a wide range of functionalities for file and directory handling. It allows Python programs to perform operations that are typically managed by the underlying operating system.\n",
        "\n",
        "   - OS-Module Functions\n",
        "\n",
        "       - Handling the Current Working Directory\n",
        "       - Creating a Directory\n",
        "       - Listing out Files and Directories with Python\n",
        "       - Deleting Directory or Files using Python\n",
        "       - File Permissions and Metadata"
      ],
      "metadata": {
        "id": "9OVbITXlYNf-"
      }
    },
    {
      "cell_type": "markdown",
      "source": [
        "##23. What are the challenges associated with memory management in Python?\n",
        "  - Poor memory management can lead to various issues such as memory leaks, fragmentation, excessive paging, and crashes, which indirectly degrade system performance and stability."
      ],
      "metadata": {
        "id": "MIrHevJCYNaX"
      }
    },
    {
      "cell_type": "markdown",
      "source": [
        "##24. How do you raise an exception manually in Python?\n",
        "  - In Python, exceptions are manually raised using the raise keyword. This allows developers to explicitly trigger an error condition at a specific point in the code, interrupting the normal flow of execution."
      ],
      "metadata": {
        "id": "feZBAiaNYNXu"
      }
    },
    {
      "cell_type": "markdown",
      "source": [
        "##25. Why is it important to use multithreading in certain applications?\n",
        "\n",
        "  - Multithreading is important in certain applications for several reasons:\n",
        "\n",
        "1. **Improved Responsiveness:** In applications with user interfaces or network operations, multithreading can prevent the application from freezing while waiting for a task to complete. One thread can handle the long-running task while another thread keeps the UI responsive.\n",
        "\n",
        "2. **Better Resource Utilization:** For I/O-bound tasks (tasks that spend a lot of time waiting for input/output operations, like reading from a file or network), multithreading allows the CPU to switch to another thread while one thread is waiting. This makes better use of available resources.\n",
        "\n",
        "3. **Simplified Design for Concurrent Tasks:** When an application needs to perform multiple tasks concurrently (like handling multiple client connections in a server), using separate threads for each task can simplify the program's structure and make it easier to manage.\n",
        "\n",
        "4. **Parallelism (in some cases):** Although Python's Global Interpreter Lock (GIL) limits true parallel execution of CPU-bound tasks in multiple threads on multi-core processors, multithreading can still provide a form of concurrency that is beneficial for I/O-bound operations. In other languages without a GIL, multithreading can achieve true parallelism for CPU-bound tasks\n",
        "\n"
      ],
      "metadata": {
        "id": "5phHUxEmYNU3"
      }
    },
    {
      "cell_type": "markdown",
      "source": [
        "# Practical Questions"
      ],
      "metadata": {
        "id": "ax7BJ9e1YNR_"
      }
    },
    {
      "cell_type": "markdown",
      "source": [
        "##1. How can you open a file for writing in Python and write a string to it ?"
      ],
      "metadata": {
        "id": "I4XIrC4eYNO_"
      }
    },
    {
      "cell_type": "code",
      "source": [
        "with open(\"file.txt\",\"w\") as f:\n",
        "    f.write(\"Hey, my name is rahul\")\n",
        "    f.write(\"\\nI am in DS course\")"
      ],
      "metadata": {
        "id": "M4k9sDC92cat"
      },
      "execution_count": 11,
      "outputs": []
    },
    {
      "cell_type": "markdown",
      "source": [
        "##2. Write a Python program to read the contents of a file and print each line.\n"
      ],
      "metadata": {
        "id": "rXq75-GeYNMP"
      }
    },
    {
      "cell_type": "code",
      "source": [
        "with open(\"file.txt\",\"r\") as f:\n",
        "  print(f.read())"
      ],
      "metadata": {
        "colab": {
          "base_uri": "https://localhost:8080/"
        },
        "id": "AGPuTlQN2kXF",
        "outputId": "6056480a-fe99-40c8-a7a0-e362443b82c0"
      },
      "execution_count": 13,
      "outputs": [
        {
          "output_type": "stream",
          "name": "stdout",
          "text": [
            "Hey, my name is rahul\n",
            "I am in DS course\n"
          ]
        }
      ]
    },
    {
      "cell_type": "markdown",
      "source": [
        "##3. How would you handle a case where the file doesn't exist while trying to open it for reading ?"
      ],
      "metadata": {
        "id": "3aC3Y3qmYNJA"
      }
    },
    {
      "cell_type": "code",
      "source": [
        "try:\n",
        "  with open(\"file_test.txt\",\"r\") as f:\n",
        "    r = f.read()\n",
        "    print(r)\n",
        "except FileNotFoundError as e:\n",
        "  print(\"error is:\",e)"
      ],
      "metadata": {
        "colab": {
          "base_uri": "https://localhost:8080/"
        },
        "id": "ZXe4m9dZ27Ct",
        "outputId": "e6cc3edf-2134-4f4f-daa2-adf1b887edc2"
      },
      "execution_count": null,
      "outputs": [
        {
          "output_type": "stream",
          "name": "stdout",
          "text": [
            "error is: [Errno 2] No such file or directory: 'file_test.txt'\n"
          ]
        }
      ]
    },
    {
      "cell_type": "markdown",
      "source": [
        "##4. Write a Python script that reads from one file and writes its content to another file."
      ],
      "metadata": {
        "id": "muDIrVdQYNFv"
      }
    },
    {
      "cell_type": "code",
      "source": [
        "with open(\"file.txt\",\"r\")as f:\n",
        "  print(f.read())\n",
        "\n",
        "with open(\"file.txt\",\"r\") as firstfile:\n",
        "  with open(\"second_file.txt\",\"a\") as secondfile:\n",
        "    for line in firstfile:\n",
        "      secondfile.write(line)\n",
        "\n",
        "with open(\"second_file.txt\",\"r\")as f:\n",
        "  print(f.read())"
      ],
      "metadata": {
        "id": "I-FCLssa3ER1",
        "colab": {
          "base_uri": "https://localhost:8080/"
        },
        "outputId": "f0f91b61-28e1-4476-c3aa-d8e988861cb8"
      },
      "execution_count": null,
      "outputs": [
        {
          "output_type": "stream",
          "name": "stdout",
          "text": [
            "Hey, my name is rahul\n",
            "I am in DS course\n",
            "Hey, my name is rahul\n",
            "I am in DS course\n"
          ]
        }
      ]
    },
    {
      "cell_type": "markdown",
      "source": [
        "##5. How would you catch and handle division by zero error in Python ?"
      ],
      "metadata": {
        "id": "3sdT8vUGZNzf"
      }
    },
    {
      "cell_type": "code",
      "source": [
        "try:\n",
        "  print(10/0)\n",
        "except ZeroDivisionError as e:\n",
        "  print(\"error is:\",e)"
      ],
      "metadata": {
        "colab": {
          "base_uri": "https://localhost:8080/"
        },
        "id": "_wn88pxJbWTS",
        "outputId": "5ff7b338-78ea-4735-e5f8-3819f8c6fc7d"
      },
      "execution_count": null,
      "outputs": [
        {
          "output_type": "stream",
          "name": "stdout",
          "text": [
            "error is: division by zero\n"
          ]
        }
      ]
    },
    {
      "cell_type": "markdown",
      "source": [
        "##6. Write a Python program that logs an error message to a log file when a division by zero exception occurs."
      ],
      "metadata": {
        "id": "-IuIbwURZNv3"
      }
    },
    {
      "cell_type": "code",
      "source": [
        "import logging\n",
        "logging.basicConfig(filename='error.log', level=logging.ERROR)\n",
        "\n",
        "try:\n",
        "  result = 10 / 0\n",
        "except ZeroDivisionError as e:\n",
        "  logging.error(\"Division by zero error occurred: %s\", e)\n",
        "  print(\"An error occurred and has been logged.\")"
      ],
      "metadata": {
        "colab": {
          "base_uri": "https://localhost:8080/"
        },
        "id": "tEyhNMESbbLJ",
        "outputId": "3edf2233-3cd5-4f66-c6f2-5a8f9b550159"
      },
      "execution_count": null,
      "outputs": [
        {
          "output_type": "stream",
          "name": "stderr",
          "text": [
            "ERROR:root:Division by zero error occurred: division by zero\n"
          ]
        },
        {
          "output_type": "stream",
          "name": "stdout",
          "text": [
            "An error occurred and has been logged.\n"
          ]
        }
      ]
    },
    {
      "cell_type": "markdown",
      "source": [
        "##7. How do you log information at different levels (INFO, ERROR, WARNING) in Python using the logging module ?\n"
      ],
      "metadata": {
        "id": "uOS_2jZeZNr_"
      }
    },
    {
      "cell_type": "code",
      "source": [
        "import logging\n",
        "logging.basicConfig(filename=\"test_log.txt\",level=logging.INFO)\n",
        "\n",
        "logging.info(\"this is info message\")\n",
        "logging.error(\"this is error message\")\n",
        "logging.warning(\"this is last warning\")\n",
        "\n",
        "logging.shutdown()\n"
      ],
      "metadata": {
        "colab": {
          "base_uri": "https://localhost:8080/"
        },
        "id": "Aq7rWg8Hbkmb",
        "outputId": "c1eb9b17-5e0e-4575-c6fa-023bef23f394"
      },
      "execution_count": null,
      "outputs": [
        {
          "output_type": "stream",
          "name": "stderr",
          "text": [
            "ERROR:root:this is error message\n",
            "WARNING:root:this is last warning\n"
          ]
        }
      ]
    },
    {
      "cell_type": "markdown",
      "source": [
        "##8. Write a program to handle a file opening error using exception handling?\n"
      ],
      "metadata": {
        "id": "gydbEa8-ZNli"
      }
    },
    {
      "cell_type": "code",
      "source": [
        "try:\n",
        "  with open(\"test.txt\",\"r\") as f:\n",
        "    r = f.read()\n",
        "    print(r)\n",
        "except FileNotFoundError as e:\n",
        "  print(\"error is:\",e)"
      ],
      "metadata": {
        "colab": {
          "base_uri": "https://localhost:8080/"
        },
        "id": "tHSIdVMnbrqI",
        "outputId": "b7e9d2b9-37b0-4bbb-8e6d-67ffa927c8cc"
      },
      "execution_count": null,
      "outputs": [
        {
          "output_type": "stream",
          "name": "stdout",
          "text": [
            "error is: [Errno 2] No such file or directory: 'test.txt'\n"
          ]
        }
      ]
    },
    {
      "cell_type": "markdown",
      "source": [
        "##9. How can you read a file line by line and store its content in a list in Python?"
      ],
      "metadata": {
        "id": "Jz1xhZaaZNiI"
      }
    },
    {
      "cell_type": "code",
      "source": [
        "with open(\"file.txt\",\"r\")as f:\n",
        "  r=f.readlines()\n",
        "  print(r)"
      ],
      "metadata": {
        "colab": {
          "base_uri": "https://localhost:8080/"
        },
        "id": "UMlgbTCHby4p",
        "outputId": "11b9ad60-113b-47b0-84b7-71d68cd3a82a"
      },
      "execution_count": null,
      "outputs": [
        {
          "output_type": "stream",
          "name": "stdout",
          "text": [
            "['Hey, my name is rahul\\n', 'I am in DS course']\n"
          ]
        }
      ]
    },
    {
      "cell_type": "markdown",
      "source": [
        "##10. How can you append data to an existing file in Python?"
      ],
      "metadata": {
        "id": "O7yeIys-ZNe3"
      }
    },
    {
      "cell_type": "code",
      "source": [
        "with open(\"file.txt\",\"a\")as f:\n",
        "  f.write(\"\\nmy fees is 20000\")\n"
      ],
      "metadata": {
        "id": "9fpvs5nDcu7K"
      },
      "execution_count": null,
      "outputs": []
    },
    {
      "cell_type": "markdown",
      "source": [
        "##11. Write a Python program that uses a try-except block to handle an error when attempting to access adictionary key that doesn't exist ?"
      ],
      "metadata": {
        "id": "lO5iZ4OtZNbY"
      }
    },
    {
      "cell_type": "code",
      "source": [
        "try:\n",
        " data={\"name\":\"rahul\",\"course\":\"DS\"}\n",
        " print(data[\"age\"])\n",
        "except KeyError as e:\n",
        "  print(\"here there is no key:\",e)"
      ],
      "metadata": {
        "colab": {
          "base_uri": "https://localhost:8080/"
        },
        "id": "_G0fGxdUdhoY",
        "outputId": "2cda9d38-c363-4465-82cc-9fff0caddd5d"
      },
      "execution_count": null,
      "outputs": [
        {
          "output_type": "stream",
          "name": "stdout",
          "text": [
            "here there is no key: 'age'\n"
          ]
        }
      ]
    },
    {
      "cell_type": "markdown",
      "source": [
        "##12. Write a program that demonstrates using multiple except blocks to handle different types of exceptions ?"
      ],
      "metadata": {
        "id": "FtUWFTP5ZNYH"
      }
    },
    {
      "cell_type": "code",
      "source": [
        "try:\n",
        "  x=int(input(\"enter a number:\"))\n",
        "  print(10/x)\n",
        "\n",
        "except ZeroDivisionError as e:\n",
        "  print(\"error is:\",e)\n",
        "except ValueError as e:\n",
        "  print(\"error is:\",e)"
      ],
      "metadata": {
        "colab": {
          "base_uri": "https://localhost:8080/"
        },
        "id": "Akpm95c3dvfZ",
        "outputId": "4e9eca8c-7800-4f59-9cec-306a307badc4"
      },
      "execution_count": null,
      "outputs": [
        {
          "output_type": "stream",
          "name": "stdout",
          "text": [
            "enter a number:0\n",
            "error is: division by zero\n"
          ]
        }
      ]
    },
    {
      "cell_type": "markdown",
      "source": [
        "##13.  How would you check if a file exists before attempting to read it in Python?"
      ],
      "metadata": {
        "id": "cYaUkfniZNVJ"
      }
    },
    {
      "cell_type": "code",
      "source": [
        "import os\n",
        "if os.path.exists(\"file.txt\"):\n",
        "  print(\"file exixts:\")\n",
        "  with open(\"file.txt\",\"r\")as f:\n",
        "    r=f.read()\n",
        "    print(r)\n",
        "else:\n",
        "  print(\"file not found\")"
      ],
      "metadata": {
        "colab": {
          "base_uri": "https://localhost:8080/"
        },
        "id": "89VjLcmsd68x",
        "outputId": "8105baf8-3ae0-4be9-9cc0-ab3f3edaaa7c"
      },
      "execution_count": null,
      "outputs": [
        {
          "output_type": "stream",
          "name": "stdout",
          "text": [
            "file exixts:\n",
            "Hey, my name is rahul\n",
            "I am in DS course\n",
            "my fees is 20000\n",
            "my fees is 20000\n",
            "my name is rahul\n",
            "my fees is 20000\n",
            "my fees is 20000\n",
            "my fees is 20000\n",
            "my fees is 20000\n",
            "my fees is 20000\n",
            "my fees is 20000\n"
          ]
        }
      ]
    },
    {
      "cell_type": "markdown",
      "source": [
        "##14. Write a program that uses the logging module to log both informational and error messages?"
      ],
      "metadata": {
        "id": "T8mO2Hf-ZNR3"
      }
    },
    {
      "cell_type": "code",
      "source": [
        "import logging\n",
        "logging.basicConfig(filename=\"error.log\",level=logging.INFO)\n",
        "\n",
        "logging.info(\"this is informational message\")\n",
        "logging.error(\"this is error message\")\n",
        "\n",
        "logging.shutdown()"
      ],
      "metadata": {
        "colab": {
          "base_uri": "https://localhost:8080/"
        },
        "id": "PIKVRUX2eZ0x",
        "outputId": "be505764-88ae-4e7c-8a09-adcceea7fd2a"
      },
      "execution_count": null,
      "outputs": [
        {
          "output_type": "stream",
          "name": "stderr",
          "text": [
            "ERROR:root:this is error message\n"
          ]
        }
      ]
    },
    {
      "cell_type": "markdown",
      "source": [
        "##15. Write a Python program that prints the content of a file and handles the case when the file is empty?"
      ],
      "metadata": {
        "id": "QW4vCPBpZNO4"
      }
    },
    {
      "cell_type": "code",
      "source": [
        "with open(\"empty.txt\",\"w\")as f:\n",
        " f.write(\"\")\n",
        "\n",
        "size = os.path.getsize(\"empty.txt\")\n",
        "\n",
        "if size==0:\n",
        "  print(\"file is empty\")\n",
        "else:\n",
        "  with open(\"empty.txt\",\"r\")as f:\n",
        "    r=f.read()\n",
        "    print(r)"
      ],
      "metadata": {
        "colab": {
          "base_uri": "https://localhost:8080/"
        },
        "id": "qCQKguClfGdQ",
        "outputId": "208986bd-6789-4971-fbab-e0c45041905f"
      },
      "execution_count": null,
      "outputs": [
        {
          "output_type": "stream",
          "name": "stdout",
          "text": [
            "file is empty\n"
          ]
        }
      ]
    },
    {
      "cell_type": "markdown",
      "source": [
        "##16. Demonstrate how to use memory profiling to check the memory usage of a small program."
      ],
      "metadata": {
        "id": "naCKPanBZNL3"
      }
    },
    {
      "cell_type": "code",
      "source": [
        "!pip install memory-profiler\n",
        "\n",
        "from memory_profiler import profile\n",
        "\n",
        "@profile\n",
        "def my_function():\n",
        "    a = [1] * 10\n",
        "    b = [2] * 20\n",
        "    return a, b\n",
        "\n",
        "my_function()"
      ],
      "metadata": {
        "id": "Xb-Is2UAfM7Q",
        "colab": {
          "base_uri": "https://localhost:8080/"
        },
        "outputId": "97e3343b-6c9b-426e-8937-2ae2b50d886b"
      },
      "execution_count": 2,
      "outputs": [
        {
          "output_type": "stream",
          "name": "stdout",
          "text": [
            "Requirement already satisfied: memory-profiler in /usr/local/lib/python3.12/dist-packages (0.61.0)\n",
            "Requirement already satisfied: psutil in /usr/local/lib/python3.12/dist-packages (from memory-profiler) (5.9.5)\n",
            "ERROR: Could not find file /tmp/ipython-input-632162359.py\n"
          ]
        },
        {
          "output_type": "execute_result",
          "data": {
            "text/plain": [
              "([1, 1, 1, 1, 1, 1, 1, 1, 1, 1],\n",
              " [2, 2, 2, 2, 2, 2, 2, 2, 2, 2, 2, 2, 2, 2, 2, 2, 2, 2, 2, 2])"
            ]
          },
          "metadata": {},
          "execution_count": 2
        }
      ]
    },
    {
      "cell_type": "markdown",
      "source": [
        "##17. Write a Python program to create and write a list of numbers to a file, one number per line."
      ],
      "metadata": {
        "id": "reyRjpWtZNI4"
      }
    },
    {
      "cell_type": "code",
      "source": [
        "numbers = [10, 20, 30, 40, 50]\n",
        "\n",
        "with open(\"numbers.txt\", \"w\") as file:\n",
        "  for num in numbers:\n",
        "    file.write(str(num) + \"\\n\") # Convert number to string and add newline\n",
        "\n",
        "print(\"Numbers written to numbers.txt successfully\")\n"
      ],
      "metadata": {
        "id": "tFM5tnHkflAp",
        "colab": {
          "base_uri": "https://localhost:8080/"
        },
        "outputId": "72aa04be-e665-42a1-9599-7c25e945946f"
      },
      "execution_count": 4,
      "outputs": [
        {
          "output_type": "stream",
          "name": "stdout",
          "text": [
            "Numbers written to numbers.txt successfully\n"
          ]
        }
      ]
    },
    {
      "cell_type": "markdown",
      "source": [
        "##18.  How would you implement a basic logging setup that logs to a file with rotation after 1MB ?"
      ],
      "metadata": {
        "id": "zqELDdC8ZNGH"
      }
    },
    {
      "cell_type": "code",
      "source": [
        "import logging\n",
        "from logging.handlers import RotatingFileHandler\n",
        "\n",
        "logging.basicConfig(filename=\"test_log.txt\",level=logging.INFO)\n",
        "\n",
        "logging.info(\"this is info message\")\n",
        "logging.error(\"this is error message\")\n",
        "logging.warning(\"this is last warning\")\n",
        "\n",
        "logging.shutdown()"
      ],
      "metadata": {
        "colab": {
          "base_uri": "https://localhost:8080/"
        },
        "id": "PAJgLI02bEMB",
        "outputId": "d69d3e91-713c-4e88-a97b-643c2cc1952c"
      },
      "execution_count": 5,
      "outputs": [
        {
          "output_type": "stream",
          "name": "stderr",
          "text": [
            "ERROR:root:this is error message\n",
            "WARNING:root:this is last warning\n"
          ]
        }
      ]
    },
    {
      "cell_type": "markdown",
      "source": [
        "##19. Write a program that handles both IndexError and KeyError using a try-except block."
      ],
      "metadata": {
        "id": "A4IfBFBPZNDY"
      }
    },
    {
      "cell_type": "code",
      "source": [
        "my_list = [10, 20, 30]\n",
        "\n",
        "my_dict = {\"name\": \"Ritesh\", \"age\": 21}\n",
        "\n",
        "try:\n",
        "\n",
        "# Accessing an index that may not exist\n",
        "  print(my_list[5])\n",
        "# Accessing a key that may not exist\n",
        "  print(my_dict[\"city\"])\n",
        "except IndexError:\n",
        "  print(\"Error: The list index does not exist.\")\n",
        "except KeyError:\n",
        "  print(\"Error: The dictionary key does not exist.\")"
      ],
      "metadata": {
        "colab": {
          "base_uri": "https://localhost:8080/"
        },
        "id": "d-uqQL_Zbev4",
        "outputId": "9db992d1-0706-4bea-d533-926d4927a571"
      },
      "execution_count": 7,
      "outputs": [
        {
          "output_type": "stream",
          "name": "stdout",
          "text": [
            "Error: The list index does not exist.\n"
          ]
        }
      ]
    },
    {
      "cell_type": "markdown",
      "source": [
        "##20. How would you open a file and read its contents using a context manager in Python?"
      ],
      "metadata": {
        "id": "KBi7Bk-0ZNAI"
      }
    },
    {
      "cell_type": "code",
      "source": [
        "with open(\"file.txt\",\"r\")as f:\n",
        "  r = f.read()\n",
        "  print(r)"
      ],
      "metadata": {
        "colab": {
          "base_uri": "https://localhost:8080/"
        },
        "id": "b6MfqYAJcYbx",
        "outputId": "571cacb9-93ed-4e4e-9ef7-82d573ba5dba"
      },
      "execution_count": 14,
      "outputs": [
        {
          "output_type": "stream",
          "name": "stdout",
          "text": [
            "Hey, my name is rahul\n",
            "I am in DS course\n"
          ]
        }
      ]
    },
    {
      "cell_type": "markdown",
      "source": [
        "## 21. Write a Python program that reads a file and prints the number of occurrences of a specific word."
      ],
      "metadata": {
        "id": "xH2fiKy3atQ_"
      }
    },
    {
      "cell_type": "code",
      "source": [
        "with open(\"file.txt\",\"r\")as f:\n",
        "  r=f.read()\n",
        "  print(r.count(\"rahul\"))"
      ],
      "metadata": {
        "colab": {
          "base_uri": "https://localhost:8080/"
        },
        "id": "YQvOdgYTcrvB",
        "outputId": "fb295571-9487-4d7b-8a88-1ae312c289b3"
      },
      "execution_count": 15,
      "outputs": [
        {
          "output_type": "stream",
          "name": "stdout",
          "text": [
            "1\n"
          ]
        }
      ]
    },
    {
      "cell_type": "markdown",
      "source": [
        "##22. How can you check if a file is empty before attempting to read its contents?"
      ],
      "metadata": {
        "id": "n_EDBjfja9XG"
      }
    },
    {
      "cell_type": "code",
      "source": [
        "import os\n",
        "size = os.path.getsize(\"file.txt\")\n",
        "\n",
        "if size==0:\n",
        "  print(\"file is empty\")\n",
        "else:\n",
        "  with open(\"file.txt\",\"r\")as f:\n",
        "    r=f.read()\n",
        "    print(\"this file is not empty:\\n\", r)"
      ],
      "metadata": {
        "colab": {
          "base_uri": "https://localhost:8080/"
        },
        "id": "1fLY7UgVc0hA",
        "outputId": "66d39e0e-f52a-4e9b-f19b-996f1809e671"
      },
      "execution_count": 17,
      "outputs": [
        {
          "output_type": "stream",
          "name": "stdout",
          "text": [
            "this file is not empty:\n",
            " Hey, my name is rahul\n",
            "I am in DS course\n"
          ]
        }
      ]
    },
    {
      "cell_type": "markdown",
      "source": [
        "##23. Write a Python program that writes to a log file when an error occurs during file handling."
      ],
      "metadata": {
        "id": "1IuFWEodZM84"
      }
    },
    {
      "cell_type": "code",
      "source": [
        "import logging\n",
        "# Configure logging to write to a file\n",
        "logging.basicConfig(filename=\"file_error_log.txt\", level=logging.ERROR)\n",
        "\n",
        "file_name = \"non_existing_file.txt\"\n",
        "\n",
        "try:\n",
        "  with open(file_name, \"r\") as file:\n",
        "    content = file.read()\n",
        "except FileNotFoundError as e:\n",
        "    logging.error(f\"Error occurred: {e}\")\n",
        "\n",
        "print(\"Error logged to file_error_log.txt\")\n"
      ],
      "metadata": {
        "colab": {
          "base_uri": "https://localhost:8080/"
        },
        "id": "dPzvGnD1dCMi",
        "outputId": "27de0058-e70c-498b-f580-9efc86644ffd"
      },
      "execution_count": 20,
      "outputs": [
        {
          "output_type": "stream",
          "name": "stderr",
          "text": [
            "ERROR:root:Error occurred: [Errno 2] No such file or directory: 'non_existing_file.txt'\n"
          ]
        },
        {
          "output_type": "stream",
          "name": "stdout",
          "text": [
            "Error logged to file_error_log.txt\n"
          ]
        }
      ]
    },
    {
      "cell_type": "code",
      "source": [],
      "metadata": {
        "id": "SKfZwE7MfpBI"
      },
      "execution_count": null,
      "outputs": []
    }
  ]
}