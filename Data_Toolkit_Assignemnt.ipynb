{
  "nbformat": 4,
  "nbformat_minor": 0,
  "metadata": {
    "colab": {
      "provenance": []
    },
    "kernelspec": {
      "name": "python3",
      "display_name": "Python 3"
    },
    "language_info": {
      "name": "python"
    }
  },
  "cells": [
    {
      "cell_type": "markdown",
      "source": [
        "#Data Toolkit"
      ],
      "metadata": {
        "id": "dOwPDJqr2LUh"
      }
    },
    {
      "cell_type": "markdown",
      "source": [
        "##1. What is NumPy, and why is it widely used in Python ?\n",
        "  - NumPy stands for “Numerical Python” and it is the standard Python library used for working with arrays (i.e.,vectors & matrices), linear algebra, and other numerical computations. NumPy is written in C, making NumPy arrays faster and more memory efficient than Python lists or arrays.\n",
        "\n",
        "  - IT is used widely  in Python :\n",
        "\n",
        "    - Efficiency and Performance: NumPy's core array operations are implemented in C, making them significantly faster than standard Python lists for numerical computations. This is crucial when dealing with large datasets in fields like data science, machine learning, and scientific research.\n",
        "\n",
        "    - Multidimensional Array Object (ndarray): The ndarray object is the cornerstone of NumPy. It allows for efficient storage and manipulation of homogeneous data in N dimensions, which is ideal for representing vectors, matrices, and higher-dimensional tensors.\n",
        "\n",
        "    - Vectorized Operations: NumPy enables vectorized operations, meaning you can perform mathematical operations on entire arrays without explicit loops. This leads to more concise and readable code, and often better performance.\n",
        "\n",
        "    - Rich Set of Functions: NumPy offers a vast library of mathematical functions for linear algebra, Fourier transforms, random number generation, and more, all optimized for use with ndarray objects.\n",
        "\n",
        "    - Foundation for Other Libraries: Many other popular Python libraries in the scientific computing ecosystem, such as Pandas, SciPy, Matplotlib, and Scikit-learn, are built upon or heavily integrate with NumPy, making it a foundational component."
      ],
      "metadata": {
        "id": "9mrwHkxp2LRo"
      }
    },
    {
      "cell_type": "markdown",
      "source": [
        "##2. How does broadcasting work in NumPy ?\n",
        "   - NumPy broadcasting is a powerful feature that allows for implicit element-wise operations between arrays of\n",
        "different shapes and sizes. Broadcasting automatically adjusts the shape of smaller arrays to make them\n",
        "compatible with larger arrays, eliminating the need for explicit looping or copying of data. This makes it easier\n",
        "to perform operations on arrays of different shapes, reducing the need for unnecessary duplication of data.\n",
        "The general rule for broadcasting is that the dimensions of the arrays must be compatible, meaning that either\n",
        "the dimensions are equal, or one of them is 1. NumPy automatically performs broadcasting when you perform\n",
        "operations between arrays that satisfy these conditions.\n",
        "NumPy automatically expands (broadcasts) smaller arrays to match the shape of larger arrays, making\n",
        "element-wise operations possible."
      ],
      "metadata": {
        "id": "LRzK3K6X2LOg"
      }
    },
    {
      "cell_type": "markdown",
      "source": [
        "##3. What is a Pandas DataFrame ?\n",
        "  - A DataFrame is akin to a spreadsheet or SQL table, with rows and columns that can hold a variety of data\n",
        "types2\n",
        " - Each column in a DataFrame is essentially a Pandas Series, sharing a common index, making it easier to\n",
        "manage and manipulate data efficiently2\n",
        "-  There are different methods to generate a Dataframe. But commonly used approaches are\n",
        "   - Creating a Dict\n",
        "   - Reading Custom External Data"
      ],
      "metadata": {
        "id": "s8lw58MQ2LLZ"
      }
    },
    {
      "cell_type": "markdown",
      "source": [
        "##4.  Explain the use of the groupby() method in Pandas?\n",
        "\n",
        " - Pandas groupby() function is a powerful tool used to split a DataFrame into groups based on one or more columns, allowing for efficient data analysis and aggregation. It follows a \"split-apply-combine\" strategy, where data is divided into groups, a function is applied to each group, and the results are combined into a new DataFrame."
      ],
      "metadata": {
        "id": "JWRdDw-U2LIY"
      }
    },
    {
      "cell_type": "markdown",
      "source": [
        "##5.Why is Seaborn preferred for statistical visualizations ?\n",
        "  - Seaborn has several advantages over Matplotlib, including: Default style: Seaborn comes with several built-in themes and color palettes that make it easy to create visually appealing plots without much customization. Matplotlib, on the other hand, requires more manual tweaking to achieve a polished look.\n",
        "\n",
        "  - Seaborn simplifies statistical data visualization in Python. Its integration with Pandas DataFrames and high-level plotting functions allow for quick and informative visualizations"
      ],
      "metadata": {
        "id": "eAWUDIaK2LFZ"
      }
    },
    {
      "cell_type": "markdown",
      "source": [
        "##6. What are the differences between NumPy arrays and Python lists ?\n",
        "\n",
        "  - The primary differences between NumPy arrays and Python lists revolve around performance, memory usage, data type handling, and functionality:\n",
        "\n",
        "    - Performance: NumPy arrays are significantly faster for numerical operations, especially with large datasets, due to their underlying implementation in C and Fortran. Python lists are generally slower for mathematical computations as they require explicit looping for element-wise operations.\n",
        "\n",
        "    - Memory Efficiency: NumPy arrays are more memory-efficient than Python lists. They store elements of a single data type in contiguous memory blocks, which allows for optimized memory access and reduced overhead. Python lists, being able to store heterogeneous data, allocate memory for each individual element, leading to higher memory consumption.\n",
        "\n",
        "    - Data Type Homogeneity: NumPy arrays enforce homogeneity, meaning all elements within an array must be of the same data type (e.g., all integers or all floats). Python lists, conversely, are heterogeneous and can store elements of different data types (e.g., integers, strings, and booleans) within the same list.\n",
        "\n",
        "    - Functionality and Operations: NumPy arrays offer a rich set of optimized mathematical functions and operations, including vectorized operations, broadcasting, and linear algebra routines, which are highly efficient for numerical computations. Python lists require manual iteration and implementation for similar operations.\n",
        "\n",
        "    - Flexibility: Python lists are more flexible in terms of data modification and dynamic resizing. NumPy arrays are typically fixed in size once created, and resizing them can be less efficient than with lists.\n",
        "\n",
        "- In summary, Python lists are suitable for general-purpose tasks requiring flexibility and handling of diverse data types, while NumPy arrays are specifically designed and optimized for efficient numerical computations and large-scale data manipulation, particularly in scientific computing and data science applications."
      ],
      "metadata": {
        "id": "5gNmmz4e2LCY"
      }
    },
    {
      "cell_type": "markdown",
      "source": [
        "##7. What is a heatmap, and when should it be used ?\n",
        "  -  A heatmap is a data visualization that uses a grid of colored cells to represent the magnitude of values in a dataset, with color intensity corresponding to value. They are used to simplify complex data, reveal patterns, and highlight relationships or areas of high density or interest. Heatmaps are used across many fields, from website analytics to population studies, to understand user behavior, identify high-traffic locations, and optimize design or resource allocation."
      ],
      "metadata": {
        "id": "p9V58o362K_Z"
      }
    },
    {
      "cell_type": "markdown",
      "source": [
        "##8. What does the term “vectorized operation” mean in NumPy ?\n",
        "  - In NumPy, a vectorized operation refers to performing an operation on an entire array (or multiple arrays) at once, without explicitly writing a for loop to iterate through individual elements. This approach leverages NumPy's underlying C implementations, which are significantly faster and more efficient than traditional Python loops, especially when dealing with large datasets."
      ],
      "metadata": {
        "id": "lKDhu73z2K8Q"
      }
    },
    {
      "cell_type": "markdown",
      "source": [
        "##9. How does Matplotlib differ from Plotly?\n",
        "\n",
        "  - Matplotlib and Plotly are both powerful Python libraries for data visualization, but they differ significantly in their primary focus and capabilities:\n",
        "\n",
        "- Interactivity vs. Static Plots:\n",
        "\n",
        "    - Matplotlib: Primarily designed for creating static, publication-quality plots. While it offers some interactive features, its core strength lies in generating highly customizable, non-interactive visualizations suitable for reports and papers.\n",
        "    \n",
        "    - Plotly: Excels in creating interactive, web-based visualizations. It provides built-in features like zooming, panning, hovering, and the ability to toggle data sets, making it ideal for exploratory data analysis, dashboards, and web applications.\n",
        "\n",
        "- Customization and Control:\n",
        "\n",
        "    - Matplotlib: Offers extensive control over every aspect of a plot, allowing for fine-grained customization. This level of control can be complex and require more coding effort for elaborate designs.\n",
        "\n",
        "    - Plotly: Provides a more streamlined approach to creating aesthetically pleasing plots with less code, particularly with its Plotly Express API. While still offering customization, it prioritizes ease of use for common interactive chart types.\n",
        "\n",
        "- Use Cases:\n",
        "\n",
        "    - Matplotlib: Best suited for generating static figures for academic papers, presentations, or situations where high-level customization and precise control over visual elements are paramount.\n",
        "\n",
        "    - Plotly: Ideal for creating dynamic and engaging visualizations for web applications, interactive dashboards, and scenarios where data exploration and user interaction are key.\n",
        "\n",
        "- In essence, Matplotlib offers deep customization for static visualizations, while Plotly prioritizes interactivity and ease of creation for web-based, dynamic plots. The choice between them depends on the specific requirements of the visualization project."
      ],
      "metadata": {
        "id": "ueGFMecF2K5R"
      }
    },
    {
      "cell_type": "markdown",
      "source": [
        "##10. What is the significance of hierarchical indexing in Pandas?\n",
        "  - Hierarchical indexing (or MultiIndex) in Pandas is significant because it allows for the storage and manipulation of high-dimensional data in lower-dimensional structures like Series and DataFrames, enabling more sophisticated analysis by preserving relationships, performing complex queries on grouped data, and providing more flexible ways to select and organize data. It acts as a way to have multiple levels of indexing, where each level represents a distinct category or attribute, offering a powerful tool for data organization and analysis."
      ],
      "metadata": {
        "id": "mmJSFH6W2K2Q"
      }
    },
    {
      "cell_type": "markdown",
      "source": [
        "##11. What is the role of Seaborn’s pairplot() function ?\n",
        " - Seaborn's pairplot() function is a powerful tool for visualizing relationships between multiple variables in a dataset. Its primary role is to create a grid of plots, allowing for a quick and comprehensive overview of the data's structure and potential correlations."
      ],
      "metadata": {
        "id": "h-BcXeb52KzJ"
      }
    },
    {
      "cell_type": "markdown",
      "source": [
        "##12. What is the purpose of the describe() function in Pandas ?\n",
        "  - The describe() function in Pandas is used to generate descriptive statistics of a DataFrame or Series. Its primary purpose is to provide a quick and insightful summary of the data, aiding in initial data exploration and understanding.\n"
      ],
      "metadata": {
        "id": "fDtOW_VF2Kv4"
      }
    },
    {
      "cell_type": "markdown",
      "source": [
        "##13. Why is handling missing data important in Pandas ?\n",
        "\n",
        "  - Handling missing values is important for ensuring the accuracy and reliability of data analysis and machine learning models. Key reasons include:\n",
        "  \n",
        "    - Improved Model Accuracy: Addressing missing values helps avoid incorrect predictions and boosts model performance.\n",
        "\n",
        "    - Increased Statistical Power: Imputation or removal of missing data allows the use of more analysis techniques, maintaining the sample size.\n",
        "    \n",
        "    - Bias Prevention: Proper handling ensures that missing data doesn’t introduce systematic bias, leading to more reliable results.\n",
        "\n",
        "    - Better Decision-Making: A clean dataset leads to more informed, trustworthy decisions based on accurate insights."
      ],
      "metadata": {
        "id": "zSM7mCJh3FMQ"
      }
    },
    {
      "cell_type": "markdown",
      "source": [
        "##14. What are the benefits of using Plotly for data visualization ?\n",
        "\n",
        "- Plotly offers a wide range of chart types, from simple line charts to complex 3D plots, enabling diverse and comprehensive data visualizations. Its ability to handle large datasets efficiently ensures smooth performance even with extensive data, making it suitable for data-intensive applications"
      ],
      "metadata": {
        "id": "xEgJJrU33FJZ"
      }
    },
    {
      "cell_type": "markdown",
      "source": [
        "##15. How does NumPy handle multidimensional arrays?\n",
        "- Multi-dimensional arrays are a powerful and important data structure in Python. They allow us to store and manipulate large amounts of data efficiently.\n",
        "\n",
        "- NumPy handles multidimensional arrays through its core object, the ndarray (N-dimensional array). This object represents a homogeneous multidimensional array, meaning all elements within the array must be of the same data type."
      ],
      "metadata": {
        "id": "m5yoCKl43FGg"
      }
    },
    {
      "cell_type": "markdown",
      "source": [
        "##16. What is the role of Bokeh in data visualization ?\n",
        "-  Bokeh is a Python library for creating interactive visualizations for modern web browsers. It helps you build beautiful graphics, ranging from simple plots to complex dashboards with streaming datasets. With Bokeh, you can create JavaScript-powered visualizations without writing any JavaScript yourself."
      ],
      "metadata": {
        "id": "naOIIjtT3FDw"
      }
    },
    {
      "cell_type": "markdown",
      "source": [
        "##17. Explain the difference between apply() and map() in Pandas.\n",
        "\n",
        "- In Pandas, both apply() and map() are used to apply functions or transformations to data, but they differ in their scope and typical use cases:\n",
        "\n",
        "- **The apply()** method can be applied both to series and Dataframes where a function can be applied to both series and individual elements based on the type of function provided.\n",
        "\n",
        "\n",
        "\n",
        "- **The map()** method only works on a pandas series where the type of operation to be applied depends on the argument passed as a function, dictionary, or list. This method is generally used to map values from two series having one column the same.  "
      ],
      "metadata": {
        "id": "cqPfjb3h3FAp"
      }
    },
    {
      "cell_type": "markdown",
      "source": [
        "##18. What are some advanced features of NumPy ?\n",
        "  - Advanced features of NumPy include broadcasting (performing operations on arrays of different shapes), vectorized operations (applying functions to entire arrays at once), advanced indexing (using arrays of integers and booleans for complex selections), universal functions (ufuncs) for efficient element-wise operations, powerful array manipulation tools like reshaping and stacking, and support for high-performance linear algebra and random number generation."
      ],
      "metadata": {
        "id": "gSO1Xjev3E94"
      }
    },
    {
      "cell_type": "markdown",
      "source": [
        "##19. How does Pandas simplify time series analysis?\n",
        " - Pandas simplifies time series analysis through a comprehensive set of features designed specifically for handling time-indexed data.\n",
        "\n",
        "\n",
        "- # Key features that simplify time series analysis in Pandas:\n",
        "\n",
        "    - DatetimeIndex: Pandas introduces the DatetimeIndex, a specialized index type that allows for efficient and intuitive handling of time-series data. This enables powerful operations like slicing by date ranges, aligning data based on timestamps, and performing time-based aggregations.\n",
        "\n",
        "    - Timestamp Object: A single point in time is represented by the Timestamp object, which offers a rich set of attributes and methods for accessing various components of a date and time (e.g., year, month, day, hour, minute, second, day of week).\n",
        "\n",
        "    - Resampling: This powerful feature allows for changing the frequency of time-series data. You can aggregate data over different time periods (e.g., daily to weekly, hourly to daily) using various aggregation functions like mean, sum, or count.\n",
        "\n",
        "\n",
        "    - Rolling Windows: Pandas provides functions for calculating rolling statistics (e.g., rolling mean, rolling sum, rolling standard deviation) over a defined window size. This is crucial for smoothing data, identifying trends, and calculating moving averages.\n",
        "\n",
        "    - Time-based Operations: Pandas offers a wide range of functions for performing common time-series operations, including:\n",
        "\n",
        "      - Shifting: Moving data points forward or backward in time.\n",
        "\n",
        "      - Differencing: Calculating the difference between consecutive data points to remove trends and seasonality.\n",
        "\n",
        "      - Handling Missing Values: Specific methods for interpolating or filling missing values in time-series data.\n",
        "\n",
        "    - Integration with other Libraries: Pandas integrates seamlessly with other Python libraries like NumPy for numerical operations and Matplotlib for visualization, creating a robust ecosystem for comprehensive time series analysis.\n",
        "    \n",
        "These features collectively make Pandas an indispensable tool for loading, cleaning, manipulating, analyzing, and visualizing time-series data efficiently and effectively."
      ],
      "metadata": {
        "id": "8d1ViRmD3E6x"
      }
    },
    {
      "cell_type": "markdown",
      "source": [
        "##20. What is the role of a pivot table in Pandas?\n",
        "  - In Pandas, a pivot table's primary role is to reshape and summarize large, raw datasets into a more understandable, aggregated format, allowing for the identification of patterns and trends that might otherwise be hidden. It achieves this by reorganizing data, transforming rows into columns (or vice versa), and calculating aggregate statistics like sums, averages, and counts for different data groups."
      ],
      "metadata": {
        "id": "JYulW9Ay3E0w"
      }
    },
    {
      "cell_type": "markdown",
      "source": [
        "##21. Why is NumPy’s array slicing faster than Python’s list slicing ?\n",
        "  - NumPy's array slicing is faster than Python's list slicing primarily due to the fundamental differences in how NumPy arrays and Python lists are structured and managed in memory.\n",
        "\n",
        "    - Contiguous Memory Allocation: NumPy arrays store elements of the same data type in a contiguous block of memory. This allows for efficient access and manipulation of data, as the system can quickly locate adjacent elements. Python lists, on the other hand, store references (pointers) to objects that can be located anywhere in memory, leading to scattered memory allocation and slower access during slicing.\n",
        "\n",
        "\n",
        "    - Homogeneous Data Types: NumPy arrays enforce a single, fixed data type for all elements within an array. This homogeneity simplifies memory management and allows for specialized, optimized C-level operations, including slicing. Python lists can store heterogeneous data types, requiring more overhead for type checking and management during operations.\n",
        "\n",
        "    - C-level Implementation: NumPy is heavily optimized and implemented in C, a compiled language. This allows for operations, including slicing, to be executed at compiled C speed, which is significantly faster than Python's interpreted execution. Python lists, being part of the core Python language, are subject to Python's interpretation overhead.\n",
        "\n",
        "    - Optimized Slicing Mechanisms: Due to contiguous memory and homogeneous data types, NumPy can implement highly optimized slicing mechanisms that directly operate on the underlying memory block. This often involves calculating memory offsets and returning views of the original array (without copying data), further enhancing performance. Python list slicing typically involves creating new lists and copying elements, which can be less efficient, especially for large lists."
      ],
      "metadata": {
        "id": "lOHsfmqA3EyA"
      }
    },
    {
      "cell_type": "markdown",
      "source": [
        "##22. What are some common use cases for Seaborn?\n",
        "  - Seaborn is a Python data visualization library built on top of Matplotlib, designed to simplify the creation of attractive and informative statistical graphics. Common use cases for Seaborn include:\n",
        "\n",
        "    - Exploratory Data Analysis (EDA): Seaborn excels at visualizing distributions of single variables (histograms, kernel density estimates), relationships between two variables (scatter plots, line plots), and relationships between multiple variables (pair plots, heatmaps). This helps in understanding data patterns, outliers, and potential correlations.\n",
        "\n",
        "    - Statistical Data Visualization: It provides high-level functions for plotting statistical relationships, such as regression plots to visualize linear relationships, and categorical plots (box plots, violin plots, bar plots) to compare distributions or aggregates across different categories.\n",
        "\n",
        "    - Presenting Insights: Seaborn's aesthetically pleasing default styles and color palettes make it suitable for creating publication-ready visualizations. It can be used to effectively communicate findings from data analysis to a wider audience.\n",
        "\n",
        "    - Working with Pandas DataFrames: Seaborn integrates seamlessly with Pandas DataFrames, allowing users to directly plot data from their structured datasets with minimal code.\n",
        "\n",
        "    - Creating Complex Multi-Plot Visualizations: Features like FacetGrid enable the creation of grids of plots, allowing for easy comparison of subsets of data based on categorical or temporal factors. This is particularly useful for exploring conditional relationships within a dataset.\n"
      ],
      "metadata": {
        "id": "CFbaPSoZ3EvI"
      }
    },
    {
      "cell_type": "markdown",
      "source": [
        "# Practical"
      ],
      "metadata": {
        "id": "K6lHzLLS3Er_"
      }
    },
    {
      "cell_type": "markdown",
      "source": [
        "##1.  How do you create a 2D NumPy array and calculate the sum of each row ?"
      ],
      "metadata": {
        "id": "Mg8ckS833EpA"
      }
    },
    {
      "cell_type": "code",
      "source": [
        "import numpy as np\n",
        "\n",
        "# Create a 2D NumPy array\n",
        "array_2d = np.array([[1, 2, 3],\n",
        "                     [4, 5, 6],\n",
        "                     [7, 8, 9]])\n",
        "\n",
        "print(\"2D NumPy Array:\")\n",
        "print(array_2d)\n",
        "\n",
        "# Calculate the sum of each row\n",
        "# The axis=1 argument specifies that the sum should be calculated across columns (for each row)\n",
        "row_sums = np.sum(array_2d, axis=1)\n",
        "\n",
        "print(\"\\nSum of each row:\")\n",
        "print(row_sums)"
      ],
      "metadata": {
        "colab": {
          "base_uri": "https://localhost:8080/"
        },
        "id": "Bgk5oIm6L4SZ",
        "outputId": "28dc08c2-6bb3-4beb-d9af-caccf7db77c6"
      },
      "execution_count": null,
      "outputs": [
        {
          "output_type": "stream",
          "name": "stdout",
          "text": [
            "2D NumPy Array:\n",
            "[[1 2 3]\n",
            " [4 5 6]\n",
            " [7 8 9]]\n",
            "\n",
            "Sum of each row:\n",
            "[ 6 15 24]\n"
          ]
        }
      ]
    },
    {
      "cell_type": "markdown",
      "source": [
        "##2. Write a Pandas script to find the mean of a specific column in a DataFrame."
      ],
      "metadata": {
        "id": "qRpZLajH3EmJ"
      }
    },
    {
      "cell_type": "code",
      "source": [
        "import pandas as pd\n",
        "data = {\"Name\": ['Tushar','Siddheswor','Divya','Aniruddh','Sameer'],\n",
        "        \"Age\": [31,26,21,28,30],\n",
        "        \"Salary\": [50000,100000,120000,80000,85000]}\n",
        "\n",
        "df = pd.DataFrame(data)\n",
        "df"
      ],
      "metadata": {
        "colab": {
          "base_uri": "https://localhost:8080/",
          "height": 206
        },
        "id": "n4LE5LOrMKEZ",
        "outputId": "641307c9-d9f2-413d-cd45-2e4d4f2933c2"
      },
      "execution_count": null,
      "outputs": [
        {
          "output_type": "execute_result",
          "data": {
            "text/plain": [
              "         Name  Age  Salary\n",
              "0      Tushar   31   50000\n",
              "1  Siddheswor   26  100000\n",
              "2       Divya   21  120000\n",
              "3    Aniruddh   28   80000\n",
              "4      Sameer   30   85000"
            ],
            "text/html": [
              "\n",
              "  <div id=\"df-018609db-74a3-4404-95eb-7283d736c31e\" class=\"colab-df-container\">\n",
              "    <div>\n",
              "<style scoped>\n",
              "    .dataframe tbody tr th:only-of-type {\n",
              "        vertical-align: middle;\n",
              "    }\n",
              "\n",
              "    .dataframe tbody tr th {\n",
              "        vertical-align: top;\n",
              "    }\n",
              "\n",
              "    .dataframe thead th {\n",
              "        text-align: right;\n",
              "    }\n",
              "</style>\n",
              "<table border=\"1\" class=\"dataframe\">\n",
              "  <thead>\n",
              "    <tr style=\"text-align: right;\">\n",
              "      <th></th>\n",
              "      <th>Name</th>\n",
              "      <th>Age</th>\n",
              "      <th>Salary</th>\n",
              "    </tr>\n",
              "  </thead>\n",
              "  <tbody>\n",
              "    <tr>\n",
              "      <th>0</th>\n",
              "      <td>Tushar</td>\n",
              "      <td>31</td>\n",
              "      <td>50000</td>\n",
              "    </tr>\n",
              "    <tr>\n",
              "      <th>1</th>\n",
              "      <td>Siddheswor</td>\n",
              "      <td>26</td>\n",
              "      <td>100000</td>\n",
              "    </tr>\n",
              "    <tr>\n",
              "      <th>2</th>\n",
              "      <td>Divya</td>\n",
              "      <td>21</td>\n",
              "      <td>120000</td>\n",
              "    </tr>\n",
              "    <tr>\n",
              "      <th>3</th>\n",
              "      <td>Aniruddh</td>\n",
              "      <td>28</td>\n",
              "      <td>80000</td>\n",
              "    </tr>\n",
              "    <tr>\n",
              "      <th>4</th>\n",
              "      <td>Sameer</td>\n",
              "      <td>30</td>\n",
              "      <td>85000</td>\n",
              "    </tr>\n",
              "  </tbody>\n",
              "</table>\n",
              "</div>\n",
              "    <div class=\"colab-df-buttons\">\n",
              "\n",
              "  <div class=\"colab-df-container\">\n",
              "    <button class=\"colab-df-convert\" onclick=\"convertToInteractive('df-018609db-74a3-4404-95eb-7283d736c31e')\"\n",
              "            title=\"Convert this dataframe to an interactive table.\"\n",
              "            style=\"display:none;\">\n",
              "\n",
              "  <svg xmlns=\"http://www.w3.org/2000/svg\" height=\"24px\" viewBox=\"0 -960 960 960\">\n",
              "    <path d=\"M120-120v-720h720v720H120Zm60-500h600v-160H180v160Zm220 220h160v-160H400v160Zm0 220h160v-160H400v160ZM180-400h160v-160H180v160Zm440 0h160v-160H620v160ZM180-180h160v-160H180v160Zm440 0h160v-160H620v160Z\"/>\n",
              "  </svg>\n",
              "    </button>\n",
              "\n",
              "  <style>\n",
              "    .colab-df-container {\n",
              "      display:flex;\n",
              "      gap: 12px;\n",
              "    }\n",
              "\n",
              "    .colab-df-convert {\n",
              "      background-color: #E8F0FE;\n",
              "      border: none;\n",
              "      border-radius: 50%;\n",
              "      cursor: pointer;\n",
              "      display: none;\n",
              "      fill: #1967D2;\n",
              "      height: 32px;\n",
              "      padding: 0 0 0 0;\n",
              "      width: 32px;\n",
              "    }\n",
              "\n",
              "    .colab-df-convert:hover {\n",
              "      background-color: #E2EBFA;\n",
              "      box-shadow: 0px 1px 2px rgba(60, 64, 67, 0.3), 0px 1px 3px 1px rgba(60, 64, 67, 0.15);\n",
              "      fill: #174EA6;\n",
              "    }\n",
              "\n",
              "    .colab-df-buttons div {\n",
              "      margin-bottom: 4px;\n",
              "    }\n",
              "\n",
              "    [theme=dark] .colab-df-convert {\n",
              "      background-color: #3B4455;\n",
              "      fill: #D2E3FC;\n",
              "    }\n",
              "\n",
              "    [theme=dark] .colab-df-convert:hover {\n",
              "      background-color: #434B5C;\n",
              "      box-shadow: 0px 1px 3px 1px rgba(0, 0, 0, 0.15);\n",
              "      filter: drop-shadow(0px 1px 2px rgba(0, 0, 0, 0.3));\n",
              "      fill: #FFFFFF;\n",
              "    }\n",
              "  </style>\n",
              "\n",
              "    <script>\n",
              "      const buttonEl =\n",
              "        document.querySelector('#df-018609db-74a3-4404-95eb-7283d736c31e button.colab-df-convert');\n",
              "      buttonEl.style.display =\n",
              "        google.colab.kernel.accessAllowed ? 'block' : 'none';\n",
              "\n",
              "      async function convertToInteractive(key) {\n",
              "        const element = document.querySelector('#df-018609db-74a3-4404-95eb-7283d736c31e');\n",
              "        const dataTable =\n",
              "          await google.colab.kernel.invokeFunction('convertToInteractive',\n",
              "                                                    [key], {});\n",
              "        if (!dataTable) return;\n",
              "\n",
              "        const docLinkHtml = 'Like what you see? Visit the ' +\n",
              "          '<a target=\"_blank\" href=https://colab.research.google.com/notebooks/data_table.ipynb>data table notebook</a>'\n",
              "          + ' to learn more about interactive tables.';\n",
              "        element.innerHTML = '';\n",
              "        dataTable['output_type'] = 'display_data';\n",
              "        await google.colab.output.renderOutput(dataTable, element);\n",
              "        const docLink = document.createElement('div');\n",
              "        docLink.innerHTML = docLinkHtml;\n",
              "        element.appendChild(docLink);\n",
              "      }\n",
              "    </script>\n",
              "  </div>\n",
              "\n",
              "\n",
              "    <div id=\"df-31d3e4d0-0dfb-4d11-8d5c-f09b08a6cc0c\">\n",
              "      <button class=\"colab-df-quickchart\" onclick=\"quickchart('df-31d3e4d0-0dfb-4d11-8d5c-f09b08a6cc0c')\"\n",
              "                title=\"Suggest charts\"\n",
              "                style=\"display:none;\">\n",
              "\n",
              "<svg xmlns=\"http://www.w3.org/2000/svg\" height=\"24px\"viewBox=\"0 0 24 24\"\n",
              "     width=\"24px\">\n",
              "    <g>\n",
              "        <path d=\"M19 3H5c-1.1 0-2 .9-2 2v14c0 1.1.9 2 2 2h14c1.1 0 2-.9 2-2V5c0-1.1-.9-2-2-2zM9 17H7v-7h2v7zm4 0h-2V7h2v10zm4 0h-2v-4h2v4z\"/>\n",
              "    </g>\n",
              "</svg>\n",
              "      </button>\n",
              "\n",
              "<style>\n",
              "  .colab-df-quickchart {\n",
              "      --bg-color: #E8F0FE;\n",
              "      --fill-color: #1967D2;\n",
              "      --hover-bg-color: #E2EBFA;\n",
              "      --hover-fill-color: #174EA6;\n",
              "      --disabled-fill-color: #AAA;\n",
              "      --disabled-bg-color: #DDD;\n",
              "  }\n",
              "\n",
              "  [theme=dark] .colab-df-quickchart {\n",
              "      --bg-color: #3B4455;\n",
              "      --fill-color: #D2E3FC;\n",
              "      --hover-bg-color: #434B5C;\n",
              "      --hover-fill-color: #FFFFFF;\n",
              "      --disabled-bg-color: #3B4455;\n",
              "      --disabled-fill-color: #666;\n",
              "  }\n",
              "\n",
              "  .colab-df-quickchart {\n",
              "    background-color: var(--bg-color);\n",
              "    border: none;\n",
              "    border-radius: 50%;\n",
              "    cursor: pointer;\n",
              "    display: none;\n",
              "    fill: var(--fill-color);\n",
              "    height: 32px;\n",
              "    padding: 0;\n",
              "    width: 32px;\n",
              "  }\n",
              "\n",
              "  .colab-df-quickchart:hover {\n",
              "    background-color: var(--hover-bg-color);\n",
              "    box-shadow: 0 1px 2px rgba(60, 64, 67, 0.3), 0 1px 3px 1px rgba(60, 64, 67, 0.15);\n",
              "    fill: var(--button-hover-fill-color);\n",
              "  }\n",
              "\n",
              "  .colab-df-quickchart-complete:disabled,\n",
              "  .colab-df-quickchart-complete:disabled:hover {\n",
              "    background-color: var(--disabled-bg-color);\n",
              "    fill: var(--disabled-fill-color);\n",
              "    box-shadow: none;\n",
              "  }\n",
              "\n",
              "  .colab-df-spinner {\n",
              "    border: 2px solid var(--fill-color);\n",
              "    border-color: transparent;\n",
              "    border-bottom-color: var(--fill-color);\n",
              "    animation:\n",
              "      spin 1s steps(1) infinite;\n",
              "  }\n",
              "\n",
              "  @keyframes spin {\n",
              "    0% {\n",
              "      border-color: transparent;\n",
              "      border-bottom-color: var(--fill-color);\n",
              "      border-left-color: var(--fill-color);\n",
              "    }\n",
              "    20% {\n",
              "      border-color: transparent;\n",
              "      border-left-color: var(--fill-color);\n",
              "      border-top-color: var(--fill-color);\n",
              "    }\n",
              "    30% {\n",
              "      border-color: transparent;\n",
              "      border-left-color: var(--fill-color);\n",
              "      border-top-color: var(--fill-color);\n",
              "      border-right-color: var(--fill-color);\n",
              "    }\n",
              "    40% {\n",
              "      border-color: transparent;\n",
              "      border-right-color: var(--fill-color);\n",
              "      border-top-color: var(--fill-color);\n",
              "    }\n",
              "    60% {\n",
              "      border-color: transparent;\n",
              "      border-right-color: var(--fill-color);\n",
              "    }\n",
              "    80% {\n",
              "      border-color: transparent;\n",
              "      border-right-color: var(--fill-color);\n",
              "      border-bottom-color: var(--fill-color);\n",
              "    }\n",
              "    90% {\n",
              "      border-color: transparent;\n",
              "      border-bottom-color: var(--fill-color);\n",
              "    }\n",
              "  }\n",
              "</style>\n",
              "\n",
              "      <script>\n",
              "        async function quickchart(key) {\n",
              "          const quickchartButtonEl =\n",
              "            document.querySelector('#' + key + ' button');\n",
              "          quickchartButtonEl.disabled = true;  // To prevent multiple clicks.\n",
              "          quickchartButtonEl.classList.add('colab-df-spinner');\n",
              "          try {\n",
              "            const charts = await google.colab.kernel.invokeFunction(\n",
              "                'suggestCharts', [key], {});\n",
              "          } catch (error) {\n",
              "            console.error('Error during call to suggestCharts:', error);\n",
              "          }\n",
              "          quickchartButtonEl.classList.remove('colab-df-spinner');\n",
              "          quickchartButtonEl.classList.add('colab-df-quickchart-complete');\n",
              "        }\n",
              "        (() => {\n",
              "          let quickchartButtonEl =\n",
              "            document.querySelector('#df-31d3e4d0-0dfb-4d11-8d5c-f09b08a6cc0c button');\n",
              "          quickchartButtonEl.style.display =\n",
              "            google.colab.kernel.accessAllowed ? 'block' : 'none';\n",
              "        })();\n",
              "      </script>\n",
              "    </div>\n",
              "\n",
              "  <div id=\"id_6ed0592c-d8aa-4fa1-a82d-4a6144b30682\">\n",
              "    <style>\n",
              "      .colab-df-generate {\n",
              "        background-color: #E8F0FE;\n",
              "        border: none;\n",
              "        border-radius: 50%;\n",
              "        cursor: pointer;\n",
              "        display: none;\n",
              "        fill: #1967D2;\n",
              "        height: 32px;\n",
              "        padding: 0 0 0 0;\n",
              "        width: 32px;\n",
              "      }\n",
              "\n",
              "      .colab-df-generate:hover {\n",
              "        background-color: #E2EBFA;\n",
              "        box-shadow: 0px 1px 2px rgba(60, 64, 67, 0.3), 0px 1px 3px 1px rgba(60, 64, 67, 0.15);\n",
              "        fill: #174EA6;\n",
              "      }\n",
              "\n",
              "      [theme=dark] .colab-df-generate {\n",
              "        background-color: #3B4455;\n",
              "        fill: #D2E3FC;\n",
              "      }\n",
              "\n",
              "      [theme=dark] .colab-df-generate:hover {\n",
              "        background-color: #434B5C;\n",
              "        box-shadow: 0px 1px 3px 1px rgba(0, 0, 0, 0.15);\n",
              "        filter: drop-shadow(0px 1px 2px rgba(0, 0, 0, 0.3));\n",
              "        fill: #FFFFFF;\n",
              "      }\n",
              "    </style>\n",
              "    <button class=\"colab-df-generate\" onclick=\"generateWithVariable('df')\"\n",
              "            title=\"Generate code using this dataframe.\"\n",
              "            style=\"display:none;\">\n",
              "\n",
              "  <svg xmlns=\"http://www.w3.org/2000/svg\" height=\"24px\"viewBox=\"0 0 24 24\"\n",
              "       width=\"24px\">\n",
              "    <path d=\"M7,19H8.4L18.45,9,17,7.55,7,17.6ZM5,21V16.75L18.45,3.32a2,2,0,0,1,2.83,0l1.4,1.43a1.91,1.91,0,0,1,.58,1.4,1.91,1.91,0,0,1-.58,1.4L9.25,21ZM18.45,9,17,7.55Zm-12,3A5.31,5.31,0,0,0,4.9,8.1,5.31,5.31,0,0,0,1,6.5,5.31,5.31,0,0,0,4.9,4.9,5.31,5.31,0,0,0,6.5,1,5.31,5.31,0,0,0,8.1,4.9,5.31,5.31,0,0,0,12,6.5,5.46,5.46,0,0,0,6.5,12Z\"/>\n",
              "  </svg>\n",
              "    </button>\n",
              "    <script>\n",
              "      (() => {\n",
              "      const buttonEl =\n",
              "        document.querySelector('#id_6ed0592c-d8aa-4fa1-a82d-4a6144b30682 button.colab-df-generate');\n",
              "      buttonEl.style.display =\n",
              "        google.colab.kernel.accessAllowed ? 'block' : 'none';\n",
              "\n",
              "      buttonEl.onclick = () => {\n",
              "        google.colab.notebook.generateWithVariable('df');\n",
              "      }\n",
              "      })();\n",
              "    </script>\n",
              "  </div>\n",
              "\n",
              "    </div>\n",
              "  </div>\n"
            ],
            "application/vnd.google.colaboratory.intrinsic+json": {
              "type": "dataframe",
              "variable_name": "df",
              "summary": "{\n  \"name\": \"df\",\n  \"rows\": 5,\n  \"fields\": [\n    {\n      \"column\": \"Name\",\n      \"properties\": {\n        \"dtype\": \"string\",\n        \"num_unique_values\": 5,\n        \"samples\": [\n          \"Siddheswor\",\n          \"Sameer\",\n          \"Divya\"\n        ],\n        \"semantic_type\": \"\",\n        \"description\": \"\"\n      }\n    },\n    {\n      \"column\": \"Age\",\n      \"properties\": {\n        \"dtype\": \"number\",\n        \"std\": 3,\n        \"min\": 21,\n        \"max\": 31,\n        \"num_unique_values\": 5,\n        \"samples\": [\n          26,\n          30,\n          21\n        ],\n        \"semantic_type\": \"\",\n        \"description\": \"\"\n      }\n    },\n    {\n      \"column\": \"Salary\",\n      \"properties\": {\n        \"dtype\": \"number\",\n        \"std\": 25884,\n        \"min\": 50000,\n        \"max\": 120000,\n        \"num_unique_values\": 5,\n        \"samples\": [\n          100000,\n          85000,\n          120000\n        ],\n        \"semantic_type\": \"\",\n        \"description\": \"\"\n      }\n    }\n  ]\n}"
            }
          },
          "metadata": {},
          "execution_count": 4
        }
      ]
    },
    {
      "cell_type": "code",
      "source": [
        "mean_salary = df['Salary'].mean()\n",
        "\n",
        "print(f\"The mean salary is: {mean_salary}\")"
      ],
      "metadata": {
        "colab": {
          "base_uri": "https://localhost:8080/"
        },
        "id": "Ej11bhAENMpx",
        "outputId": "06126455-716f-4f29-fa9a-45202d8377f9"
      },
      "execution_count": null,
      "outputs": [
        {
          "output_type": "stream",
          "name": "stdout",
          "text": [
            "The mean salary is: 87000.0\n"
          ]
        }
      ]
    },
    {
      "cell_type": "markdown",
      "source": [
        "##3. Create a scatter plot using Matplotlib.\n",
        "  "
      ],
      "metadata": {
        "id": "OOVyBfbp2Kpa"
      }
    },
    {
      "cell_type": "code",
      "source": [
        "import matplotlib.pyplot as plt\n",
        "import seaborn as sns\n",
        "\n",
        "iris = sns.load_dataset(\"iris\")\n",
        "\n",
        "# Create a scatter plot\n",
        "plt.figure(figsize=(8, 6)) # Optional: set figure size\n",
        "plt.scatter(iris['sepal_length'], iris['sepal_width'], alpha=0.7) # alpha for transparency\n",
        "plt.title('Scatter Plot of Sepal Length vs Sepal Width (Iris Dataset)')\n",
        "plt.xlabel('Sepal Length (cm)')\n",
        "plt.ylabel('Sepal Width (cm)')\n",
        "plt.grid(True) # Optional: add a grid\n",
        "plt.show()\n",
        "\n"
      ],
      "metadata": {
        "colab": {
          "base_uri": "https://localhost:8080/",
          "height": 564
        },
        "id": "Mz0wmS1VNlNp",
        "outputId": "017e3ebc-b4e1-4fb3-baa8-ea7361ae5e76"
      },
      "execution_count": null,
      "outputs": [
        {
          "output_type": "display_data",
          "data": {
            "text/plain": [
              "<Figure size 800x600 with 1 Axes>"
            ],
            "image/png": "[encoded data removed]"
          },
          "metadata": {}
        }
      ]
    },
    {
      "cell_type": "markdown",
      "source": [
        "##4. How do you calculate the correlation matrix using Seaborn and visualize it with a heatmap ?"
      ],
      "metadata": {
        "id": "vqi2UpDz3-VB"
      }
    },
    {
      "cell_type": "code",
      "source": [
        "import seaborn as sns\n",
        "\n",
        "import pandas as pd\n",
        "\n",
        "# Load the iris dataset\n",
        "iris = sns.load_dataset(\"iris\")\n",
        "\n",
        "# Calculate the correlation matrix, excluding the non-numerical 'species' column\n",
        "correlation_matrix = iris.drop('species', axis=1).corr()\n",
        "\n",
        "print(\"Correlation Matrix:\")\n",
        "print(correlation_matrix)\n",
        "\n",
        "# Visualize the correlation matrix using a heatmap\n",
        "plt.figure(figsize=(8, 6)) # Optional: set figure size\n",
        "sns.heatmap(correlation_matrix, annot=True, cmap='coolwarm', fmt=\".2f\") # annot shows values, fmt formats them\n",
        "plt.title('Correlation Heatmap of Iris Dataset')\n",
        "plt.show()"
      ],
      "metadata": {
        "colab": {
          "base_uri": "https://localhost:8080/",
          "height": 649
        },
        "id": "9_s5COwpN3pR",
        "outputId": "9cf2b2f6-b871-4ac7-abb8-250b7ac04110"
      },
      "execution_count": null,
      "outputs": [
        {
          "output_type": "stream",
          "name": "stdout",
          "text": [
            "Correlation Matrix:\n",
            "              sepal_length  sepal_width  petal_length  petal_width\n",
            "sepal_length      1.000000    -0.117570      0.871754     0.817941\n",
            "sepal_width      -0.117570     1.000000     -0.428440    -0.366126\n",
            "petal_length      0.871754    -0.428440      1.000000     0.962865\n",
            "petal_width       0.817941    -0.366126      0.962865     1.000000\n"
          ]
        },
        {
          "output_type": "display_data",
          "data": {
            "text/plain": [
              "<Figure size 800x600 with 2 Axes>"
            ],
            "image/png": "[encoded data removed]"
          },
          "metadata": {}
        }
      ]
    },
    {
      "cell_type": "markdown",
      "source": [
        "##5. Generate a bar plot using Plotly."
      ],
      "metadata": {
        "id": "mrNEs_O33-R4"
      }
    },
    {
      "cell_type": "code",
      "source": [
        "import plotly.express as px\n",
        "import pandas as pd\n",
        "\n",
        "# Sample data for the bar plot\n",
        "data = {'Category': ['A', 'B', 'C', 'D', 'E'],\n",
        "        'Value': [23, 45, 56, 12, 38]}\n",
        "\n",
        "df = pd.DataFrame(data)\n",
        "\n",
        "# Create a bar plot\n",
        "fig = px.bar(df, x='Category', y='Value', title='Sample Bar Plot using Plotly')\n",
        "\n",
        "# Display the plot\n",
        "fig.show()"
      ],
      "metadata": {
        "colab": {
          "base_uri": "https://localhost:8080/",
          "height": 542
        },
        "id": "UvzUfU1mw9MH",
        "outputId": "d8a03d5a-995b-41ce-f4e0-470db0e4bb48"
      },
      "execution_count": 1,
      "outputs": [
        {
          "output_type": "display_data",
          "data": {
            "text/html": [
              "<html>\n",
              "<head><meta charset=\"utf-8\" /></head>\n",
              "<body>\n",
              "    <div>            <script src=\"https://cdnjs.cloudflare.com/ajax/libs/mathjax/2.7.5/MathJax.js?config=TeX-AMS-MML_SVG\"></script><script type=\"text/javascript\">if (window.MathJax && window.MathJax.Hub && window.MathJax.Hub.Config) {window.MathJax.Hub.Config({SVG: {font: \"STIX-Web\"}});}</script>                <script type=\"text/javascript\">window.PlotlyConfig = {MathJaxConfig: 'local'};</script>\n",
              "        <script charset=\"utf-8\" src=\"https://cdn.plot.ly/plotly-2.35.2.min.js\"></script>                <div id=\"ab5c9d01-b56d-451b-b57c-2de064981e03\" class=\"plotly-graph-div\" style=\"height:525px; width:100%;\"></div>            <script type=\"text/javascript\">                                    window.PLOTLYENV=window.PLOTLYENV || {};                                    if (document.getElementById(\"ab5c9d01-b56d-451b-b57c-2de064981e03\")) {                    Plotly.newPlot(                        \"ab5c9d01-b56d-451b-b57c-2de064981e03\",                        [{\"alignmentgroup\":\"True\",\"hovertemplate\":\"Category=%{x}\\u003cbr\\u003eValue=%{y}\\u003cextra\\u003e\\u003c\\u002fextra\\u003e\",\"legendgroup\":\"\",\"marker\":{\"color\":\"#636efa\",\"pattern\":{\"shape\":\"\"}},\"name\":\"\",\"offsetgroup\":\"\",\"orientation\":\"v\",\"showlegend\":false,\"textposition\":\"auto\",\"x\":[\"A\",\"B\",\"C\",\"D\",\"E\"],\"xaxis\":\"x\",\"y\":[23,45,56,12,38],\"yaxis\":\"y\",\"type\":\"bar\"}],                        {\"template\":{\"data\":{\"histogram2dcontour\":[{\"type\":\"histogram2dcontour\",\"colorbar\":{\"outlinewidth\":0,\"ticks\":\"\"},\"colorscale\":[[0.0,\"#0d0887\"],[0.1111111111111111,\"#46039f\"],[0.2222222222222222,\"#7201a8\"],[0.3333333333333333,\"#9c179e\"],[0.4444444444444444,\"#bd3786\"],[0.5555555555555556,\"#d8576b\"],[0.6666666666666666,\"#ed7953\"],[0.7777777777777778,\"#fb9f3a\"],[0.8888888888888888,\"#fdca26\"],[1.0,\"#f0f921\"]]}],\"choropleth\":[{\"type\":\"choropleth\",\"colorbar\":{\"outlinewidth\":0,\"ticks\":\"\"}}],\"histogram2d\":[{\"type\":\"histogram2d\",\"colorbar\":{\"outlinewidth\":0,\"ticks\":\"\"},\"colorscale\":[[0.0,\"#0d0887\"],[0.1111111111111111,\"#46039f\"],[0.2222222222222222,\"#7201a8\"],[0.3333333333333333,\"#9c179e\"],[0.4444444444444444,\"#bd3786\"],[0.5555555555555556,\"#d8576b\"],[0.6666666666666666,\"#ed7953\"],[0.7777777777777778,\"#fb9f3a\"],[0.8888888888888888,\"#fdca26\"],[1.0,\"#f0f921\"]]}],\"heatmap\":[{\"type\":\"heatmap\",\"colorbar\":{\"outlinewidth\":0,\"ticks\":\"\"},\"colorscale\":[[0.0,\"#0d0887\"],[0.1111111111111111,\"#46039f\"],[0.2222222222222222,\"#7201a8\"],[0.3333333333333333,\"#9c179e\"],[0.4444444444444444,\"#bd3786\"],[0.5555555555555556,\"#d8576b\"],[0.6666666666666666,\"#ed7953\"],[0.7777777777777778,\"#fb9f3a\"],[0.8888888888888888,\"#fdca26\"],[1.0,\"#f0f921\"]]}],\"heatmapgl\":[{\"type\":\"heatmapgl\",\"colorbar\":{\"outlinewidth\":0,\"ticks\":\"\"},\"colorscale\":[[0.0,\"#0d0887\"],[0.1111111111111111,\"#46039f\"],[0.2222222222222222,\"#7201a8\"],[0.3333333333333333,\"#9c179e\"],[0.4444444444444444,\"#bd3786\"],[0.5555555555555556,\"#d8576b\"],[0.6666666666666666,\"#ed7953\"],[0.7777777777777778,\"#fb9f3a\"],[0.8888888888888888,\"#fdca26\"],[1.0,\"#f0f921\"]]}],\"contourcarpet\":[{\"type\":\"contourcarpet\",\"colorbar\":{\"outlinewidth\":0,\"ticks\":\"\"}}],\"contour\":[{\"type\":\"contour\",\"colorbar\":{\"outlinewidth\":0,\"ticks\":\"\"},\"colorscale\":[[0.0,\"#0d0887\"],[0.1111111111111111,\"#46039f\"],[0.2222222222222222,\"#7201a8\"],[0.3333333333333333,\"#9c179e\"],[0.4444444444444444,\"#bd3786\"],[0.5555555555555556,\"#d8576b\"],[0.6666666666666666,\"#ed7953\"],[0.7777777777777778,\"#fb9f3a\"],[0.8888888888888888,\"#fdca26\"],[1.0,\"#f0f921\"]]}],\"surface\":[{\"type\":\"surface\",\"colorbar\":{\"outlinewidth\":0,\"ticks\":\"\"},\"colorscale\":[[0.0,\"#0d0887\"],[0.1111111111111111,\"#46039f\"],[0.2222222222222222,\"#7201a8\"],[0.3333333333333333,\"#9c179e\"],[0.4444444444444444,\"#bd3786\"],[0.5555555555555556,\"#d8576b\"],[0.6666666666666666,\"#ed7953\"],[0.7777777777777778,\"#fb9f3a\"],[0.8888888888888888,\"#fdca26\"],[1.0,\"#f0f921\"]]}],\"mesh3d\":[{\"type\":\"mesh3d\",\"colorbar\":{\"outlinewidth\":0,\"ticks\":\"\"}}],\"scatter\":[{\"fillpattern\":{\"fillmode\":\"overlay\",\"size\":10,\"solidity\":0.2},\"type\":\"scatter\"}],\"parcoords\":[{\"type\":\"parcoords\",\"line\":{\"colorbar\":{\"outlinewidth\":0,\"ticks\":\"\"}}}],\"scatterpolargl\":[{\"type\":\"scatterpolargl\",\"marker\":{\"colorbar\":{\"outlinewidth\":0,\"ticks\":\"\"}}}],\"bar\":[{\"error_x\":{\"color\":\"#2a3f5f\"},\"error_y\":{\"color\":\"#2a3f5f\"},\"marker\":{\"line\":{\"color\":\"#E5ECF6\",\"width\":0.5},\"pattern\":{\"fillmode\":\"overlay\",\"size\":10,\"solidity\":0.2}},\"type\":\"bar\"}],\"scattergeo\":[{\"type\":\"scattergeo\",\"marker\":{\"colorbar\":{\"outlinewidth\":0,\"ticks\":\"\"}}}],\"scatterpolar\":[{\"type\":\"scatterpolar\",\"marker\":{\"colorbar\":{\"outlinewidth\":0,\"ticks\":\"\"}}}],\"histogram\":[{\"marker\":{\"pattern\":{\"fillmode\":\"overlay\",\"size\":10,\"solidity\":0.2}},\"type\":\"histogram\"}],\"scattergl\":[{\"type\":\"scattergl\",\"marker\":{\"colorbar\":{\"outlinewidth\":0,\"ticks\":\"\"}}}],\"scatter3d\":[{\"type\":\"scatter3d\",\"line\":{\"colorbar\":{\"outlinewidth\":0,\"ticks\":\"\"}},\"marker\":{\"colorbar\":{\"outlinewidth\":0,\"ticks\":\"\"}}}],\"scattermapbox\":[{\"type\":\"scattermapbox\",\"marker\":{\"colorbar\":{\"outlinewidth\":0,\"ticks\":\"\"}}}],\"scatterternary\":[{\"type\":\"scatterternary\",\"marker\":{\"colorbar\":{\"outlinewidth\":0,\"ticks\":\"\"}}}],\"scattercarpet\":[{\"type\":\"scattercarpet\",\"marker\":{\"colorbar\":{\"outlinewidth\":0,\"ticks\":\"\"}}}],\"carpet\":[{\"aaxis\":{\"endlinecolor\":\"#2a3f5f\",\"gridcolor\":\"white\",\"linecolor\":\"white\",\"minorgridcolor\":\"white\",\"startlinecolor\":\"#2a3f5f\"},\"baxis\":{\"endlinecolor\":\"#2a3f5f\",\"gridcolor\":\"white\",\"linecolor\":\"white\",\"minorgridcolor\":\"white\",\"startlinecolor\":\"#2a3f5f\"},\"type\":\"carpet\"}],\"table\":[{\"cells\":{\"fill\":{\"color\":\"#EBF0F8\"},\"line\":{\"color\":\"white\"}},\"header\":{\"fill\":{\"color\":\"#C8D4E3\"},\"line\":{\"color\":\"white\"}},\"type\":\"table\"}],\"barpolar\":[{\"marker\":{\"line\":{\"color\":\"#E5ECF6\",\"width\":0.5},\"pattern\":{\"fillmode\":\"overlay\",\"size\":10,\"solidity\":0.2}},\"type\":\"barpolar\"}],\"pie\":[{\"automargin\":true,\"type\":\"pie\"}]},\"layout\":{\"autotypenumbers\":\"strict\",\"colorway\":[\"#636efa\",\"#EF553B\",\"#00cc96\",\"#ab63fa\",\"#FFA15A\",\"#19d3f3\",\"#FF6692\",\"#B6E880\",\"#FF97FF\",\"#FECB52\"],\"font\":{\"color\":\"#2a3f5f\"},\"hovermode\":\"closest\",\"hoverlabel\":{\"align\":\"left\"},\"paper_bgcolor\":\"white\",\"plot_bgcolor\":\"#E5ECF6\",\"polar\":{\"bgcolor\":\"#E5ECF6\",\"angularaxis\":{\"gridcolor\":\"white\",\"linecolor\":\"white\",\"ticks\":\"\"},\"radialaxis\":{\"gridcolor\":\"white\",\"linecolor\":\"white\",\"ticks\":\"\"}},\"ternary\":{\"bgcolor\":\"#E5ECF6\",\"aaxis\":{\"gridcolor\":\"white\",\"linecolor\":\"white\",\"ticks\":\"\"},\"baxis\":{\"gridcolor\":\"white\",\"linecolor\":\"white\",\"ticks\":\"\"},\"caxis\":{\"gridcolor\":\"white\",\"linecolor\":\"white\",\"ticks\":\"\"}},\"coloraxis\":{\"colorbar\":{\"outlinewidth\":0,\"ticks\":\"\"}},\"colorscale\":{\"sequential\":[[0.0,\"#0d0887\"],[0.1111111111111111,\"#46039f\"],[0.2222222222222222,\"#7201a8\"],[0.3333333333333333,\"#9c179e\"],[0.4444444444444444,\"#bd3786\"],[0.5555555555555556,\"#d8576b\"],[0.6666666666666666,\"#ed7953\"],[0.7777777777777778,\"#fb9f3a\"],[0.8888888888888888,\"#fdca26\"],[1.0,\"#f0f921\"]],\"sequentialminus\":[[0.0,\"#0d0887\"],[0.1111111111111111,\"#46039f\"],[0.2222222222222222,\"#7201a8\"],[0.3333333333333333,\"#9c179e\"],[0.4444444444444444,\"#bd3786\"],[0.5555555555555556,\"#d8576b\"],[0.6666666666666666,\"#ed7953\"],[0.7777777777777778,\"#fb9f3a\"],[0.8888888888888888,\"#fdca26\"],[1.0,\"#f0f921\"]],\"diverging\":[[0,\"#8e0152\"],[0.1,\"#c51b7d\"],[0.2,\"#de77ae\"],[0.3,\"#f1b6da\"],[0.4,\"#fde0ef\"],[0.5,\"#f7f7f7\"],[0.6,\"#e6f5d0\"],[0.7,\"#b8e186\"],[0.8,\"#7fbc41\"],[0.9,\"#4d9221\"],[1,\"#276419\"]]},\"xaxis\":{\"gridcolor\":\"white\",\"linecolor\":\"white\",\"ticks\":\"\",\"title\":{\"standoff\":15},\"zerolinecolor\":\"white\",\"automargin\":true,\"zerolinewidth\":2},\"yaxis\":{\"gridcolor\":\"white\",\"linecolor\":\"white\",\"ticks\":\"\",\"title\":{\"standoff\":15},\"zerolinecolor\":\"white\",\"automargin\":true,\"zerolinewidth\":2},\"scene\":{\"xaxis\":{\"backgroundcolor\":\"#E5ECF6\",\"gridcolor\":\"white\",\"linecolor\":\"white\",\"showbackground\":true,\"ticks\":\"\",\"zerolinecolor\":\"white\",\"gridwidth\":2},\"yaxis\":{\"backgroundcolor\":\"#E5ECF6\",\"gridcolor\":\"white\",\"linecolor\":\"white\",\"showbackground\":true,\"ticks\":\"\",\"zerolinecolor\":\"white\",\"gridwidth\":2},\"zaxis\":{\"backgroundcolor\":\"#E5ECF6\",\"gridcolor\":\"white\",\"linecolor\":\"white\",\"showbackground\":true,\"ticks\":\"\",\"zerolinecolor\":\"white\",\"gridwidth\":2}},\"shapedefaults\":{\"line\":{\"color\":\"#2a3f5f\"}},\"annotationdefaults\":{\"arrowcolor\":\"#2a3f5f\",\"arrowhead\":0,\"arrowwidth\":1},\"geo\":{\"bgcolor\":\"white\",\"landcolor\":\"#E5ECF6\",\"subunitcolor\":\"white\",\"showland\":true,\"showlakes\":true,\"lakecolor\":\"white\"},\"title\":{\"x\":0.05},\"mapbox\":{\"style\":\"light\"}}},\"xaxis\":{\"anchor\":\"y\",\"domain\":[0.0,1.0],\"title\":{\"text\":\"Category\"}},\"yaxis\":{\"anchor\":\"x\",\"domain\":[0.0,1.0],\"title\":{\"text\":\"Value\"}},\"legend\":{\"tracegroupgap\":0},\"title\":{\"text\":\"Sample Bar Plot using Plotly\"},\"barmode\":\"relative\"},                        {\"responsive\": true}                    ).then(function(){\n",
              "                            \n",
              "var gd = document.getElementById('ab5c9d01-b56d-451b-b57c-2de064981e03');\n",
              "var x = new MutationObserver(function (mutations, observer) {{\n",
              "        var display = window.getComputedStyle(gd).display;\n",
              "        if (!display || display === 'none') {{\n",
              "            console.log([gd, 'removed!']);\n",
              "            Plotly.purge(gd);\n",
              "            observer.disconnect();\n",
              "        }}\n",
              "}});\n",
              "\n",
              "// Listen for the removal of the full notebook cells\n",
              "var notebookContainer = gd.closest('#notebook-container');\n",
              "if (notebookContainer) {{\n",
              "    x.observe(notebookContainer, {childList: true});\n",
              "}}\n",
              "\n",
              "// Listen for the clearing of the current output cell\n",
              "var outputEl = gd.closest('.output');\n",
              "if (outputEl) {{\n",
              "    x.observe(outputEl, {childList: true});\n",
              "}}\n",
              "\n",
              "                        })                };                            </script>        </div>\n",
              "</body>\n",
              "</html>"
            ]
          },
          "metadata": {}
        }
      ]
    },
    {
      "cell_type": "markdown",
      "source": [
        "##6. Create a DataFrame and add a new column based on an existing column."
      ],
      "metadata": {
        "id": "o5zI9moJ3-Lo"
      }
    },
    {
      "cell_type": "code",
      "source": [
        "import pandas as pd\n",
        "\n",
        "# Create a DataFrame\n",
        "data = {'Numbers': [1, 2, 3, 4, 5]}\n",
        "df_new = pd.DataFrame(data)\n",
        "\n",
        "print(\"Original DataFrame:\")\n",
        "print(df_new)\n",
        "\n",
        "# Add a new column 'Squared' based on the 'Numbers' column\n",
        "df_new['Squared'] = df_new['Numbers'] ** 2\n",
        "\n",
        "print(\"\\nDataFrame with new column:\")\n",
        "print(df_new)"
      ],
      "metadata": {
        "colab": {
          "base_uri": "https://localhost:8080/"
        },
        "id": "9tm6Py6wx8Wg",
        "outputId": "4738d6b5-26a0-4582-a0b7-a004a80c6e14"
      },
      "execution_count": 2,
      "outputs": [
        {
          "output_type": "stream",
          "name": "stdout",
          "text": [
            "Original DataFrame:\n",
            "   Numbers\n",
            "0        1\n",
            "1        2\n",
            "2        3\n",
            "3        4\n",
            "4        5\n",
            "\n",
            "DataFrame with new column:\n",
            "   Numbers  Squared\n",
            "0        1        1\n",
            "1        2        4\n",
            "2        3        9\n",
            "3        4       16\n",
            "4        5       25\n"
          ]
        }
      ]
    },
    {
      "cell_type": "markdown",
      "source": [
        "##7. Write a program to perform element-wise multiplication of two NumPy arrays.\n"
      ],
      "metadata": {
        "id": "_2vWT_s33-Ig"
      }
    },
    {
      "cell_type": "code",
      "source": [
        "import numpy as np\n",
        "\n",
        "# Create two NumPy arrays\n",
        "array1 = np.array([[1, 2],\n",
        "                   [3, 4]])\n",
        "\n",
        "array2 = np.array([[5, 6],\n",
        "                   [7, 8]])\n",
        "\n",
        "print(\"Array 1:\")\n",
        "print(array1)\n",
        "\n",
        "print(\"\\nArray 2:\")\n",
        "print(array2)\n",
        "\n",
        "# Perform element-wise multiplication\n",
        "result_array = array1 * array2\n",
        "\n",
        "print(\"\\nResult of element-wise multiplication:\")\n",
        "print(result_array)"
      ],
      "metadata": {
        "colab": {
          "base_uri": "https://localhost:8080/"
        },
        "id": "TS_9zIb_yS2O",
        "outputId": "2ba03d7b-6719-4609-ebd9-5d581cdbbe25"
      },
      "execution_count": 3,
      "outputs": [
        {
          "output_type": "stream",
          "name": "stdout",
          "text": [
            "Array 1:\n",
            "[[1 2]\n",
            " [3 4]]\n",
            "\n",
            "Array 2:\n",
            "[[5 6]\n",
            " [7 8]]\n",
            "\n",
            "Result of element-wise multiplication:\n",
            "[[ 5 12]\n",
            " [21 32]]\n"
          ]
        }
      ]
    },
    {
      "cell_type": "markdown",
      "source": [
        "##8. Create a line plot with multiple lines using Matplotlib."
      ],
      "metadata": {
        "id": "FQW77EwY3-Fg"
      }
    },
    {
      "cell_type": "code",
      "source": [
        "import matplotlib.pyplot as plt\n",
        "import numpy as np\n",
        "\n",
        "# Sample data\n",
        "x = np.array([1, 2, 3, 4, 5])\n",
        "y1 = np.array([2, 4, 6, 8, 10])\n",
        "y2 = np.array([1, 3, 5, 7, 9])\n",
        "y3 = np.array([5, 2, 8, 3, 7])\n",
        "\n",
        "# Create the plot\n",
        "plt.figure(figsize=(10, 6))\n",
        "\n",
        "plt.plot(x, y1, marker='o', linestyle='-', color='blue', label='Line 1')\n",
        "plt.plot(x, y2, marker='x', linestyle='--', color='red', label='Line 2')\n",
        "plt.plot(x, y3, marker='s', linestyle='-.', color='green', label='Line 3')\n",
        "\n",
        "plt.title('Line Plot with Multiple Lines')\n",
        "plt.xlabel('X-axis')\n",
        "plt.ylabel('Y-axis')\n",
        "plt.legend() # Show the legend to identify lines\n",
        "plt.grid(True)\n",
        "plt.show()"
      ],
      "metadata": {
        "colab": {
          "base_uri": "https://localhost:8080/",
          "height": 564
        },
        "id": "zlEvX-Wzyc0v",
        "outputId": "a77aee9b-51bd-4c83-8c0c-6485c58fd2aa"
      },
      "execution_count": 4,
      "outputs": [
        {
          "output_type": "display_data",
          "data": {
            "text/plain": [
              "<Figure size 1000x600 with 1 Axes>"
            ],
            "image/png": "[encoded data removed]"
          },
          "metadata": {}
        }
      ]
    },
    {
      "cell_type": "markdown",
      "source": [
        "##9. Generate a Pandas DataFrame and filter rows where a column value is greater than a threshold."
      ],
      "metadata": {
        "id": "4B0x4o0V39_g"
      }
    },
    {
      "cell_type": "code",
      "source": [
        "import pandas as pd\n",
        "\n",
        "# Create a sample DataFrame\n",
        "data = {'Numbers': [10, 25, 5, 40, 15, 30]}\n",
        "df_filter = pd.DataFrame(data)\n",
        "\n",
        "print(\"Original DataFrame:\")\n",
        "print(df_filter)\n",
        "\n",
        "# Define a threshold\n",
        "threshold = 20\n",
        "\n",
        "# Filter rows where the 'Numbers' column is greater than the threshold\n",
        "filtered_df = df_filter[df_filter['Numbers'] > threshold]\n",
        "\n",
        "print(f\"\\nDataFrame filtered for 'Numbers' > {threshold}:\")\n",
        "print(filtered_df)"
      ],
      "metadata": {
        "colab": {
          "base_uri": "https://localhost:8080/"
        },
        "id": "nXxDfaoEyx0G",
        "outputId": "9a96a74c-d567-4c3d-f765-7c2adb20b59a"
      },
      "execution_count": 5,
      "outputs": [
        {
          "output_type": "stream",
          "name": "stdout",
          "text": [
            "Original DataFrame:\n",
            "   Numbers\n",
            "0       10\n",
            "1       25\n",
            "2        5\n",
            "3       40\n",
            "4       15\n",
            "5       30\n",
            "\n",
            "DataFrame filtered for 'Numbers' > 20:\n",
            "   Numbers\n",
            "1       25\n",
            "3       40\n",
            "5       30\n"
          ]
        }
      ]
    },
    {
      "cell_type": "markdown",
      "source": [
        "##10. Create a histogram using Seaborn to visualize a distribution."
      ],
      "metadata": {
        "id": "-cze7vAJ395p"
      }
    },
    {
      "cell_type": "code",
      "source": [
        "import seaborn as sns\n",
        "import matplotlib.pyplot as plt\n",
        "import numpy as np\n",
        "\n",
        "# Create some sample data for the histogram\n",
        "data_for_histogram = [1, 2, 2, 3, 3, 3, 4, 4, 5, 5, 5, 5, 6, 6, 7]\n",
        "\n",
        "# Create the histogram using Seaborn's histplot\n",
        "plt.figure(figsize=(8, 6)) # Optional: set figure size\n",
        "sns.histplot(data=data_for_histogram, kde=True) # kde=True adds a kernel density estimate line\n",
        "plt.title('Distribution of Sample Data')\n",
        "plt.xlabel('Value')\n",
        "plt.ylabel('Frequency')\n",
        "plt.show()"
      ],
      "metadata": {
        "colab": {
          "base_uri": "https://localhost:8080/",
          "height": 564
        },
        "id": "whY72ppGzIQN",
        "outputId": "68352353-d2fa-4d55-b87f-1134343cae87"
      },
      "execution_count": 6,
      "outputs": [
        {
          "output_type": "display_data",
          "data": {
            "text/plain": [
              "<Figure size 800x600 with 1 Axes>"
            ],
            "image/png": "[encoded data removed]"
          },
          "metadata": {}
        }
      ]
    },
    {
      "cell_type": "markdown",
      "source": [
        "##11. Perform matrix multiplication using NumPy."
      ],
      "metadata": {
        "id": "Vkz3hnoh392w"
      }
    },
    {
      "cell_type": "code",
      "source": [
        "import numpy as np\n",
        "\n",
        "# Create two NumPy matrices (2D arrays)\n",
        "matrix1 = np.array([[1, 2],\n",
        "                    [3, 4]])\n",
        "\n",
        "matrix2 = np.array([[5, 6],\n",
        "                    [7, 8]])\n",
        "\n",
        "print(\"Matrix 1:\")\n",
        "print(matrix1)\n",
        "\n",
        "print(\"\\nMatrix 2:\")\n",
        "print(matrix2)\n",
        "\n",
        "# Perform matrix multiplication using the @ operator (preferred in Python 3.5+)\n",
        "result_matrix = matrix1 @ matrix2\n",
        "\n",
        "# Alternatively, using np.dot()\n",
        "# result_matrix = np.dot(matrix1, matrix2)\n",
        "\n",
        "print(\"\\nResult of matrix multiplication:\")\n",
        "print(result_matrix)"
      ],
      "metadata": {
        "colab": {
          "base_uri": "https://localhost:8080/"
        },
        "id": "vVk3WedbzZU_",
        "outputId": "66b1a26d-d3f7-440f-d8e6-e648848e7769"
      },
      "execution_count": 7,
      "outputs": [
        {
          "output_type": "stream",
          "name": "stdout",
          "text": [
            "Matrix 1:\n",
            "[[1 2]\n",
            " [3 4]]\n",
            "\n",
            "Matrix 2:\n",
            "[[5 6]\n",
            " [7 8]]\n",
            "\n",
            "Result of matrix multiplication:\n",
            "[[19 22]\n",
            " [43 50]]\n"
          ]
        }
      ]
    },
    {
      "cell_type": "markdown",
      "source": [
        "##12. Use Pandas to load a CSV file and display its first 5 rows."
      ],
      "metadata": {
        "id": "t6ytKOsW39zI"
      }
    },
    {
      "cell_type": "code",
      "source": [
        "import pandas as pd\n",
        "\n",
        "df = pd.read_csv(\"/content/services.csv\")\n",
        "\n",
        "df.head()"
      ],
      "metadata": {
        "colab": {
          "base_uri": "https://localhost:8080/",
          "height": 672
        },
        "id": "zj0DR4PLzma1",
        "outputId": "20e9be36-957c-424c-f390-87a4ad341f18"
      },
      "execution_count": 8,
      "outputs": [
        {
          "output_type": "execute_result",
          "data": {
            "text/plain": [
              "   id  location_id  program_id accepted_payments alternate_name  \\\n",
              "0   1            1         NaN               NaN            NaN   \n",
              "1   2            2         NaN               NaN            NaN   \n",
              "2   3            3         NaN               NaN            NaN   \n",
              "3   4            4         NaN               NaN            NaN   \n",
              "4   5            5         NaN               NaN            NaN   \n",
              "\n",
              "                           application_process  \\\n",
              "0                   Walk in or apply by phone.   \n",
              "1           Apply by phone for an appointment.   \n",
              "2  Phone for information (403-4300 Ext. 4322).   \n",
              "3                              Apply by phone.   \n",
              "4                       Phone for information.   \n",
              "\n",
              "                                            audience  \\\n",
              "0  Older adults age 55 or over, ethnic minorities...   \n",
              "1       Residents of San Mateo County age 55 or over   \n",
              "2  Older adults age 55 or over who can benefit fr...   \n",
              "3  Parents, children, families with problems of c...   \n",
              "4  Low-income working families with children tran...   \n",
              "\n",
              "                                         description  \\\n",
              "0  A walk-in center for older adults that provide...   \n",
              "1  Provides training and job placement to eligibl...   \n",
              "2  Offers supportive counseling services to San M...   \n",
              "3  Provides supervised visitation services and a ...   \n",
              "4  Provides fixed 8% short term loans to eligible...   \n",
              "\n",
              "                                         eligibility email  ...  \\\n",
              "0  Age 55 or over for most programs, age 60 or ov...   NaN  ...   \n",
              "1  Age 55 or over, county resident and willing an...   NaN  ...   \n",
              "2        Resident of San Mateo County age 55 or over   NaN  ...   \n",
              "3                                                NaN   NaN  ...   \n",
              "4  Eligibility: Low-income family with legal cust...   NaN  ...   \n",
              "\n",
              "  interpretation_services                                           keywords  \\\n",
              "0                     NaN  ADULT PROTECTION AND CARE SERVICES, Meal Sites...   \n",
              "1                     NaN  EMPLOYMENT/TRAINING SERVICES, Job Development,...   \n",
              "2                     NaN  Geriatric Counseling, Older Adults, Gay, Lesbi...   \n",
              "3                     NaN  INDIVIDUAL AND FAMILY DEVELOPMENT SERVICES, Gr...   \n",
              "4                     NaN     COMMUNITY SERVICES, Speakers, Automobile Loans   \n",
              "\n",
              "  languages                               name required_documents  \\\n",
              "0       NaN    Fair Oaks Adult Activity Center                NaN   \n",
              "1       NaN   Second Career Employment Program                NaN   \n",
              "2       NaN             Senior Peer Counseling                NaN   \n",
              "3       NaN           Family Visitation Center                NaN   \n",
              "4       NaN  Economic Self-Sufficiency Program                NaN   \n",
              "\n",
              "      service_areas  status wait_time website taxonomy_ids  \n",
              "0             Colma  active  No wait.     NaN          NaN  \n",
              "1  San Mateo County  active   Varies.     NaN          NaN  \n",
              "2  San Mateo County  active   Varies.     NaN          NaN  \n",
              "3  San Mateo County  active  No wait.     NaN          NaN  \n",
              "4  San Mateo County  active       NaN     NaN          NaN  \n",
              "\n",
              "[5 rows x 22 columns]"
            ],
            "text/html": [
              "\n",
              "  <div id=\"df-5b7bb8a7-e7fc-41a0-86f7-9dcdd3d2a039\" class=\"colab-df-container\">\n",
              "    <div>\n",
              "<style scoped>\n",
              "    .dataframe tbody tr th:only-of-type {\n",
              "        vertical-align: middle;\n",
              "    }\n",
              "\n",
              "    .dataframe tbody tr th {\n",
              "        vertical-align: top;\n",
              "    }\n",
              "\n",
              "    .dataframe thead th {\n",
              "        text-align: right;\n",
              "    }\n",
              "</style>\n",
              "<table border=\"1\" class=\"dataframe\">\n",
              "  <thead>\n",
              "    <tr style=\"text-align: right;\">\n",
              "      <th></th>\n",
              "      <th>id</th>\n",
              "      <th>location_id</th>\n",
              "      <th>program_id</th>\n",
              "      <th>accepted_payments</th>\n",
              "      <th>alternate_name</th>\n",
              "      <th>application_process</th>\n",
              "      <th>audience</th>\n",
              "      <th>description</th>\n",
              "      <th>eligibility</th>\n",
              "      <th>email</th>\n",
              "      <th>...</th>\n",
              "      <th>interpretation_services</th>\n",
              "      <th>keywords</th>\n",
              "      <th>languages</th>\n",
              "      <th>name</th>\n",
              "      <th>required_documents</th>\n",
              "      <th>service_areas</th>\n",
              "      <th>status</th>\n",
              "      <th>wait_time</th>\n",
              "      <th>website</th>\n",
              "      <th>taxonomy_ids</th>\n",
              "    </tr>\n",
              "  </thead>\n",
              "  <tbody>\n",
              "    <tr>\n",
              "      <th>0</th>\n",
              "      <td>1</td>\n",
              "      <td>1</td>\n",
              "      <td>NaN</td>\n",
              "      <td>NaN</td>\n",
              "      <td>NaN</td>\n",
              "      <td>Walk in or apply by phone.</td>\n",
              "      <td>Older adults age 55 or over, ethnic minorities...</td>\n",
              "      <td>A walk-in center for older adults that provide...</td>\n",
              "      <td>Age 55 or over for most programs, age 60 or ov...</td>\n",
              "      <td>NaN</td>\n",
              "      <td>...</td>\n",
              "      <td>NaN</td>\n",
              "      <td>ADULT PROTECTION AND CARE SERVICES, Meal Sites...</td>\n",
              "      <td>NaN</td>\n",
              "      <td>Fair Oaks Adult Activity Center</td>\n",
              "      <td>NaN</td>\n",
              "      <td>Colma</td>\n",
              "      <td>active</td>\n",
              "      <td>No wait.</td>\n",
              "      <td>NaN</td>\n",
              "      <td>NaN</td>\n",
              "    </tr>\n",
              "    <tr>\n",
              "      <th>1</th>\n",
              "      <td>2</td>\n",
              "      <td>2</td>\n",
              "      <td>NaN</td>\n",
              "      <td>NaN</td>\n",
              "      <td>NaN</td>\n",
              "      <td>Apply by phone for an appointment.</td>\n",
              "      <td>Residents of San Mateo County age 55 or over</td>\n",
              "      <td>Provides training and job placement to eligibl...</td>\n",
              "      <td>Age 55 or over, county resident and willing an...</td>\n",
              "      <td>NaN</td>\n",
              "      <td>...</td>\n",
              "      <td>NaN</td>\n",
              "      <td>EMPLOYMENT/TRAINING SERVICES, Job Development,...</td>\n",
              "      <td>NaN</td>\n",
              "      <td>Second Career Employment Program</td>\n",
              "      <td>NaN</td>\n",
              "      <td>San Mateo County</td>\n",
              "      <td>active</td>\n",
              "      <td>Varies.</td>\n",
              "      <td>NaN</td>\n",
              "      <td>NaN</td>\n",
              "    </tr>\n",
              "    <tr>\n",
              "      <th>2</th>\n",
              "      <td>3</td>\n",
              "      <td>3</td>\n",
              "      <td>NaN</td>\n",
              "      <td>NaN</td>\n",
              "      <td>NaN</td>\n",
              "      <td>Phone for information (403-4300 Ext. 4322).</td>\n",
              "      <td>Older adults age 55 or over who can benefit fr...</td>\n",
              "      <td>Offers supportive counseling services to San M...</td>\n",
              "      <td>Resident of San Mateo County age 55 or over</td>\n",
              "      <td>NaN</td>\n",
              "      <td>...</td>\n",
              "      <td>NaN</td>\n",
              "      <td>Geriatric Counseling, Older Adults, Gay, Lesbi...</td>\n",
              "      <td>NaN</td>\n",
              "      <td>Senior Peer Counseling</td>\n",
              "      <td>NaN</td>\n",
              "      <td>San Mateo County</td>\n",
              "      <td>active</td>\n",
              "      <td>Varies.</td>\n",
              "      <td>NaN</td>\n",
              "      <td>NaN</td>\n",
              "    </tr>\n",
              "    <tr>\n",
              "      <th>3</th>\n",
              "      <td>4</td>\n",
              "      <td>4</td>\n",
              "      <td>NaN</td>\n",
              "      <td>NaN</td>\n",
              "      <td>NaN</td>\n",
              "      <td>Apply by phone.</td>\n",
              "      <td>Parents, children, families with problems of c...</td>\n",
              "      <td>Provides supervised visitation services and a ...</td>\n",
              "      <td>NaN</td>\n",
              "      <td>NaN</td>\n",
              "      <td>...</td>\n",
              "      <td>NaN</td>\n",
              "      <td>INDIVIDUAL AND FAMILY DEVELOPMENT SERVICES, Gr...</td>\n",
              "      <td>NaN</td>\n",
              "      <td>Family Visitation Center</td>\n",
              "      <td>NaN</td>\n",
              "      <td>San Mateo County</td>\n",
              "      <td>active</td>\n",
              "      <td>No wait.</td>\n",
              "      <td>NaN</td>\n",
              "      <td>NaN</td>\n",
              "    </tr>\n",
              "    <tr>\n",
              "      <th>4</th>\n",
              "      <td>5</td>\n",
              "      <td>5</td>\n",
              "      <td>NaN</td>\n",
              "      <td>NaN</td>\n",
              "      <td>NaN</td>\n",
              "      <td>Phone for information.</td>\n",
              "      <td>Low-income working families with children tran...</td>\n",
              "      <td>Provides fixed 8% short term loans to eligible...</td>\n",
              "      <td>Eligibility: Low-income family with legal cust...</td>\n",
              "      <td>NaN</td>\n",
              "      <td>...</td>\n",
              "      <td>NaN</td>\n",
              "      <td>COMMUNITY SERVICES, Speakers, Automobile Loans</td>\n",
              "      <td>NaN</td>\n",
              "      <td>Economic Self-Sufficiency Program</td>\n",
              "      <td>NaN</td>\n",
              "      <td>San Mateo County</td>\n",
              "      <td>active</td>\n",
              "      <td>NaN</td>\n",
              "      <td>NaN</td>\n",
              "      <td>NaN</td>\n",
              "    </tr>\n",
              "  </tbody>\n",
              "</table>\n",
              "<p>5 rows × 22 columns</p>\n",
              "</div>\n",
              "    <div class=\"colab-df-buttons\">\n",
              "\n",
              "  <div class=\"colab-df-container\">\n",
              "    <button class=\"colab-df-convert\" onclick=\"convertToInteractive('df-5b7bb8a7-e7fc-41a0-86f7-9dcdd3d2a039')\"\n",
              "            title=\"Convert this dataframe to an interactive table.\"\n",
              "            style=\"display:none;\">\n",
              "\n",
              "  <svg xmlns=\"http://www.w3.org/2000/svg\" height=\"24px\" viewBox=\"0 -960 960 960\">\n",
              "    <path d=\"M120-120v-720h720v720H120Zm60-500h600v-160H180v160Zm220 220h160v-160H400v160Zm0 220h160v-160H400v160ZM180-400h160v-160H180v160Zm440 0h160v-160H620v160ZM180-180h160v-160H180v160Zm440 0h160v-160H620v160Z\"/>\n",
              "  </svg>\n",
              "    </button>\n",
              "\n",
              "  <style>\n",
              "    .colab-df-container {\n",
              "      display:flex;\n",
              "      gap: 12px;\n",
              "    }\n",
              "\n",
              "    .colab-df-convert {\n",
              "      background-color: #E8F0FE;\n",
              "      border: none;\n",
              "      border-radius: 50%;\n",
              "      cursor: pointer;\n",
              "      display: none;\n",
              "      fill: #1967D2;\n",
              "      height: 32px;\n",
              "      padding: 0 0 0 0;\n",
              "      width: 32px;\n",
              "    }\n",
              "\n",
              "    .colab-df-convert:hover {\n",
              "      background-color: #E2EBFA;\n",
              "      box-shadow: 0px 1px 2px rgba(60, 64, 67, 0.3), 0px 1px 3px 1px rgba(60, 64, 67, 0.15);\n",
              "      fill: #174EA6;\n",
              "    }\n",
              "\n",
              "    .colab-df-buttons div {\n",
              "      margin-bottom: 4px;\n",
              "    }\n",
              "\n",
              "    [theme=dark] .colab-df-convert {\n",
              "      background-color: #3B4455;\n",
              "      fill: #D2E3FC;\n",
              "    }\n",
              "\n",
              "    [theme=dark] .colab-df-convert:hover {\n",
              "      background-color: #434B5C;\n",
              "      box-shadow: 0px 1px 3px 1px rgba(0, 0, 0, 0.15);\n",
              "      filter: drop-shadow(0px 1px 2px rgba(0, 0, 0, 0.3));\n",
              "      fill: #FFFFFF;\n",
              "    }\n",
              "  </style>\n",
              "\n",
              "    <script>\n",
              "      const buttonEl =\n",
              "        document.querySelector('#df-5b7bb8a7-e7fc-41a0-86f7-9dcdd3d2a039 button.colab-df-convert');\n",
              "      buttonEl.style.display =\n",
              "        google.colab.kernel.accessAllowed ? 'block' : 'none';\n",
              "\n",
              "      async function convertToInteractive(key) {\n",
              "        const element = document.querySelector('#df-5b7bb8a7-e7fc-41a0-86f7-9dcdd3d2a039');\n",
              "        const dataTable =\n",
              "          await google.colab.kernel.invokeFunction('convertToInteractive',\n",
              "                                                    [key], {});\n",
              "        if (!dataTable) return;\n",
              "\n",
              "        const docLinkHtml = 'Like what you see? Visit the ' +\n",
              "          '<a target=\"_blank\" href=https://colab.research.google.com/notebooks/data_table.ipynb>data table notebook</a>'\n",
              "          + ' to learn more about interactive tables.';\n",
              "        element.innerHTML = '';\n",
              "        dataTable['output_type'] = 'display_data';\n",
              "        await google.colab.output.renderOutput(dataTable, element);\n",
              "        const docLink = document.createElement('div');\n",
              "        docLink.innerHTML = docLinkHtml;\n",
              "        element.appendChild(docLink);\n",
              "      }\n",
              "    </script>\n",
              "  </div>\n",
              "\n",
              "\n",
              "    <div id=\"df-3f85a62f-b676-4d84-b423-276ef15fbfb4\">\n",
              "      <button class=\"colab-df-quickchart\" onclick=\"quickchart('df-3f85a62f-b676-4d84-b423-276ef15fbfb4')\"\n",
              "                title=\"Suggest charts\"\n",
              "                style=\"display:none;\">\n",
              "\n",
              "<svg xmlns=\"http://www.w3.org/2000/svg\" height=\"24px\"viewBox=\"0 0 24 24\"\n",
              "     width=\"24px\">\n",
              "    <g>\n",
              "        <path d=\"M19 3H5c-1.1 0-2 .9-2 2v14c0 1.1.9 2 2 2h14c1.1 0 2-.9 2-2V5c0-1.1-.9-2-2-2zM9 17H7v-7h2v7zm4 0h-2V7h2v10zm4 0h-2v-4h2v4z\"/>\n",
              "    </g>\n",
              "</svg>\n",
              "      </button>\n",
              "\n",
              "<style>\n",
              "  .colab-df-quickchart {\n",
              "      --bg-color: #E8F0FE;\n",
              "      --fill-color: #1967D2;\n",
              "      --hover-bg-color: #E2EBFA;\n",
              "      --hover-fill-color: #174EA6;\n",
              "      --disabled-fill-color: #AAA;\n",
              "      --disabled-bg-color: #DDD;\n",
              "  }\n",
              "\n",
              "  [theme=dark] .colab-df-quickchart {\n",
              "      --bg-color: #3B4455;\n",
              "      --fill-color: #D2E3FC;\n",
              "      --hover-bg-color: #434B5C;\n",
              "      --hover-fill-color: #FFFFFF;\n",
              "      --disabled-bg-color: #3B4455;\n",
              "      --disabled-fill-color: #666;\n",
              "  }\n",
              "\n",
              "  .colab-df-quickchart {\n",
              "    background-color: var(--bg-color);\n",
              "    border: none;\n",
              "    border-radius: 50%;\n",
              "    cursor: pointer;\n",
              "    display: none;\n",
              "    fill: var(--fill-color);\n",
              "    height: 32px;\n",
              "    padding: 0;\n",
              "    width: 32px;\n",
              "  }\n",
              "\n",
              "  .colab-df-quickchart:hover {\n",
              "    background-color: var(--hover-bg-color);\n",
              "    box-shadow: 0 1px 2px rgba(60, 64, 67, 0.3), 0 1px 3px 1px rgba(60, 64, 67, 0.15);\n",
              "    fill: var(--button-hover-fill-color);\n",
              "  }\n",
              "\n",
              "  .colab-df-quickchart-complete:disabled,\n",
              "  .colab-df-quickchart-complete:disabled:hover {\n",
              "    background-color: var(--disabled-bg-color);\n",
              "    fill: var(--disabled-fill-color);\n",
              "    box-shadow: none;\n",
              "  }\n",
              "\n",
              "  .colab-df-spinner {\n",
              "    border: 2px solid var(--fill-color);\n",
              "    border-color: transparent;\n",
              "    border-bottom-color: var(--fill-color);\n",
              "    animation:\n",
              "      spin 1s steps(1) infinite;\n",
              "  }\n",
              "\n",
              "  @keyframes spin {\n",
              "    0% {\n",
              "      border-color: transparent;\n",
              "      border-bottom-color: var(--fill-color);\n",
              "      border-left-color: var(--fill-color);\n",
              "    }\n",
              "    20% {\n",
              "      border-color: transparent;\n",
              "      border-left-color: var(--fill-color);\n",
              "      border-top-color: var(--fill-color);\n",
              "    }\n",
              "    30% {\n",
              "      border-color: transparent;\n",
              "      border-left-color: var(--fill-color);\n",
              "      border-top-color: var(--fill-color);\n",
              "      border-right-color: var(--fill-color);\n",
              "    }\n",
              "    40% {\n",
              "      border-color: transparent;\n",
              "      border-right-color: var(--fill-color);\n",
              "      border-top-color: var(--fill-color);\n",
              "    }\n",
              "    60% {\n",
              "      border-color: transparent;\n",
              "      border-right-color: var(--fill-color);\n",
              "    }\n",
              "    80% {\n",
              "      border-color: transparent;\n",
              "      border-right-color: var(--fill-color);\n",
              "      border-bottom-color: var(--fill-color);\n",
              "    }\n",
              "    90% {\n",
              "      border-color: transparent;\n",
              "      border-bottom-color: var(--fill-color);\n",
              "    }\n",
              "  }\n",
              "</style>\n",
              "\n",
              "      <script>\n",
              "        async function quickchart(key) {\n",
              "          const quickchartButtonEl =\n",
              "            document.querySelector('#' + key + ' button');\n",
              "          quickchartButtonEl.disabled = true;  // To prevent multiple clicks.\n",
              "          quickchartButtonEl.classList.add('colab-df-spinner');\n",
              "          try {\n",
              "            const charts = await google.colab.kernel.invokeFunction(\n",
              "                'suggestCharts', [key], {});\n",
              "          } catch (error) {\n",
              "            console.error('Error during call to suggestCharts:', error);\n",
              "          }\n",
              "          quickchartButtonEl.classList.remove('colab-df-spinner');\n",
              "          quickchartButtonEl.classList.add('colab-df-quickchart-complete');\n",
              "        }\n",
              "        (() => {\n",
              "          let quickchartButtonEl =\n",
              "            document.querySelector('#df-3f85a62f-b676-4d84-b423-276ef15fbfb4 button');\n",
              "          quickchartButtonEl.style.display =\n",
              "            google.colab.kernel.accessAllowed ? 'block' : 'none';\n",
              "        })();\n",
              "      </script>\n",
              "    </div>\n",
              "\n",
              "    </div>\n",
              "  </div>\n"
            ],
            "application/vnd.google.colaboratory.intrinsic+json": {
              "type": "dataframe",
              "variable_name": "df"
            }
          },
          "metadata": {},
          "execution_count": 8
        }
      ]
    },
    {
      "cell_type": "markdown",
      "source": [
        "##13. Create a 3D scatter plot using Plotly."
      ],
      "metadata": {
        "id": "PzuZkW854f3I"
      }
    },
    {
      "cell_type": "code",
      "source": [
        "import plotly.express as px\n",
        "import seaborn as sns\n",
        "\n",
        "# Load the iris dataset if not already loaded\n",
        "iris = sns.load_dataset(\"iris\")\n",
        "\n",
        "# Create a 3D scatter plot\n",
        "fig = px.scatter_3d(iris,\n",
        "                    x='sepal_length',\n",
        "                    y='sepal_width',\n",
        "                    z='petal_length',\n",
        "                    color='species',\n",
        "                    title='3D Scatter Plot of Iris Dataset')\n",
        "\n",
        "fig.show()"
      ],
      "metadata": {
        "colab": {
          "base_uri": "https://localhost:8080/",
          "height": 542
        },
        "id": "2MCztJsx1Gjm",
        "outputId": "395471ff-d517-4737-84c0-3d57bf768622"
      },
      "execution_count": 10,
      "outputs": [
        {
          "output_type": "display_data",
          "data": {
            "text/html": [
              "<html>\n",
              "<head><meta charset=\"utf-8\" /></head>\n",
              "<body>\n",
              "    <div>            <script src=\"https://cdnjs.cloudflare.com/ajax/libs/mathjax/2.7.5/MathJax.js?config=TeX-AMS-MML_SVG\"></script><script type=\"text/javascript\">if (window.MathJax && window.MathJax.Hub && window.MathJax.Hub.Config) {window.MathJax.Hub.Config({SVG: {font: \"STIX-Web\"}});}</script>                <script type=\"text/javascript\">window.PlotlyConfig = {MathJaxConfig: 'local'};</script>\n",
              "        <script charset=\"utf-8\" src=\"https://cdn.plot.ly/plotly-2.35.2.min.js\"></script>                <div id=\"6db4fdb4-c893-4291-8432-69b84a1d85c6\" class=\"plotly-graph-div\" style=\"height:525px; width:100%;\"></div>            <script type=\"text/javascript\">                                    window.PLOTLYENV=window.PLOTLYENV || {};                                    if (document.getElementById(\"6db4fdb4-c893-4291-8432-69b84a1d85c6\")) {                    Plotly.newPlot(                        \"6db4fdb4-c893-4291-8432-69b84a1d85c6\",                        [{\"hovertemplate\":\"species=setosa\\u003cbr\\u003esepal_length=%{x}\\u003cbr\\u003esepal_width=%{y}\\u003cbr\\u003epetal_length=%{z}\\u003cextra\\u003e\\u003c\\u002fextra\\u003e\",\"legendgroup\":\"setosa\",\"marker\":{\"color\":\"#636efa\",\"symbol\":\"circle\"},\"mode\":\"markers\",\"name\":\"setosa\",\"scene\":\"scene\",\"showlegend\":true,\"x\":[5.1,4.9,4.7,4.6,5.0,5.4,4.6,5.0,4.4,4.9,5.4,4.8,4.8,4.3,5.8,5.7,5.4,5.1,5.7,5.1,5.4,5.1,4.6,5.1,4.8,5.0,5.0,5.2,5.2,4.7,4.8,5.4,5.2,5.5,4.9,5.0,5.5,4.9,4.4,5.1,5.0,4.5,4.4,5.0,5.1,4.8,5.1,4.6,5.3,5.0],\"y\":[3.5,3.0,3.2,3.1,3.6,3.9,3.4,3.4,2.9,3.1,3.7,3.4,3.0,3.0,4.0,4.4,3.9,3.5,3.8,3.8,3.4,3.7,3.6,3.3,3.4,3.0,3.4,3.5,3.4,3.2,3.1,3.4,4.1,4.2,3.1,3.2,3.5,3.6,3.0,3.4,3.5,2.3,3.2,3.5,3.8,3.0,3.8,3.2,3.7,3.3],\"z\":[1.4,1.4,1.3,1.5,1.4,1.7,1.4,1.5,1.4,1.5,1.5,1.6,1.4,1.1,1.2,1.5,1.3,1.4,1.7,1.5,1.7,1.5,1.0,1.7,1.9,1.6,1.6,1.5,1.4,1.6,1.6,1.5,1.5,1.4,1.5,1.2,1.3,1.4,1.3,1.5,1.3,1.3,1.3,1.6,1.9,1.4,1.6,1.4,1.5,1.4],\"type\":\"scatter3d\"},{\"hovertemplate\":\"species=versicolor\\u003cbr\\u003esepal_length=%{x}\\u003cbr\\u003esepal_width=%{y}\\u003cbr\\u003epetal_length=%{z}\\u003cextra\\u003e\\u003c\\u002fextra\\u003e\",\"legendgroup\":\"versicolor\",\"marker\":{\"color\":\"#EF553B\",\"symbol\":\"circle\"},\"mode\":\"markers\",\"name\":\"versicolor\",\"scene\":\"scene\",\"showlegend\":true,\"x\":[7.0,6.4,6.9,5.5,6.5,5.7,6.3,4.9,6.6,5.2,5.0,5.9,6.0,6.1,5.6,6.7,5.6,5.8,6.2,5.6,5.9,6.1,6.3,6.1,6.4,6.6,6.8,6.7,6.0,5.7,5.5,5.5,5.8,6.0,5.4,6.0,6.7,6.3,5.6,5.5,5.5,6.1,5.8,5.0,5.6,5.7,5.7,6.2,5.1,5.7],\"y\":[3.2,3.2,3.1,2.3,2.8,2.8,3.3,2.4,2.9,2.7,2.0,3.0,2.2,2.9,2.9,3.1,3.0,2.7,2.2,2.5,3.2,2.8,2.5,2.8,2.9,3.0,2.8,3.0,2.9,2.6,2.4,2.4,2.7,2.7,3.0,3.4,3.1,2.3,3.0,2.5,2.6,3.0,2.6,2.3,2.7,3.0,2.9,2.9,2.5,2.8],\"z\":[4.7,4.5,4.9,4.0,4.6,4.5,4.7,3.3,4.6,3.9,3.5,4.2,4.0,4.7,3.6,4.4,4.5,4.1,4.5,3.9,4.8,4.0,4.9,4.7,4.3,4.4,4.8,5.0,4.5,3.5,3.8,3.7,3.9,5.1,4.5,4.5,4.7,4.4,4.1,4.0,4.4,4.6,4.0,3.3,4.2,4.2,4.2,4.3,3.0,4.1],\"type\":\"scatter3d\"},{\"hovertemplate\":\"species=virginica\\u003cbr\\u003esepal_length=%{x}\\u003cbr\\u003esepal_width=%{y}\\u003cbr\\u003epetal_length=%{z}\\u003cextra\\u003e\\u003c\\u002fextra\\u003e\",\"legendgroup\":\"virginica\",\"marker\":{\"color\":\"#00cc96\",\"symbol\":\"circle\"},\"mode\":\"markers\",\"name\":\"virginica\",\"scene\":\"scene\",\"showlegend\":true,\"x\":[6.3,5.8,7.1,6.3,6.5,7.6,4.9,7.3,6.7,7.2,6.5,6.4,6.8,5.7,5.8,6.4,6.5,7.7,7.7,6.0,6.9,5.6,7.7,6.3,6.7,7.2,6.2,6.1,6.4,7.2,7.4,7.9,6.4,6.3,6.1,7.7,6.3,6.4,6.0,6.9,6.7,6.9,5.8,6.8,6.7,6.7,6.3,6.5,6.2,5.9],\"y\":[3.3,2.7,3.0,2.9,3.0,3.0,2.5,2.9,2.5,3.6,3.2,2.7,3.0,2.5,2.8,3.2,3.0,3.8,2.6,2.2,3.2,2.8,2.8,2.7,3.3,3.2,2.8,3.0,2.8,3.0,2.8,3.8,2.8,2.8,2.6,3.0,3.4,3.1,3.0,3.1,3.1,3.1,2.7,3.2,3.3,3.0,2.5,3.0,3.4,3.0],\"z\":[6.0,5.1,5.9,5.6,5.8,6.6,4.5,6.3,5.8,6.1,5.1,5.3,5.5,5.0,5.1,5.3,5.5,6.7,6.9,5.0,5.7,4.9,6.7,4.9,5.7,6.0,4.8,4.9,5.6,5.8,6.1,6.4,5.6,5.1,5.6,6.1,5.6,5.5,4.8,5.4,5.6,5.1,5.1,5.9,5.7,5.2,5.0,5.2,5.4,5.1],\"type\":\"scatter3d\"}],                        {\"template\":{\"data\":{\"histogram2dcontour\":[{\"type\":\"histogram2dcontour\",\"colorbar\":{\"outlinewidth\":0,\"ticks\":\"\"},\"colorscale\":[[0.0,\"#0d0887\"],[0.1111111111111111,\"#46039f\"],[0.2222222222222222,\"#7201a8\"],[0.3333333333333333,\"#9c179e\"],[0.4444444444444444,\"#bd3786\"],[0.5555555555555556,\"#d8576b\"],[0.6666666666666666,\"#ed7953\"],[0.7777777777777778,\"#fb9f3a\"],[0.8888888888888888,\"#fdca26\"],[1.0,\"#f0f921\"]]}],\"choropleth\":[{\"type\":\"choropleth\",\"colorbar\":{\"outlinewidth\":0,\"ticks\":\"\"}}],\"histogram2d\":[{\"type\":\"histogram2d\",\"colorbar\":{\"outlinewidth\":0,\"ticks\":\"\"},\"colorscale\":[[0.0,\"#0d0887\"],[0.1111111111111111,\"#46039f\"],[0.2222222222222222,\"#7201a8\"],[0.3333333333333333,\"#9c179e\"],[0.4444444444444444,\"#bd3786\"],[0.5555555555555556,\"#d8576b\"],[0.6666666666666666,\"#ed7953\"],[0.7777777777777778,\"#fb9f3a\"],[0.8888888888888888,\"#fdca26\"],[1.0,\"#f0f921\"]]}],\"heatmap\":[{\"type\":\"heatmap\",\"colorbar\":{\"outlinewidth\":0,\"ticks\":\"\"},\"colorscale\":[[0.0,\"#0d0887\"],[0.1111111111111111,\"#46039f\"],[0.2222222222222222,\"#7201a8\"],[0.3333333333333333,\"#9c179e\"],[0.4444444444444444,\"#bd3786\"],[0.5555555555555556,\"#d8576b\"],[0.6666666666666666,\"#ed7953\"],[0.7777777777777778,\"#fb9f3a\"],[0.8888888888888888,\"#fdca26\"],[1.0,\"#f0f921\"]]}],\"heatmapgl\":[{\"type\":\"heatmapgl\",\"colorbar\":{\"outlinewidth\":0,\"ticks\":\"\"},\"colorscale\":[[0.0,\"#0d0887\"],[0.1111111111111111,\"#46039f\"],[0.2222222222222222,\"#7201a8\"],[0.3333333333333333,\"#9c179e\"],[0.4444444444444444,\"#bd3786\"],[0.5555555555555556,\"#d8576b\"],[0.6666666666666666,\"#ed7953\"],[0.7777777777777778,\"#fb9f3a\"],[0.8888888888888888,\"#fdca26\"],[1.0,\"#f0f921\"]]}],\"contourcarpet\":[{\"type\":\"contourcarpet\",\"colorbar\":{\"outlinewidth\":0,\"ticks\":\"\"}}],\"contour\":[{\"type\":\"contour\",\"colorbar\":{\"outlinewidth\":0,\"ticks\":\"\"},\"colorscale\":[[0.0,\"#0d0887\"],[0.1111111111111111,\"#46039f\"],[0.2222222222222222,\"#7201a8\"],[0.3333333333333333,\"#9c179e\"],[0.4444444444444444,\"#bd3786\"],[0.5555555555555556,\"#d8576b\"],[0.6666666666666666,\"#ed7953\"],[0.7777777777777778,\"#fb9f3a\"],[0.8888888888888888,\"#fdca26\"],[1.0,\"#f0f921\"]]}],\"surface\":[{\"type\":\"surface\",\"colorbar\":{\"outlinewidth\":0,\"ticks\":\"\"},\"colorscale\":[[0.0,\"#0d0887\"],[0.1111111111111111,\"#46039f\"],[0.2222222222222222,\"#7201a8\"],[0.3333333333333333,\"#9c179e\"],[0.4444444444444444,\"#bd3786\"],[0.5555555555555556,\"#d8576b\"],[0.6666666666666666,\"#ed7953\"],[0.7777777777777778,\"#fb9f3a\"],[0.8888888888888888,\"#fdca26\"],[1.0,\"#f0f921\"]]}],\"mesh3d\":[{\"type\":\"mesh3d\",\"colorbar\":{\"outlinewidth\":0,\"ticks\":\"\"}}],\"scatter\":[{\"fillpattern\":{\"fillmode\":\"overlay\",\"size\":10,\"solidity\":0.2},\"type\":\"scatter\"}],\"parcoords\":[{\"type\":\"parcoords\",\"line\":{\"colorbar\":{\"outlinewidth\":0,\"ticks\":\"\"}}}],\"scatterpolargl\":[{\"type\":\"scatterpolargl\",\"marker\":{\"colorbar\":{\"outlinewidth\":0,\"ticks\":\"\"}}}],\"bar\":[{\"error_x\":{\"color\":\"#2a3f5f\"},\"error_y\":{\"color\":\"#2a3f5f\"},\"marker\":{\"line\":{\"color\":\"#E5ECF6\",\"width\":0.5},\"pattern\":{\"fillmode\":\"overlay\",\"size\":10,\"solidity\":0.2}},\"type\":\"bar\"}],\"scattergeo\":[{\"type\":\"scattergeo\",\"marker\":{\"colorbar\":{\"outlinewidth\":0,\"ticks\":\"\"}}}],\"scatterpolar\":[{\"type\":\"scatterpolar\",\"marker\":{\"colorbar\":{\"outlinewidth\":0,\"ticks\":\"\"}}}],\"histogram\":[{\"marker\":{\"pattern\":{\"fillmode\":\"overlay\",\"size\":10,\"solidity\":0.2}},\"type\":\"histogram\"}],\"scattergl\":[{\"type\":\"scattergl\",\"marker\":{\"colorbar\":{\"outlinewidth\":0,\"ticks\":\"\"}}}],\"scatter3d\":[{\"type\":\"scatter3d\",\"line\":{\"colorbar\":{\"outlinewidth\":0,\"ticks\":\"\"}},\"marker\":{\"colorbar\":{\"outlinewidth\":0,\"ticks\":\"\"}}}],\"scattermapbox\":[{\"type\":\"scattermapbox\",\"marker\":{\"colorbar\":{\"outlinewidth\":0,\"ticks\":\"\"}}}],\"scatterternary\":[{\"type\":\"scatterternary\",\"marker\":{\"colorbar\":{\"outlinewidth\":0,\"ticks\":\"\"}}}],\"scattercarpet\":[{\"type\":\"scattercarpet\",\"marker\":{\"colorbar\":{\"outlinewidth\":0,\"ticks\":\"\"}}}],\"carpet\":[{\"aaxis\":{\"endlinecolor\":\"#2a3f5f\",\"gridcolor\":\"white\",\"linecolor\":\"white\",\"minorgridcolor\":\"white\",\"startlinecolor\":\"#2a3f5f\"},\"baxis\":{\"endlinecolor\":\"#2a3f5f\",\"gridcolor\":\"white\",\"linecolor\":\"white\",\"minorgridcolor\":\"white\",\"startlinecolor\":\"#2a3f5f\"},\"type\":\"carpet\"}],\"table\":[{\"cells\":{\"fill\":{\"color\":\"#EBF0F8\"},\"line\":{\"color\":\"white\"}},\"header\":{\"fill\":{\"color\":\"#C8D4E3\"},\"line\":{\"color\":\"white\"}},\"type\":\"table\"}],\"barpolar\":[{\"marker\":{\"line\":{\"color\":\"#E5ECF6\",\"width\":0.5},\"pattern\":{\"fillmode\":\"overlay\",\"size\":10,\"solidity\":0.2}},\"type\":\"barpolar\"}],\"pie\":[{\"automargin\":true,\"type\":\"pie\"}]},\"layout\":{\"autotypenumbers\":\"strict\",\"colorway\":[\"#636efa\",\"#EF553B\",\"#00cc96\",\"#ab63fa\",\"#FFA15A\",\"#19d3f3\",\"#FF6692\",\"#B6E880\",\"#FF97FF\",\"#FECB52\"],\"font\":{\"color\":\"#2a3f5f\"},\"hovermode\":\"closest\",\"hoverlabel\":{\"align\":\"left\"},\"paper_bgcolor\":\"white\",\"plot_bgcolor\":\"#E5ECF6\",\"polar\":{\"bgcolor\":\"#E5ECF6\",\"angularaxis\":{\"gridcolor\":\"white\",\"linecolor\":\"white\",\"ticks\":\"\"},\"radialaxis\":{\"gridcolor\":\"white\",\"linecolor\":\"white\",\"ticks\":\"\"}},\"ternary\":{\"bgcolor\":\"#E5ECF6\",\"aaxis\":{\"gridcolor\":\"white\",\"linecolor\":\"white\",\"ticks\":\"\"},\"baxis\":{\"gridcolor\":\"white\",\"linecolor\":\"white\",\"ticks\":\"\"},\"caxis\":{\"gridcolor\":\"white\",\"linecolor\":\"white\",\"ticks\":\"\"}},\"coloraxis\":{\"colorbar\":{\"outlinewidth\":0,\"ticks\":\"\"}},\"colorscale\":{\"sequential\":[[0.0,\"#0d0887\"],[0.1111111111111111,\"#46039f\"],[0.2222222222222222,\"#7201a8\"],[0.3333333333333333,\"#9c179e\"],[0.4444444444444444,\"#bd3786\"],[0.5555555555555556,\"#d8576b\"],[0.6666666666666666,\"#ed7953\"],[0.7777777777777778,\"#fb9f3a\"],[0.8888888888888888,\"#fdca26\"],[1.0,\"#f0f921\"]],\"sequentialminus\":[[0.0,\"#0d0887\"],[0.1111111111111111,\"#46039f\"],[0.2222222222222222,\"#7201a8\"],[0.3333333333333333,\"#9c179e\"],[0.4444444444444444,\"#bd3786\"],[0.5555555555555556,\"#d8576b\"],[0.6666666666666666,\"#ed7953\"],[0.7777777777777778,\"#fb9f3a\"],[0.8888888888888888,\"#fdca26\"],[1.0,\"#f0f921\"]],\"diverging\":[[0,\"#8e0152\"],[0.1,\"#c51b7d\"],[0.2,\"#de77ae\"],[0.3,\"#f1b6da\"],[0.4,\"#fde0ef\"],[0.5,\"#f7f7f7\"],[0.6,\"#e6f5d0\"],[0.7,\"#b8e186\"],[0.8,\"#7fbc41\"],[0.9,\"#4d9221\"],[1,\"#276419\"]]},\"xaxis\":{\"gridcolor\":\"white\",\"linecolor\":\"white\",\"ticks\":\"\",\"title\":{\"standoff\":15},\"zerolinecolor\":\"white\",\"automargin\":true,\"zerolinewidth\":2},\"yaxis\":{\"gridcolor\":\"white\",\"linecolor\":\"white\",\"ticks\":\"\",\"title\":{\"standoff\":15},\"zerolinecolor\":\"white\",\"automargin\":true,\"zerolinewidth\":2},\"scene\":{\"xaxis\":{\"backgroundcolor\":\"#E5ECF6\",\"gridcolor\":\"white\",\"linecolor\":\"white\",\"showbackground\":true,\"ticks\":\"\",\"zerolinecolor\":\"white\",\"gridwidth\":2},\"yaxis\":{\"backgroundcolor\":\"#E5ECF6\",\"gridcolor\":\"white\",\"linecolor\":\"white\",\"showbackground\":true,\"ticks\":\"\",\"zerolinecolor\":\"white\",\"gridwidth\":2},\"zaxis\":{\"backgroundcolor\":\"#E5ECF6\",\"gridcolor\":\"white\",\"linecolor\":\"white\",\"showbackground\":true,\"ticks\":\"\",\"zerolinecolor\":\"white\",\"gridwidth\":2}},\"shapedefaults\":{\"line\":{\"color\":\"#2a3f5f\"}},\"annotationdefaults\":{\"arrowcolor\":\"#2a3f5f\",\"arrowhead\":0,\"arrowwidth\":1},\"geo\":{\"bgcolor\":\"white\",\"landcolor\":\"#E5ECF6\",\"subunitcolor\":\"white\",\"showland\":true,\"showlakes\":true,\"lakecolor\":\"white\"},\"title\":{\"x\":0.05},\"mapbox\":{\"style\":\"light\"}}},\"scene\":{\"domain\":{\"x\":[0.0,1.0],\"y\":[0.0,1.0]},\"xaxis\":{\"title\":{\"text\":\"sepal_length\"}},\"yaxis\":{\"title\":{\"text\":\"sepal_width\"}},\"zaxis\":{\"title\":{\"text\":\"petal_length\"}}},\"legend\":{\"title\":{\"text\":\"species\"},\"tracegroupgap\":0},\"title\":{\"text\":\"3D Scatter Plot of Iris Dataset\"}},                        {\"responsive\": true}                    ).then(function(){\n",
              "                            \n",
              "var gd = document.getElementById('6db4fdb4-c893-4291-8432-69b84a1d85c6');\n",
              "var x = new MutationObserver(function (mutations, observer) {{\n",
              "        var display = window.getComputedStyle(gd).display;\n",
              "        if (!display || display === 'none') {{\n",
              "            console.log([gd, 'removed!']);\n",
              "            Plotly.purge(gd);\n",
              "            observer.disconnect();\n",
              "        }}\n",
              "}});\n",
              "\n",
              "// Listen for the removal of the full notebook cells\n",
              "var notebookContainer = gd.closest('#notebook-container');\n",
              "if (notebookContainer) {{\n",
              "    x.observe(notebookContainer, {childList: true});\n",
              "}}\n",
              "\n",
              "// Listen for the clearing of the current output cell\n",
              "var outputEl = gd.closest('.output');\n",
              "if (outputEl) {{\n",
              "    x.observe(outputEl, {childList: true});\n",
              "}}\n",
              "\n",
              "                        })                };                            </script>        </div>\n",
              "</body>\n",
              "</html>"
            ]
          },
          "metadata": {}
        }
      ]
    },
    {
      "cell_type": "code",
      "execution_count": null,
      "metadata": {
        "id": "H5hq0SSX1xWC"
      },
      "outputs": [],
      "source": []
    }
  ]
}