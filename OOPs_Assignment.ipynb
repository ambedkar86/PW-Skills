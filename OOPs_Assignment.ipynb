{
  "nbformat": 4,
  "nbformat_minor": 0,
  "metadata": {
    "colab": {
      "provenance": []
    },
    "kernelspec": {
      "name": "python3",
      "display_name": "Python 3"
    },
    "language_info": {
      "name": "python"
    }
  },
  "cells": [
    {
      "cell_type": "markdown",
      "source": [
        "# Python OOPs Questions"
      ],
      "metadata": {
        "id": "JMzmFXMZF1TO"
      }
    },
    {
      "cell_type": "markdown",
      "source": [
        "##1. What is Object-Oriented Programming (OOP)?\n",
        "   -  Object-Oriented Programming (OOP) is a programming paradigm that structures software around objects, which are self-contained units that bundle data (attributes) and the functions that operate on that data (methods). OOP organizes programs into reusable blueprints called classes that define the structure for creating objects, enabling developers to model real-world entities and their interactions within a program. Key principles of OOP include encapsulation, abstraction, inheritance, and polymorphism, which contribute to more maintainable, scalable, and efficient software, especially for large and complex projects.\n"
      ],
      "metadata": {
        "id": "KW1ZtrdiFpw2"
      }
    },
    {
      "cell_type": "markdown",
      "source": [
        "##2. What is a class in OOP ?\n",
        "   - A class is a collection of objects. Classes are blueprints for creating objects. A class defines a set of attributes and methods that the created objects (instances) can have.\n",
        "\n",
        "  - Key points on Python class:  \n",
        "\n",
        "    - Classes are created by keyword class.\n",
        "    - Attributes are the variables that belong to a class.\n",
        "    - Attributes are always public and can be accessed using the dot (.) operator. Example: Myclass.Myattribute"
      ],
      "metadata": {
        "id": "q62TA-lSFkWu"
      }
    },
    {
      "cell_type": "markdown",
      "source": [
        "## 3. What is an object in OOP ?\n",
        "   - An Object is an instance of a Class. It represents a specific implementation of the class and holds its own data.\n",
        "\n",
        "   - An object consists of:\n",
        "\n",
        "     - **State**: It is represented by the attributes and reflects the properties of an object.\n",
        "     - **Behavior**: It is represented by the methods of an object and reflects the response of an object to other objects.\n",
        "     - **Identity**: It gives a unique name to an object and enables one object to interact with other objects."
      ],
      "metadata": {
        "id": "hIZYTIrjGgDn"
      }
    },
    {
      "cell_type": "markdown",
      "source": [
        "##4.  What is the difference between abstraction and encapsulation ?\n",
        "   -  **Abstraction :** Abstraction focuses on hiding the complexity of what an object does. It involves defining the essential characteristics and behaviors of an object, presenting a simplified view to the user while concealing the intricate implementation details. This is often achieved through abstract classes and interfaces, which define a contract for behavior without specifying how that behavior is implemented. The user interacts with the abstract representation without needing to understand the underlying mechanisms\n",
        "\n",
        "   - **Encapsulation:** Encapsulation focuses on hiding the complexity of how an object does something. It involves bundling data (attributes) and methods (behaviors) that operate on that data into a single unit, typically a class. Encapsulation restricts direct access to an object's internal state and provides controlled access through public methods (like getters and setters). This protects the data from unauthorized or inconsistent modifications and ensures data integrity.\n"
      ],
      "metadata": {
        "id": "4z1W5Dd9GgAW"
      }
    },
    {
      "cell_type": "markdown",
      "source": [
        "##5.  What are dunder methods in Python ?\n",
        "  - Python Magic methods are the methods starting and ending with double underscores '__'. They are defined by built-in classes in Python and commonly used for operator overloading. They are also called Dunder methods, Dunder here means \"Double Under (Underscores)\".\n",
        "  \n",
        "    \n"
      ],
      "metadata": {
        "id": "d2hwNrmiGf8t"
      }
    },
    {
      "cell_type": "code",
      "source": [
        "#Example : __init__, __str__"
      ],
      "metadata": {
        "id": "Vj0SvembDf7_"
      },
      "execution_count": null,
      "outputs": []
    },
    {
      "cell_type": "markdown",
      "source": [
        "##6.  Explain the concept of inheritance in OOP ?\n",
        "  -  Inheritance is a fundamental concept in object-oriented programming (OOP) that allows a new class to reuse, extend, and modify the properties and behaviors of an existing class. It's a way of modeling a hierarchical \"is-a\" relationship between classes.\n",
        "\n",
        "  - The class that is inherited from is called the superclass, parent class, or base class. The new class that inherits is called the subclass, child class, or derived class.  \n"
      ],
      "metadata": {
        "id": "upIt8BlOGfTm"
      }
    },
    {
      "cell_type": "markdown",
      "source": [
        "##7.  What is polymorphism in OOP ?\n",
        "  - Polymorphism, one of the four pillars of OOP, means \"many forms.\" It allows a single interface, function, or operator to behave differently based on the data type or class it's acting upon. This makes your code more flexible, reusable, and readable.\n",
        "\n",
        "  - A simple example is the built-in len() function in Python. It can find the length of a string, a list, or a dictionary, even though these are different data types. The function itself doesn't change; its behavior adapts to the object it's given."
      ],
      "metadata": {
        "id": "Ocp5Y1PDHRA2"
      }
    },
    {
      "cell_type": "markdown",
      "source": [
        "##8.  How is encapsulation achieved in Python ?\n",
        "   - Encapsulation is achieved in Python by using name mangling to make attributes \"private,\" which is a convention for restricting direct access to an object's data. Unlike some other languages, Python doesn't have a strict concept of private or protected members. Instead, it relies on a set of conventions and a name-mangling feature to enforce encapsulation."
      ],
      "metadata": {
        "id": "egH0lzYzHQ-G"
      }
    },
    {
      "cell_type": "markdown",
      "source": [
        "##9.  What is a constructor in Python ?\n",
        "   - A constructor in Python is a special method used to initialize an object's state when it is created. It is automatically called when you instantiate a class, and its primary purpose is to set up the new object by assigning initial values to its attributes.\n",
        "\n",
        "method:- init\n"
      ],
      "metadata": {
        "id": "mYzG4Po9HQ7u"
      }
    },
    {
      "cell_type": "markdown",
      "source": [
        "##10.  What are class and static methods in Python ?\n",
        "  - Class and static methods in Python are both types of methods that are defined within a class but behave differently from instance methods. While an instance method requires an object of the class to be called and receives self (the instance) as its first argument, class and static methods don't need an instance.\n",
        "\n",
        "    - Class Method:-A class method is bound to the class itself, not to an instance of the class. It receives the class as its first argument, conventionally named cls, instead of self. Class methods are defined using the @classmethod decorator.\n",
        "\n",
        "    - static method:-A static method is not bound to either the class or its instance. It's just a regular function that happens to be inside a class's namespace. It doesn't receive self or cls as its first argument. Static methods are defined using the @staticmethod decorator."
      ],
      "metadata": {
        "id": "YXjv1h92HQ0f"
      }
    },
    {
      "cell_type": "markdown",
      "source": [
        "##11.  What is method overloading in Python ?\n",
        "  - Method overloading is the ability to define multiple methods within the same class with the same name but different signatures, typically by having a different number or type of parameters. Python does not support method overloading in the same way as languages like Java or C++.\n",
        "\n",
        "  - When you define multiple methods with the same name in a Python class, the last one defined will overwrite all the previous ones. Python's dynamic typing means it doesn't need to know the data type of the arguments at compile time. It simply looks for a method with a specific name, and if it finds one, it calls it."
      ],
      "metadata": {
        "id": "W_rvItNLHQxG"
      }
    },
    {
      "cell_type": "markdown",
      "source": [
        "##12.  What is method overriding in OOP ?\n",
        "   - Method overriding is an OOP concept where a subclass provides its own specific implementation for a method that is already defined in its parent class. This allows a child class to change the behavior it inherits from its parent, providing a different functionality while keeping the same method name and signature."
      ],
      "metadata": {
        "id": "CmyIPcA2HQt-"
      }
    },
    {
      "cell_type": "markdown",
      "source": [
        "##13.  What is a property decorator in Python ?\n",
        "   - A property decorator in Python is a way to create properties within a class. It allows you to define methods that can be accessed like attributes, providing a cleaner, more \"Pythonic\" interface for getting, setting, or deleting an attribute's value. This is a key tool for achieving encapsulation in Python."
      ],
      "metadata": {
        "id": "Q2SqZbqpHQrG"
      }
    },
    {
      "cell_type": "markdown",
      "source": [
        "##14.  Why is polymorphism important in OOP ?\n",
        "  -  Polymorphism is crucial in OOP because it promotes flexibility, reusability, and maintainability in code. It allows you to write more generic and robust code that can work with objects of different classes that share a common interface.\n",
        "\n",
        "**Reason for importans**:\n",
        "\n",
        "  - Code Reusability: Polymorphism allows you to write functions and methods that can operate on a range of different objects, rather than having to write separate code for each object type. For example, you can create a draw_shape() function that works for a Circle, a Square, and a Triangle, as long as all these objects have a draw() method. This avoids code duplication and makes your system more efficient.\n",
        "\n",
        "  - Flexibility and Extensibility:With polymorphism, you can easily extend your system without having to modify existing code. If you add a new class (like Star) that inherits from the same parent and implements the draw() method, your draw_shape() function will automatically work with the new Star object without any changes. This makes your codebase more adaptable to new features and changes."
      ],
      "metadata": {
        "id": "d1MhYpJWHQlO"
      }
    },
    {
      "cell_type": "markdown",
      "source": [
        "##15.  What is an abstract class in Python ?\n",
        "   - An abstract class is a blueprint for other classes, containing one or more abstract methods. You can't create an instance of an abstract class; you must inherit from it to create a concrete class. Abstract methods are declared but don't have an implementation, forcing subclasses to provide their own."
      ],
      "metadata": {
        "id": "RTAcEXT9HQiW"
      }
    },
    {
      "cell_type": "markdown",
      "source": [
        "##16.  What are the advantages of OOP ?\n",
        "   - The primary advantages of object-oriented programming (OOP) are code reusability, modularity, and scalability. It models real-world entities as objects, making it a natural way to design software.\n",
        "\n",
        "**Advantages**:\n",
        "\n",
        "* **Code Reusability** :  OOP allows you to create classes that can be reused in different parts of a program or in new projects. Through inheritance, a new class can inherit and extend the properties and behaviors of an existing one, which saves time and effort.\n",
        "\n",
        "* **Modularity** :  Objects are self-contained, independent units with their own data and behavior. This makes a program's structure more organized and easier to understand. If you need to fix a bug or change a feature, you can often do so within a single object without affecting the rest of the code. This is a core benefit of encapsulation.\n",
        "\n",
        "*  **Flexibility and Extensibility** : Polymorphism allows you to design systems that are flexible and easy to extend. New features or objects can be added without having to change existing code, as long as they adhere to the common interface. This makes a system more adaptable to change and growth."
      ],
      "metadata": {
        "id": "PavDnONFHQfW"
      }
    },
    {
      "cell_type": "markdown",
      "source": [
        "##17.  What is the difference between a class variable and an instance variable ?\n",
        "  -  Class Variables:- A class variable is declared inside the class but outside of any method. Because it's shared, all objects of that class have access to the same value. Changes made to a class variable by one instance will be reflected in all other instances. They're typically used for data that is constant across all objects of a class, such as a counter for the number of objects created or a default value.\n",
        "\n",
        "  - Instance Variables: An instance variable is defined inside a method, usually the init constructor, using the self keyword. Each instance has its own copy of the variable, so changes made to it in one instance do not affect other instances. They are used to store data that is unique to each object."
      ],
      "metadata": {
        "id": "_OEYiEkTHQcW"
      }
    },
    {
      "cell_type": "markdown",
      "source": [
        "##18.  What is multiple inheritance in Python ?\n",
        "  -   Multiple inheritance is an object-oriented programming feature that allows a class to inherit from more than one parent class. This enables the child class to combine the attributes and methods of all its parent classes, creating a single, cohesive unit from multiple sources."
      ],
      "metadata": {
        "id": "o6NDUWKRHQZW"
      }
    },
    {
      "cell_type": "markdown",
      "source": [
        "## 19.  Explain the purpose of ‘’__str__’ and ‘__repr__’ ‘ methods in Python.\n",
        " -- __str__ : The str method returns a human-readable string representation of an object. It's meant to be used for end-users or for display purposes, such as with the print() function or the str() built-in. The goal is to produce a readable, concise output that summarizes the object's state in a friendly way. If str is not defined, Python falls back to repr.\n",
        "\n",
        "__repr__:\n",
        "\n",
        "The repr method returns an unambiguous, developer-oriented string representation. It's primarily used for debugging and logging. The goal is to return a string that, if passed to eval(), would create the same object. Think of it as a detailed, technical representation of the object's state."
      ],
      "metadata": {
        "id": "DX2bWFLZIJ-m"
      }
    },
    {
      "cell_type": "markdown",
      "source": [
        "##20.  What is the significance of the ‘super()’ function in Python ?\n",
        "  - The super() function in Python is a built-in function that provides a way to call a method from the parent (superclass) in a class hierarchy. Its primary purpose is to ensure that a child class, when overriding a method, can still leverage the functionality of the parent's version of that same method, rather than having to rewrite all the inherited logic."
      ],
      "metadata": {
        "id": "RRY9mDTpIJ7W"
      }
    },
    {
      "cell_type": "markdown",
      "source": [
        "##21.  What is the significance of the __del__ method in Python ?\n",
        "   - The del method, also known as the destructor, is a special method in Python that is called when an object is about to be \"destroyed\" or garbage-collected. Its primary purpose is to perform cleanup actions\n",
        "\n",
        "   - How it works:\n",
        "   \n",
        "       Unlike a constructor, which is called when an object is created, the del method is invoked when the reference count of an object drops to zero, meaning there are no more variables or data structures pointing to it. The garbage collector then reclaims the memory used by that object."
      ],
      "metadata": {
        "id": "Bb1DNma6IJ4W"
      }
    },
    {
      "cell_type": "markdown",
      "source": [
        "##22. What is the difference between @staticmethod and @classmethod in Python ?\n",
        "  - Difference between @staticmethod and @class method:\n",
        "\n",
        "    - @staticmethod:- A static method is essentially a regular function that is logically grouped with a class. It can't access or modify the class state or the instance state. It's often used for utility functions that are related to the class but don't depend on any of the class's or instance's data.\n",
        "\n",
        "    - @classmethod:- A class method is bound to the class and can access and modify class-level attributes, which are shared by all instances. It's defined with @classmethod and receives the class itself, conventionally named cls, as its first argument.\n"
      ],
      "metadata": {
        "id": "g-aAAKUGIJym"
      }
    },
    {
      "cell_type": "markdown",
      "source": [
        "##23.  How does polymorphism work in Python with inheritance ?\n",
        "\n",
        "  - Polymorphism works with inheritance in Python by allowing methods in a subclass to override methods in a parent class. This enables objects of different classes that share a common superclass to be treated interchangeably, responding in their own unique way to the same method call.\n",
        "\n",
        "  - Example in Python:\n",
        "\n",
        "    class Animal: def speak(self): raise NotImplementedError(\"Subclass must implement abstract method\")\n",
        "\n",
        "    class Dog(Animal): def speak(self): return \"Woof!\"\n",
        "\n",
        "    class Cat(Animal): def speak(self): return \"Meow!\"\n",
        "\n",
        "    animals = [Dog(), Cat()]\n",
        "\n",
        "    for animal in animals:\n",
        "    \n",
        "    print(animal.speak()) # The correct speak() method is called for each object."
      ],
      "metadata": {
        "id": "LeXjpjpbIJve"
      }
    },
    {
      "cell_type": "markdown",
      "source": [
        "##24.   What is method chaining in Python OOP ?\n",
        "   -  Method chaining is a programming technique that allows you to call multiple methods on an object in a single, sequential line of code. This is possible when each method returns a reference to the same object on which the next method is called, allowing the calls to be \"chained\" together."
      ],
      "metadata": {
        "id": "QwT3NyHtIJsW"
      }
    },
    {
      "cell_type": "markdown",
      "source": [
        "##25.  What is the purpose of the __call__ method in Python ?\n",
        "   - The call method in Python lets you make an object callable, just like a function. If a class has a call method, you can call an instance of that class using parentheses ()."
      ],
      "metadata": {
        "id": "O3qmgdoVIkw_"
      }
    },
    {
      "cell_type": "markdown",
      "source": [
        "# Practical Questions\n"
      ],
      "metadata": {
        "id": "OqBozr1CIuFO"
      }
    },
    {
      "cell_type": "markdown",
      "source": [
        "  ## 1. Create a parent class Animal with a method speak() that prints a generic message. Create a child class Dog that overrides the speak() method to print \"Bark!\""
      ],
      "metadata": {
        "id": "wzL7aeBAIuBv"
      }
    },
    {
      "cell_type": "code",
      "source": [
        "class Animal:\n",
        "    def speak(self):\n",
        "        print(\"Generic animal sound\")\n",
        "\n",
        "class Dog(Animal):\n",
        "    def speak(self):\n",
        "        print(\"Bark!\")\n",
        "\n",
        "animal = Animal()\n",
        "animal.speak()\n",
        "\n",
        "dog =Dog()\n",
        "dog.speak()"
      ],
      "metadata": {
        "colab": {
          "base_uri": "https://localhost:8080/"
        },
        "id": "d3KRwjLRAEAF",
        "outputId": "822c04ac-7377-40a0-f48a-de2c2a41a197"
      },
      "execution_count": 1,
      "outputs": [
        {
          "output_type": "stream",
          "name": "stdout",
          "text": [
            "Generic animal sound\n",
            "Bark!\n"
          ]
        }
      ]
    },
    {
      "cell_type": "markdown",
      "source": [
        "##2. Write a program to create an abstract class Shape with a method area(). Derive classes Circle and Rectangle from it and implement the area() method in both"
      ],
      "metadata": {
        "id": "pe_iZvD4It3P"
      }
    },
    {
      "cell_type": "code",
      "source": [
        "from abc import ABC, abstractmethod\n",
        "import math\n",
        "\n",
        "# Abstract base class\n",
        "class Shape(ABC):\n",
        "    @abstractmethod\n",
        "    def area(self):\n",
        "        pass\n",
        "\n",
        "# Derived class: Circle\n",
        "class Circle(Shape):\n",
        "    def __init__(self, radius):\n",
        "        self.radius = radius\n",
        "\n",
        "    def area(self):\n",
        "        return math.pi * self.radius ** 2\n",
        "\n",
        "# Derived class: Rectangle\n",
        "class Rectangle(Shape):\n",
        "    def __init__(self, width, height):\n",
        "        self.width = width\n",
        "        self.height = height\n",
        "\n",
        "    def area(self):\n",
        "        return self.width * self.height\n",
        "\n",
        "\n",
        "c = Circle(5)\n",
        "r = Rectangle(4, 6)\n",
        "\n",
        "print(f\"Area of Circle: {c.area()}\")\n",
        "print(f\"Area of Rectangle: {r.area()}\")\n"
      ],
      "metadata": {
        "colab": {
          "base_uri": "https://localhost:8080/"
        },
        "id": "9-sFlRCAA6Pl",
        "outputId": "a3b5e0f1-35ef-486d-80f8-2e953a8b1b99"
      },
      "execution_count": 2,
      "outputs": [
        {
          "output_type": "stream",
          "name": "stdout",
          "text": [
            "Area of Circle: 78.53981633974483\n",
            "Area of Rectangle: 24\n"
          ]
        }
      ]
    },
    {
      "cell_type": "markdown",
      "source": [
        "##3.  Implement a multi-level inheritance scenario where a class Vehicle has an attribute type. Derive a class Car and further derive a class ElectricCar that adds a battery attribute"
      ],
      "metadata": {
        "id": "E4ZUpP7ZJM_H"
      }
    },
    {
      "cell_type": "code",
      "source": [
        " # Parent class\n",
        "class Vehicle:\n",
        "    def __init__(self, type):\n",
        "        self.type = type\n",
        " # Child class\n",
        "class Car(Vehicle):\n",
        "    def __init__(self, type, model):\n",
        "        super().__init__(type)\n",
        "        self.model = model\n",
        " # Grandchild class\n",
        "class ElectricCar(Car):\n",
        "    def __init__(self, type, model, battery):\n",
        "        super().__init__(type, model)\n",
        "        self.battery = battery\n",
        "ecar = ElectricCar(\"Car\", \"Tesla Model 3\", \"75 kWh\")\n",
        "print(\"Type:\", ecar.type)\n",
        "print(\"Model:\", ecar.model)\n",
        "print(\"Battery:\", ecar.battery)"
      ],
      "metadata": {
        "colab": {
          "base_uri": "https://localhost:8080/"
        },
        "id": "gy56PpHmBzOl",
        "outputId": "482b8cd2-e1d4-43b2-f8d6-ebbebcc94dc5"
      },
      "execution_count": 3,
      "outputs": [
        {
          "output_type": "stream",
          "name": "stdout",
          "text": [
            "Type: Car\n",
            "Model: Tesla Model 3\n",
            "Battery: 75 kWh\n"
          ]
        }
      ]
    },
    {
      "cell_type": "markdown",
      "source": [
        "##4. Demonstrate polymorphism by creating a base class Bird with a method fly(). Create two derived classes Sparrow and Penguin that override the fly() method."
      ],
      "metadata": {
        "id": "1YzAT4WVJM7-"
      }
    },
    {
      "cell_type": "code",
      "source": [
        " # Base class\n",
        "class Bird:\n",
        "    def fly(self):\n",
        "        print(\"Some birds can fly\")\n",
        " # Derived class Sparrow\n",
        "class Sparrow(Bird):\n",
        "    def fly(self):\n",
        "        print(\"Sparrow can fly high\")\n",
        " # Derived class Penguin\n",
        "class Penguin(Bird):\n",
        "    def fly(self):\n",
        "        print(\"Penguin cannot fly\")\n",
        "birds = [Sparrow(), Penguin()]\n",
        "for bird in birds:\n",
        "  bird.fly()\n"
      ],
      "metadata": {
        "colab": {
          "base_uri": "https://localhost:8080/"
        },
        "id": "Jr3PFQePCN3d",
        "outputId": "2f11cd38-b5bc-4352-97b2-c9219f11b4a9"
      },
      "execution_count": 4,
      "outputs": [
        {
          "output_type": "stream",
          "name": "stdout",
          "text": [
            "Sparrow can fly high\n",
            "Penguin cannot fly\n"
          ]
        }
      ]
    },
    {
      "cell_type": "markdown",
      "source": [
        "##5. Write a program to demonstrate encapsulation by creating a class BankAccount with private attributes balance and methods to deposit, withdraw, and check balance"
      ],
      "metadata": {
        "id": "QNlcHzRwJM4n"
      }
    },
    {
      "cell_type": "code",
      "source": [
        "# Encapsulation example\n",
        "class BankAccount:\n",
        "  def __init__(self, balance):\n",
        "        self.__balance = balance  # private attribute\n",
        "  def deposit(self, amount):\n",
        "        self.__balance += amount\n",
        "        print(f\"Deposited: {amount}\")\n",
        "  def withdraw(self, amount):\n",
        "        if amount <= self.__balance:\n",
        "            self.__balance -= amount\n",
        "            print(f\"Withdrawn: {amount}\")\n",
        "        else:\n",
        "            print(\"Insufficient balance\")\n",
        "  def check_balance(self):\n",
        "        print(f\"Balance: {self.__balance}\")\n",
        "account = BankAccount(1000)\n",
        "account.deposit(500)\n",
        "account.withdraw(300)\n",
        "account.check_balance()"
      ],
      "metadata": {
        "colab": {
          "base_uri": "https://localhost:8080/"
        },
        "id": "-K8mqMDwELdd",
        "outputId": "30317753-6fd1-4f71-9c54-d32006c9bfbd"
      },
      "execution_count": 5,
      "outputs": [
        {
          "output_type": "stream",
          "name": "stdout",
          "text": [
            "Deposited: 500\n",
            "Withdrawn: 300\n",
            "Balance: 1200\n"
          ]
        }
      ]
    },
    {
      "cell_type": "markdown",
      "source": [
        "##6.  Demonstrate runtime polymorphism using a method play() in a base class Instrument. Derive classes Guitar and Piano that implement their own version of play()."
      ],
      "metadata": {
        "id": "vH-hYXRuJM1Y"
      }
    },
    {
      "cell_type": "code",
      "source": [
        "# Base class\n",
        "class Instrument:\n",
        "    def play(self):\n",
        "        print(\"Playing instrument\")\n",
        "# Derived class Guitar\n",
        "class Guitar(Instrument):\n",
        "    def play(self):\n",
        "        print(\"Playing guitar\")\n",
        "# Derived class Piano\n",
        "class Piano(Instrument):\n",
        "    def play(self):\n",
        "        print(\"Playing piano\")\n",
        "# Testing runtime polymorphism\n",
        "\n",
        "instruments = [Guitar(), Piano()]\n",
        "\n",
        "for instrument in instruments:\n",
        "    instrument.play()"
      ],
      "metadata": {
        "colab": {
          "base_uri": "https://localhost:8080/"
        },
        "id": "gYHXgn9dEhYV",
        "outputId": "2a53f63c-e202-45ab-c8c7-48f80f9688f6"
      },
      "execution_count": 6,
      "outputs": [
        {
          "output_type": "stream",
          "name": "stdout",
          "text": [
            "Playing guitar\n",
            "Playing piano\n"
          ]
        }
      ]
    },
    {
      "cell_type": "markdown",
      "source": [
        "##7.Create a class MathOperations with a class method add_numbers() to add two numbers and a static method subtract_numbers() to subtract two number"
      ],
      "metadata": {
        "id": "KxhBiQR2JMxv"
      }
    },
    {
      "cell_type": "code",
      "source": [
        "# Class demonstrating classmethod and staticmethod\n",
        "class MathOperations:\n",
        "    @classmethod\n",
        "    def add_numbers(cls, a, b):\n",
        "        return a + b\n",
        "    @staticmethod\n",
        "    def subtract_numbers(a, b):\n",
        "        return a - b\n",
        "print(\"Addition:\", MathOperations.add_numbers(10, 5))\n",
        "print(\"Subtraction:\", MathOperations.subtract_numbers(10, 5))"
      ],
      "metadata": {
        "colab": {
          "base_uri": "https://localhost:8080/"
        },
        "id": "Ci9eKiYHEwkV",
        "outputId": "e58facad-6995-489c-fb7b-f9bff6af4287"
      },
      "execution_count": 7,
      "outputs": [
        {
          "output_type": "stream",
          "name": "stdout",
          "text": [
            "Addition: 15\n",
            "Subtraction: 5\n"
          ]
        }
      ]
    },
    {
      "cell_type": "markdown",
      "source": [
        "##8.  Implement a class Person with a class method to count the total number of persons created."
      ],
      "metadata": {
        "id": "91QcsKj1Jhy_"
      }
    },
    {
      "cell_type": "code",
      "source": [
        "# Class demonstrating counting instances using class method\n",
        "class Person:\n",
        "  count = 0  # Class variable to track number of persons\n",
        "  def __init__(self, name):\n",
        "        self.name = name\n",
        "        Person.count += 1\n",
        "  @classmethod\n",
        "  def total_persons(cls):\n",
        "        return cls.count\n",
        "p1 = Person(\"Ritesh\")\n",
        "p2 = Person(\"Aditi\")\n",
        "p3 = Person(\"Anshu\")\n",
        "print(\"Total persons created:\", Person.total_persons())"
      ],
      "metadata": {
        "colab": {
          "base_uri": "https://localhost:8080/"
        },
        "id": "guopUmb-E40F",
        "outputId": "92cc397f-3bec-43cf-9506-83818672139a"
      },
      "execution_count": 8,
      "outputs": [
        {
          "output_type": "stream",
          "name": "stdout",
          "text": [
            "Total persons created: 3\n"
          ]
        }
      ]
    },
    {
      "cell_type": "markdown",
      "source": [
        "##9. Write a class Fraction with attributes numerator and denominator. Override the str method to display the fraction as \"numerator/denominator\""
      ],
      "metadata": {
        "id": "Pm6QY7j_JiXH"
      }
    },
    {
      "cell_type": "code",
      "source": [
        "# Class demonstrating __str__ method\n",
        "class Fraction:\n",
        "  def __init__(self, numerator, denominator):\n",
        "      self.numerator = numerator\n",
        "      self.denominator = denominator\n",
        "  def __str__(self):\n",
        "      return f\"{self.numerator}/{self.denominator}\"\n",
        "\n",
        "f = Fraction(3, 4)\n",
        "print(f)"
      ],
      "metadata": {
        "colab": {
          "base_uri": "https://localhost:8080/"
        },
        "id": "onD8QwMhFDcN",
        "outputId": "8091f821-9dd1-4d54-dd54-aaf351239901"
      },
      "execution_count": 10,
      "outputs": [
        {
          "output_type": "stream",
          "name": "stdout",
          "text": [
            "3/4\n"
          ]
        }
      ]
    },
    {
      "cell_type": "markdown",
      "source": [
        "##10. Demonstrate operator overloading by creating a class Vector and overriding the add method to add two vectors."
      ],
      "metadata": {
        "id": "72gRyStAJi6n"
      }
    },
    {
      "cell_type": "code",
      "source": [
        "# Class demonstrating operator overloading\n",
        "class Vector:\n",
        "    def __init__(self, x, y):\n",
        "        self.x = x\n",
        "        self.y = y\n",
        "    # Overloading the + operator\n",
        "    def __add__(self, other):\n",
        "        return Vector(self.x + other.x, self.y + other.y)\n",
        "    def __str__(self):\n",
        "        return f\"({self.x}, {self.y})\"\n",
        "v1 = Vector(2, 3)\n",
        "v2 = Vector(4, 5)\n",
        "v3 = v1 + v2\n",
        "print(\"Vector addition:\", v3)"
      ],
      "metadata": {
        "colab": {
          "base_uri": "https://localhost:8080/"
        },
        "id": "ybYjNOPWFXGV",
        "outputId": "69dcd926-69ea-48d2-b76c-e4dcff69bb7d"
      },
      "execution_count": 11,
      "outputs": [
        {
          "output_type": "stream",
          "name": "stdout",
          "text": [
            "Vector addition: (6, 8)\n"
          ]
        }
      ]
    },
    {
      "cell_type": "markdown",
      "source": [
        "##11. Create a class Person with attributes name and age. Add a method greet() that prints \"Hello, my name is {name} and I am {age} years old.\""
      ],
      "metadata": {
        "id": "b7CrU7xh_NQt"
      }
    },
    {
      "cell_type": "code",
      "source": [
        "# Simple class with instance attributes and method\n",
        "class Person:\n",
        "    def __init__(self, name, age):\n",
        "        self.name = name\n",
        "        self.age = age\n",
        "    def greet(self):\n",
        "        print(f\"Hello, my name is {self.name} and I am {self.age} years old.\")\n",
        "# Testing\n",
        "p = Person(\"Ritesh\", 21)\n",
        "p1 = Person(\"Aditi\",20)\n",
        "p.greet()\n",
        "p1.greet()"
      ],
      "metadata": {
        "colab": {
          "base_uri": "https://localhost:8080/"
        },
        "id": "ZpLxoB5oFfO-",
        "outputId": "53104119-da61-42a8-f645-ded62f6a4d4b"
      },
      "execution_count": 12,
      "outputs": [
        {
          "output_type": "stream",
          "name": "stdout",
          "text": [
            "Hello, my name is Ritesh and I am 21 years old.\n",
            "Hello, my name is Aditi and I am 20 years old.\n"
          ]
        }
      ]
    },
    {
      "cell_type": "markdown",
      "source": [
        "##12. Implement a class Student with attributes name and grades. Create a method average_grade() to compute the average of the grades."
      ],
      "metadata": {
        "id": "_ciFHfXf_NNt"
      }
    },
    {
      "cell_type": "code",
      "source": [
        " # Class demonstrating method to calculate average\n",
        "class Student:\n",
        "    def __init__(self, name, grades):\n",
        "        self.name = name\n",
        "        self.grades = grades  # List of grades\n",
        "    def average_grade(self):\n",
        "        return sum(self.grades) / len(self.grades) if self.grades else 0\n",
        "s = Student(\"Ritesh\", [85, 90, 78, 92])\n",
        "print(\"Average grade:\", s.average_grade())"
      ],
      "metadata": {
        "colab": {
          "base_uri": "https://localhost:8080/"
        },
        "id": "pGCuEr9hFn-V",
        "outputId": "e7d2c016-1e0f-4c23-ea52-0e1c2142ad5f"
      },
      "execution_count": 13,
      "outputs": [
        {
          "output_type": "stream",
          "name": "stdout",
          "text": [
            "Average grade: 86.25\n"
          ]
        }
      ]
    },
    {
      "cell_type": "markdown",
      "source": [
        "## 13. Create a class Rectangle with methods set_dimensions() to set the dimensions and area() to calculate the area."
      ],
      "metadata": {
        "id": "wMBcvMmC_NK9"
      }
    },
    {
      "cell_type": "code",
      "source": [
        "# Rectangle class with set_dimensions and area methods\n",
        "class Rectangle:\n",
        "    def set_dimensions(self, length, width):\n",
        "        self.length = length\n",
        "        self.width = width\n",
        "    def area(self):\n",
        "        return self.length * self.width\n",
        "# Testing\n",
        "rect = Rectangle()\n",
        "rect.set_dimensions(5, 3)\n",
        "print(\"Area of rectangle:\", rect.area())"
      ],
      "metadata": {
        "colab": {
          "base_uri": "https://localhost:8080/"
        },
        "id": "c6pzXfN1Ftee",
        "outputId": "77141483-7ba5-43f9-b471-5f31493ed51b"
      },
      "execution_count": 14,
      "outputs": [
        {
          "output_type": "stream",
          "name": "stdout",
          "text": [
            "Area of rectangle: 15\n"
          ]
        }
      ]
    },
    {
      "cell_type": "markdown",
      "source": [
        "##14. Create a class Employee with a method calculate_salary() that computes the salary based on hours worked and hourly rate. Create a derived class Manager that adds a bonus to the salary.\n"
      ],
      "metadata": {
        "id": "ggzsbXXH_NHs"
      }
    },
    {
      "cell_type": "code",
      "source": [
        "# Base class\n",
        "class Employee:\n",
        "    def __init__(self, name, hours_worked, hourly_rate):\n",
        "        self.name = name\n",
        "        self.hours_worked = hours_worked\n",
        "        self.hourly_rate = hourly_rate\n",
        "    def calculate_salary(self):\n",
        "        return self.hours_worked * self.hourly_rate\n",
        "# Derived class\n",
        "class Manager(Employee):\n",
        "    def __init__(self, name, hours_worked, hourly_rate, bonus):\n",
        "        super().__init__(name, hours_worked, hourly_rate)\n",
        "        self.bonus = bonus\n",
        "    def calculate_salary(self):\n",
        "        return super().calculate_salary() + self.bonus\n",
        "# Testing\n",
        "emp = Employee(\"Ritesh\", 40, 20)\n",
        "mgr = Manager(\"Aditi\", 40, 20, 500)\n",
        "print(\"Employee salary:\", emp.calculate_salary())\n",
        "print(\"Manager salary:\", mgr.calculate_salary())"
      ],
      "metadata": {
        "colab": {
          "base_uri": "https://localhost:8080/"
        },
        "id": "Bb0-akaHF0we",
        "outputId": "94818ef0-234f-4181-921b-665c9a29883d"
      },
      "execution_count": 15,
      "outputs": [
        {
          "output_type": "stream",
          "name": "stdout",
          "text": [
            "Employee salary: 800\n",
            "Manager salary: 1300\n"
          ]
        }
      ]
    },
    {
      "cell_type": "markdown",
      "source": [
        "##15. Create a class Product with attributes name, price, and quantity. Implement a method total_price() that calculates the total price of the product."
      ],
      "metadata": {
        "id": "Z5QLFCCq_NE8"
      }
    },
    {
      "cell_type": "code",
      "source": [
        "# Product class with total_price method\n",
        "class Product:\n",
        "    def __init__(self, name, price, quantity):\n",
        "        self.name = name\n",
        "        self.price = price\n",
        "        self.quantity = quantity\n",
        "    def total_price(self):\n",
        "        return self.price * self.quantity\n",
        "# Testing\n",
        "p = Product(\"Laptop\", 500, 3)\n",
        "\n",
        "print(\"Total price:\", p.total_price())"
      ],
      "metadata": {
        "colab": {
          "base_uri": "https://localhost:8080/"
        },
        "id": "EHT4W--dGA4l",
        "outputId": "69c2b335-f75d-4eb1-d47e-15b5b83416a7"
      },
      "execution_count": 16,
      "outputs": [
        {
          "output_type": "stream",
          "name": "stdout",
          "text": [
            "Total price: 1500\n"
          ]
        }
      ]
    },
    {
      "cell_type": "markdown",
      "source": [
        "##16. Create a class Animal with an abstract method sound(). Create two derived classes Cow and Sheep that implement the sound() method."
      ],
      "metadata": {
        "id": "wStzxcpl_NB8"
      }
    },
    {
      "cell_type": "code",
      "source": [
        "from abc import ABC, abstractmethod\n",
        "# Abstract class\n",
        "class Animal(ABC):\n",
        "    @abstractmethod\n",
        "    def sound(self):\n",
        "        pass\n",
        "# Derived class Cow\n",
        "class Cow(Animal):\n",
        "    def sound(self):\n",
        "        print(\"Moo\")\n",
        "# Derived class Sheep\n",
        "class Sheep(Animal):\n",
        "    def sound(self):\n",
        "        print(\"Baa\")\n",
        "cow = Cow()\n",
        "sheep = Sheep()\n",
        "cow.sound()\n",
        "sheep.sound()"
      ],
      "metadata": {
        "colab": {
          "base_uri": "https://localhost:8080/"
        },
        "id": "nsObqOjGGPv-",
        "outputId": "8561d3d1-a269-4970-dacd-5379bacf3ec1"
      },
      "execution_count": 17,
      "outputs": [
        {
          "output_type": "stream",
          "name": "stdout",
          "text": [
            "Moo\n",
            "Baa\n"
          ]
        }
      ]
    },
    {
      "cell_type": "markdown",
      "source": [
        "##17. Create a class Book with attributes title, author, and year_published. Add a method get_book_info() that returns a formatted string with the book's details."
      ],
      "metadata": {
        "id": "jnkOuGpK_M-1"
      }
    },
    {
      "cell_type": "code",
      "source": [
        "# Book class with get_book_info method\n",
        "class Book:\n",
        "  def __init__(self, title, author, year_published):\n",
        "      self.title = title\n",
        "      self.author = author\n",
        "      self.year_published = year_published\n",
        "  def get_book_info(self):\n",
        "      return f\"'{self.title}' by {self.author}, published in {self.year_published}\"\n",
        "\n",
        "b = Book(\"1984\", \"George Orwell\", 1949)\n",
        "print(b.get_book_info())"
      ],
      "metadata": {
        "colab": {
          "base_uri": "https://localhost:8080/"
        },
        "id": "Xat_PeT9HGPF",
        "outputId": "e5f3eeb1-a31b-43d2-e6d0-59e0b3cd14cd"
      },
      "execution_count": 18,
      "outputs": [
        {
          "output_type": "stream",
          "name": "stdout",
          "text": [
            "'1984' by George Orwell, published in 1949\n"
          ]
        }
      ]
    },
    {
      "cell_type": "markdown",
      "source": [
        "##18. Create a class House with attributes address and price. Create a derived class Mansion that adds an attribute number_of_rooms."
      ],
      "metadata": {
        "id": "B0KdId76_M71"
      }
    },
    {
      "cell_type": "code",
      "source": [
        "# Parent class\n",
        "class House:\n",
        "    def __init__(self, address, price):\n",
        "        self.address = address\n",
        "        self.price = price\n",
        "# Derived class\n",
        "class Mansion(House):\n",
        "    def __init__(self, address, price, number_of_rooms):\n",
        "        super().__init__(address, price)\n",
        "        self.number_of_rooms = number_of_rooms\n",
        "\n",
        "\n",
        "# Testing\n",
        "m = Mansion(\"123 Luxury St\", 500000, 8)\n",
        "print(\"Address:\", m.address)\n",
        "print(\"Price:\", m.price)\n",
        "print(\"Number of rooms:\", m.number_of_rooms)"
      ],
      "metadata": {
        "colab": {
          "base_uri": "https://localhost:8080/"
        },
        "id": "FNfnHv0WHVHm",
        "outputId": "8f3c625c-09d9-4ca3-c042-a627483ac98f"
      },
      "execution_count": 19,
      "outputs": [
        {
          "output_type": "stream",
          "name": "stdout",
          "text": [
            "Address: 123 Luxury St\n",
            "Price: 500000\n",
            "Number of rooms: 8\n"
          ]
        }
      ]
    }
  ]
}