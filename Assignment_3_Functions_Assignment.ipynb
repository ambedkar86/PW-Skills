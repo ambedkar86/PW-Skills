{
  "nbformat": 4,
  "nbformat_minor": 0,
  "metadata": {
    "colab": {
      "provenance": []
    },
    "kernelspec": {
      "name": "python3",
      "display_name": "Python 3"
    },
    "language_info": {
      "name": "python"
    }
  },
  "cells": [
    {
      "cell_type": "markdown",
      "source": [
        "# Theory Questions:\n"
      ],
      "metadata": {
        "id": "yN9vtiRmXFdh"
      }
    },
    {
      "cell_type": "markdown",
      "source": [
        "## 1. What is the difference between a function and a method in Python?\n",
        "   - In Python, both functions and methods are blocks of reusable code designed to perform specific tasks, but their key distinction lies in their relationship with objects and classes.\n",
        "\n",
        "   A function is a standalone block of code that is not associated with any particular object or class. It can be defined and called independently. Functions are typically used for general-purpose tasks and operate on data passed to them as arguments.\n",
        "\n",
        "   A method, on the other hand, is a function that is defined within a class and is associated with an object of that class. Methods are called on instances of a class and can access and manipulate the data (attributes) of that specific object. The first argument of a method is conventionally self, which refers to the instance of the class on which the method is called."
      ],
      "metadata": {
        "id": "N2p7WbZ6We_a"
      }
    },
    {
      "cell_type": "code",
      "source": [
        "def greet(name):\n",
        "    print(f\"Hello, {name}!\")\n",
        "\n",
        "greet(\"Alice\") # Calling a function"
      ],
      "metadata": {
        "colab": {
          "base_uri": "https://localhost:8080/"
        },
        "id": "B53eXvoXaI75",
        "outputId": "000413e0-622b-4f09-bbc3-30dd743caf4c"
      },
      "execution_count": null,
      "outputs": [
        {
          "output_type": "stream",
          "name": "stdout",
          "text": [
            "Hello, Alice!\n"
          ]
        }
      ]
    },
    {
      "cell_type": "code",
      "source": [
        "class Dog:\n",
        "    def __init__(self, name):\n",
        "        self.name = name\n",
        "\n",
        "    def bark(self): # This is a method\n",
        "        print(f\"{self.name} says Woof!\")\n",
        "\n",
        "my_dog = Dog(\"Buddy\")\n",
        "my_dog.bark() # Calling a method on an object"
      ],
      "metadata": {
        "colab": {
          "base_uri": "https://localhost:8080/"
        },
        "id": "DsgZK9suaLwQ",
        "outputId": "29167b0e-025d-4568-d0c2-e7b1a1ce4151"
      },
      "execution_count": null,
      "outputs": [
        {
          "output_type": "stream",
          "name": "stdout",
          "text": [
            "Buddy says Woof!\n"
          ]
        }
      ]
    },
    {
      "cell_type": "markdown",
      "source": [
        "##  2. Explain the concept of function arguments and parameters in Python.\n",
        "  - Python, the terms \"parameters\" and \"arguments\" are fundamental to understanding how functions receive and process data.\n",
        "\n",
        "**Parameters:**\n",
        "Parameters are the variables defined within the parentheses of a function's definition. They act as placeholders for the values that the function expects to receive when it is called. Parameters specify the types and number of inputs a function can accept."
      ],
      "metadata": {
        "id": "_Q4Z68Q6We8S"
      }
    },
    {
      "cell_type": "code",
      "source": [
        "def greet(name):  # 'name' is a parameter   \"\"\" In this greet function, name is a parameter. It indicates that the function anticipates a value to be provided for name when it is invoked.\"\"\"\n",
        "    print(f\"Hello, {name}!\")"
      ],
      "metadata": {
        "id": "Wrg_H3MYb0wx"
      },
      "execution_count": null,
      "outputs": []
    },
    {
      "cell_type": "markdown",
      "source": [
        "\n",
        "\n",
        "**Arguments:**\n",
        "Arguments are the actual values passed to a function when it is called. These values are assigned to the corresponding parameters in the function's definition, allowing the function to operate on specific data.\n"
      ],
      "metadata": {
        "id": "bep8mYs-hfBy"
      }
    },
    {
      "cell_type": "code",
      "source": [
        "greet(\"Alice\")  # \"Alice\" is arguments"
      ],
      "metadata": {
        "colab": {
          "base_uri": "https://localhost:8080/"
        },
        "id": "nkC7gjdVhujR",
        "outputId": "7a779571-a7d1-4f30-cbec-22b798e818bb"
      },
      "execution_count": null,
      "outputs": [
        {
          "output_type": "stream",
          "name": "stdout",
          "text": [
            "Hello, Alice!\n"
          ]
        }
      ]
    },
    {
      "cell_type": "markdown",
      "source": [
        "## 3. What are the different ways to define and call a function in Python?\n",
        "  - Functions:\n",
        "\n",
        "A function is a structured, reusable code block utilized for carrying out a specific task. Functions facilitate the creation of modular code, simplifying maintenance and reusability.\n",
        "\n",
        " 1. Standard function (def):\n",
        "\n",
        "    - Defined using the def keyword.\n",
        "\n",
        "    - Can accept parameters and return values.\n",
        " 2. Lambda function\n",
        "    - Also called an anonymous function.\n",
        "    - Defined using lambda keyword, usually for simple, single-line tasks.\n",
        "\n",
        " 3. Nested function:\n",
        "  \n",
        "    - A function defined inside another function.\n",
        "    - Useful for encapsulation and keeping helper functions local to the outer function.\n",
        "\n",
        " - Calling a function involves using its name followed by parentheses\n",
        "()\n",
        " .\n",
        "\n",
        " - Arguments can be passed when calling functions to provide input values\n"
      ],
      "metadata": {
        "id": "2xp1PWk3We5C"
      }
    },
    {
      "cell_type": "code",
      "source": [
        "# Examples:\n",
        "\n",
        "# 1. Standard function\n",
        "def greet(name):\n",
        "    return f\"Hello {name}!\"\n",
        "print(greet(\"Ritesh\"))\n",
        "\n",
        "# 2. Lambda function\n",
        "square = lambda x: x**2\n",
        "print(square(5))\n",
        "\n",
        "# 3. Nested function\n",
        "def outer():\n",
        "    def inner():\n",
        "        return \"This is a nested function\"\n",
        "    return inner()\n",
        "print(outer())"
      ],
      "metadata": {
        "id": "U1UCYjIftksR",
        "colab": {
          "base_uri": "https://localhost:8080/"
        },
        "outputId": "2e81cd15-d81a-449c-8c6f-2632f1147cfd"
      },
      "execution_count": 5,
      "outputs": [
        {
          "output_type": "stream",
          "name": "stdout",
          "text": [
            "Hello Ritesh!\n",
            "25\n",
            "This is a nested function\n"
          ]
        }
      ]
    },
    {
      "cell_type": "markdown",
      "source": [],
      "metadata": {
        "id": "uxDTEyZT8zwA"
      }
    },
    {
      "cell_type": "markdown",
      "source": [
        "## 4. What is the purpose of the `return` statement in a Python function?\n",
        "  - The purpose of the return statement in a Python function is to:\n",
        "\n",
        "   **1. Exit the function**:\n",
        "  - When a return statement is encountered during the execution of a function, the function's execution immediately terminates. Any code written after the return statement within the same function will not be executed.\n",
        "\n",
        " **2. Send a value back to the caller**:\n",
        "  - The return statement allows a function to send a value (or multiple values, packed into a tuple) back to the part of the code that called it. This returned value can then be used for further processing, assigned to a variable, or displayed to the user. Without return a function returns None\n",
        "  by default."
      ],
      "metadata": {
        "id": "yIjOwctrWe2B"
      }
    },
    {
      "cell_type": "code",
      "source": [
        "# Function using return\n",
        "def greet(name):\n",
        "  return f\"Hello {name}!\"\n",
        " # Using the returned value\n",
        "\n",
        "message = greet(\"Ritesh\")\n",
        "\n",
        "print(message)"
      ],
      "metadata": {
        "colab": {
          "base_uri": "https://localhost:8080/"
        },
        "id": "bjCEiOJYavtP",
        "outputId": "0991acbd-d148-44c4-c3fc-167414e8a4cf"
      },
      "execution_count": null,
      "outputs": [
        {
          "output_type": "stream",
          "name": "stdout",
          "text": [
            "Hello Ritesh!\n"
          ]
        }
      ]
    },
    {
      "cell_type": "code",
      "source": [
        "# Function without return\n",
        "def greet_no_return(name):\n",
        "    print(f\"Hello {name}!\")\n",
        "\n",
        "result = greet_no_return(\"Ritesh\")\n",
        "print(result)"
      ],
      "metadata": {
        "id": "2R9cI27lbveJ",
        "colab": {
          "base_uri": "https://localhost:8080/"
        },
        "outputId": "278254ad-5515-4ab0-f1d2-eb6ba0df0fa5"
      },
      "execution_count": 2,
      "outputs": [
        {
          "output_type": "stream",
          "name": "stdout",
          "text": [
            "Hello Ritesh!\n",
            "None\n"
          ]
        }
      ]
    },
    {
      "cell_type": "markdown",
      "source": [
        "# 5. What are iterators in Python and how do they differ from iterables?\n",
        "\n",
        " -  Iterable: Any Python object capable of returning its elements one by one, e.g., list, tuple, string, set , or dictionary.\n",
        "\n",
        "    - You can loop over it using a for loop.\n",
        "\n",
        " - Iterator:  An object that produces elements one at a time and keeps track of its current position.\n",
        "    - Created from an iterable using the iter() function.\n",
        "    - Use next() to access elements individually.\n"
      ],
      "metadata": {
        "id": "xa_xHXN-uOig"
      }
    },
    {
      "cell_type": "code",
      "source": [
        "# Iterable example\n",
        "fruits = [\"apple\", \"banana\", \"cherry\"]\n",
        "\n",
        "print(\"Iterable output:\")\n",
        "for fruit in fruits:\n",
        "    print(fruit)\n"
      ],
      "metadata": {
        "colab": {
          "base_uri": "https://localhost:8080/"
        },
        "id": "AhhftzMWvPOQ",
        "outputId": "f81ffce9-9497-44eb-9ef7-d3811562fedc"
      },
      "execution_count": 6,
      "outputs": [
        {
          "output_type": "stream",
          "name": "stdout",
          "text": [
            "Iterable output:\n",
            "apple\n",
            "banana\n",
            "cherry\n"
          ]
        }
      ]
    },
    {
      "cell_type": "code",
      "source": [
        "# Iterator example\n",
        "fruits_iter = iter(fruits)\n",
        "\n",
        "print(\"\\nIterator output using next():\")\n",
        "print(next(fruits_iter))\n",
        "print(next(fruits_iter))\n",
        "print(next(fruits_iter))"
      ],
      "metadata": {
        "colab": {
          "base_uri": "https://localhost:8080/"
        },
        "id": "BN2p8QKfvkDP",
        "outputId": "acd27333-ed6e-48a8-943e-bf44297147f5"
      },
      "execution_count": 7,
      "outputs": [
        {
          "output_type": "stream",
          "name": "stdout",
          "text": [
            "\n",
            "Iterator output using next():\n",
            "apple\n",
            "banana\n",
            "cherry\n"
          ]
        }
      ]
    },
    {
      "cell_type": "markdown",
      "source": [
        "##6. Explain the concept of generators in Python and how they are defined.\n",
        "  -  Generators are special iterators that generate values on the fly instead of storing them in memory.\n",
        "   - They are memory-efficient and useful for large datasets or streams of data.\n",
        "    \n",
        "  - Generators are defined in two main ways:\n",
        "    - 1. Using a function with the yield statement.\n",
        "    - 2. Using generator expressions (similar to list comprehensions but with parentheses).\n",
        "\n",
        " - Each call to\n",
        "next()\n",
        " on a generator produces the next value until the generator is\n",
        " exhausted."
      ],
      "metadata": {
        "id": "OKNqp1lnWevy"
      }
    },
    {
      "cell_type": "code",
      "source": [
        "#Example using yield :\n",
        "\n",
        "def greet_generator(names):\n",
        "  for name in names:\n",
        "    yield f\"Hello {name}!\"\n",
        "\n",
        "names_list = [\"Ritesh\", \"Alex\", \"Maya\"]\n",
        "\n",
        "gen = greet_generator(names_list)\n",
        "\n",
        "print(next(gen))\n",
        "print(next(gen))\n",
        "print(next(gen))\n"
      ],
      "metadata": {
        "colab": {
          "base_uri": "https://localhost:8080/"
        },
        "id": "R7Qd7jWvrC1_",
        "outputId": "f15fa0c7-8945-45da-9e45-29eaf1665d30"
      },
      "execution_count": 3,
      "outputs": [
        {
          "output_type": "stream",
          "name": "stdout",
          "text": [
            "Hello Ritesh!\n",
            "Hello Alex!\n",
            "Hello Maya!\n"
          ]
        }
      ]
    },
    {
      "cell_type": "code",
      "source": [
        "#  Example using generator expression:\n",
        "\n",
        "squares = (x**2 for x in range(1, 4))\n",
        "\n",
        "print(next(squares))\n",
        "print(next(squares))\n",
        "print(next(squares))"
      ],
      "metadata": {
        "colab": {
          "base_uri": "https://localhost:8080/"
        },
        "id": "_Yqok64Uq2vB",
        "outputId": "d2e7c1cf-485c-4cda-a362-a3102aec1cdb"
      },
      "execution_count": 4,
      "outputs": [
        {
          "output_type": "stream",
          "name": "stdout",
          "text": [
            "1\n",
            "4\n",
            "9\n"
          ]
        }
      ]
    },
    {
      "cell_type": "markdown",
      "source": [
        "##7. What are the advantages of using generators over regular functions?\n",
        "  - Generators provide several advantages over regular functions that return lists:\n",
        "    1. Memory Efficiency:\n",
        "\n",
        "    -  Generators produce values one at a time and do not store the entire sequence in memory.\n",
        "    - Useful for large datasets.\n",
        "    2. Lazy Evaluation:\n",
        "\n",
        "    - Values are computed only when needed using next().\n",
        "\n",
        "    - Reduces unnecessary computations.\n",
        "    3. Represent Infinite Sequences:\n",
        "\n",
        "     - Generators can model infinite series (like Fibonacci numbers) which is impossible with lists.\n",
        "    4. Pipeline Processing:\n",
        "\n",
        "    - Generators can be chained together to create pipelines, processing data efficiently\n"
      ],
      "metadata": {
        "id": "_L0cBQ2YWesy"
      }
    },
    {
      "cell_type": "code",
      "source": [
        "# Generator function\n",
        "def greet_generator(names):\n",
        "    for name in names:\n",
        "\n",
        "        yield f\"Hello {name}!\"\n",
        "names_list = [\"Ritesh\", \"Alex\", \"Maya\"]\n",
        "\n",
        "gen = greet_generator(names_list)\n",
        "\n",
        "print(next(gen))\n",
        "print(next(gen))\n",
        "print(next(gen))"
      ],
      "metadata": {
        "colab": {
          "base_uri": "https://localhost:8080/"
        },
        "id": "VOx4y4Aspp2g",
        "outputId": "b0537890-dac1-4dd8-d022-0dd704b91294"
      },
      "execution_count": 1,
      "outputs": [
        {
          "output_type": "stream",
          "name": "stdout",
          "text": [
            "Hello Ritesh!\n",
            "Hello Alex!\n",
            "Hello Maya!\n"
          ]
        }
      ]
    },
    {
      "cell_type": "markdown",
      "source": [
        "##8. What is a lambda function in Python and when is it typically used?\n",
        "   - Lambda Function in Python\n",
        "A lambda function in Python is a small, anonymous function defined using the lambda keyword. Unlike regular functions created with the def keyword, lambda functions are concise and consist of a single expression. The syntax is:\n"
      ],
      "metadata": {
        "id": "IAKeqL_0Wepx"
      }
    },
    {
      "cell_type": "code",
      "source": [
        "lambda arguments: expression  #The expression is evaluated and returned when the lambda function is called."
      ],
      "metadata": {
        "id": "NdDZQxeYk27P"
      },
      "execution_count": null,
      "outputs": []
    },
    {
      "cell_type": "markdown",
      "source": [
        "Typical Use Cases:\n",
        "\n",
        "   - Lambda functions are generally used in scenarios where a small, throwaway function is needed for a short period. Common use cases include:"
      ],
      "metadata": {
        "id": "9_vAOflLlMbW"
      }
    },
    {
      "cell_type": "markdown",
      "source": [
        "# Example 1: Basic Lambda\n",
        "\n",
        " Lambda to greet\n",
        "\n",
        " greet = lambda name: f\"Hello {name}!\"\n",
        "\n",
        " print(greet(\"Ritesh\"))  \n",
        " # Example 2: Lambda with map()\n",
        " numbers = [1, 2, 3, 4, 5]\n",
        "\n",
        " squares = list(map(lambda x: x**2, numbers))\n",
        "\n",
        " print(squares)  \n",
        "\n",
        "# Example 3: Lambda with filter()\n",
        "\n",
        " Filter numbers greater than 2\n",
        "\n",
        " filtered = list(filter(lambda x: x > 2, numbers))\n",
        "\n",
        " print(filtered)  \n",
        "\n",
        "#  Example 4: Lambda with reduce()\n",
        "\n",
        "  Sum all numbers using reduce and lambda\n",
        "\n",
        "from functools import reduce\n",
        "\n",
        "total = reduce(lambda x, y: x + y, numbers)\n",
        "\n",
        "print(total)  # Output: 15"
      ],
      "metadata": {
        "id": "9QODDOzymfhP"
      }
    },
    {
      "cell_type": "markdown",
      "source": [
        "## 9. Explain the purpose and usage of the `map()` function in Python.\n",
        "  - Map Functions: The map function applies a given function to all items in an input iterable and returns an iterator with the results.It is used to transform each item in an iterable by applying the specified function.\n",
        "  \n",
        "  Syntax: map(function, iterable)\n"
      ],
      "metadata": {
        "id": "xviGhh29WenB"
      }
    },
    {
      "cell_type": "code",
      "source": [
        "numbers = [1,2,3,4]\n",
        "square_numbers = list(map(lambda x: x**2, numbers))\n",
        "print(square_numbers)"
      ],
      "metadata": {
        "colab": {
          "base_uri": "https://localhost:8080/"
        },
        "id": "fT_EtDyI9e_b",
        "outputId": "0ab99183-f454-4ce3-b7fc-94495d527b34"
      },
      "execution_count": null,
      "outputs": [
        {
          "output_type": "stream",
          "name": "stdout",
          "text": [
            "[1, 4, 9, 16]\n"
          ]
        }
      ]
    },
    {
      "cell_type": "markdown",
      "source": [
        "## 10. What is the difference between `map()`, `reduce()`, and `filter()` functions in Python?\n",
        "  - Map Functions: The map function applies a given function to all items in an input iterable (like a list) and returns an iterator with the results.It is used to transform each item in an iterable by applying the specified function.\n",
        "  \n",
        "  Syntax: map(function, iterable)"
      ],
      "metadata": {
        "id": "MucqPHG4WekC"
      }
    },
    {
      "cell_type": "code",
      "source": [
        "numbers = [1,2,3,4]\n",
        "square_numbers = list(map(lambda x: x**2, numbers))\n",
        "print(square_numbers)"
      ],
      "metadata": {
        "colab": {
          "base_uri": "https://localhost:8080/"
        },
        "id": "5wyuMXZu7Gmy",
        "outputId": "0282dd51-4bc2-406e-ec0a-2a54eb39feb5"
      },
      "execution_count": null,
      "outputs": [
        {
          "output_type": "stream",
          "name": "stdout",
          "text": [
            "[1, 4, 9, 16]\n"
          ]
        }
      ]
    },
    {
      "cell_type": "markdown",
      "source": [
        "Reduce Functions: The reduce function from the functools module applies a given function cumulatively to the items of a sequence, from left to right, to reduce the sequence to a single value.It reduces an iterable to a single cumulative value by applying the function cumulatively.\n",
        "\n",
        "Syntax:\n",
        "from functools import reduce\n",
        "reduce(function, iterable)"
      ],
      "metadata": {
        "id": "_a947G8N7XPC"
      }
    },
    {
      "cell_type": "code",
      "source": [
        "from functools import reduce\n",
        "numbers = [1,2,3,4]\n",
        "sum = reduce(lambda x,y: x+y, numbers)\n",
        "print(sum)"
      ],
      "metadata": {
        "colab": {
          "base_uri": "https://localhost:8080/"
        },
        "id": "zyVhlDmu727C",
        "outputId": "593d4b90-c21c-4464-92d6-c61890574af3"
      },
      "execution_count": null,
      "outputs": [
        {
          "output_type": "stream",
          "name": "stdout",
          "text": [
            "10\n"
          ]
        }
      ]
    },
    {
      "cell_type": "markdown",
      "source": [
        "Filter Functions: The filter function constructs an iterator from elements of an iterable for which a specified function returns True.It is used for filtering elements from an iterable based on a condition defined by the function.\n",
        "\n",
        "Syntax:  filter(function, iterable)"
      ],
      "metadata": {
        "id": "V7Y2Ev7s8Gl6"
      }
    },
    {
      "cell_type": "code",
      "source": [
        "numbers = [1,2,3,4]\n",
        "even_numbers = list(filter(lambda x: x%2 == 0, numbers))\n",
        "print(even_numbers)"
      ],
      "metadata": {
        "colab": {
          "base_uri": "https://localhost:8080/"
        },
        "id": "tCrDK6xq83Z6",
        "outputId": "ac3a1ada-3100-4850-c11a-8d3cf14457a7"
      },
      "execution_count": null,
      "outputs": [
        {
          "output_type": "stream",
          "name": "stdout",
          "text": [
            "[2, 4]\n"
          ]
        }
      ]
    },
    {
      "cell_type": "markdown",
      "source": [
        "##11. Using pen & Paper write the internal mechanism for sum operation using  reduce function on this given  list:[47,11,42,13].\n",
        "\n",
        "![Screenshot 2025-08-27 235150.png](data:image/png;base64,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)\n",
        "\n"
      ],
      "metadata": {
        "id": "jxAQylcGWehB"
      }
    },
    {
      "cell_type": "markdown",
      "source": [
        "#Practical Questions:\n"
      ],
      "metadata": {
        "id": "1kZwK5ZGWfpp"
      }
    },
    {
      "cell_type": "markdown",
      "source": [
        "##1. Write a Python function that takes a list of numbers as input and returns the sum of all even numbers in the list"
      ],
      "metadata": {
        "id": "va4S2mDbYr52"
      }
    },
    {
      "cell_type": "code",
      "execution_count": null,
      "metadata": {
        "id": "yyCD0ewuYWyT"
      },
      "outputs": [],
      "source": [
        "def sum_even_numbers(numbers):\n",
        "  sum_even = 0\n",
        "  for num in numbers:\n",
        "    if num % 2 == 0:\n",
        "      sum_even += num\n",
        "  return sum_even"
      ]
    },
    {
      "cell_type": "code",
      "source": [
        "sum_even_numbers([1,2,3,4,5,6])"
      ],
      "metadata": {
        "colab": {
          "base_uri": "https://localhost:8080/"
        },
        "id": "JlBRx_nLYjdG",
        "outputId": "b2d7cb3c-7337-4486-9d62-6211ac6e1d42"
      },
      "execution_count": null,
      "outputs": [
        {
          "output_type": "execute_result",
          "data": {
            "text/plain": [
              "12"
            ]
          },
          "metadata": {},
          "execution_count": 21
        }
      ]
    },
    {
      "cell_type": "markdown",
      "source": [
        "##2. Create a Python function that accepts a string and returns the reverse of that string."
      ],
      "metadata": {
        "id": "He2wJ4ldnZkT"
      }
    },
    {
      "cell_type": "code",
      "source": [
        "def revers_string():\n",
        "  string = input (\"enter the string: \")\n",
        "  return string[::-1]"
      ],
      "metadata": {
        "id": "VAUpU7fEnd_q"
      },
      "execution_count": null,
      "outputs": []
    },
    {
      "cell_type": "code",
      "source": [
        "revers_string()"
      ],
      "metadata": {
        "colab": {
          "base_uri": "https://localhost:8080/",
          "height": 53
        },
        "id": "y1sSaOcxYjRW",
        "outputId": "0dc7fca1-2663-4eda-fd0a-37fd70302471"
      },
      "execution_count": null,
      "outputs": [
        {
          "name": "stdout",
          "output_type": "stream",
          "text": [
            "enter the string: navisha\n"
          ]
        },
        {
          "output_type": "execute_result",
          "data": {
            "text/plain": [
              "'ahsivan'"
            ],
            "application/vnd.google.colaboratory.intrinsic+json": {
              "type": "string"
            }
          },
          "metadata": {},
          "execution_count": 28
        }
      ]
    },
    {
      "cell_type": "markdown",
      "source": [
        "##3  Implement a Python function that takes a list of integers and returns a new list containing the squares of each number"
      ],
      "metadata": {
        "id": "4ZJ1fgM6K4_V"
      }
    },
    {
      "cell_type": "code",
      "source": [
        "def sqr(l):\n",
        "  square_numbers =[]\n",
        "  for i in l:\n",
        "    square_numbers.append(i**2)\n",
        "  return square_numbers\n"
      ],
      "metadata": {
        "id": "lvpiq4JZK--8"
      },
      "execution_count": null,
      "outputs": []
    },
    {
      "cell_type": "code",
      "source": [
        "sqr([1,2,3])"
      ],
      "metadata": {
        "colab": {
          "base_uri": "https://localhost:8080/"
        },
        "id": "HcOSVUE4Mg6s",
        "outputId": "58a50e72-392c-4875-d92d-1919a42a916c"
      },
      "execution_count": null,
      "outputs": [
        {
          "output_type": "execute_result",
          "data": {
            "text/plain": [
              "[1, 4, 9]"
            ]
          },
          "metadata": {},
          "execution_count": 5
        }
      ]
    },
    {
      "cell_type": "markdown",
      "source": [
        "##4.  4. Write a Python function that checks if a given number is prime or not from 1 to 200.\n"
      ],
      "metadata": {
        "id": "5qUz6Kd_NeTr"
      }
    },
    {
      "cell_type": "code",
      "source": [
        "def check_prime(number):\n",
        "  if number <= 1:\n",
        "    print(f\"{number} is not a prime number\")\n",
        "  else:\n",
        "    is_prime = True\n",
        "    for i in range(2, number):\n",
        "      if number % i == 0:\n",
        "       is_prime = False\n",
        "      break\n",
        "  return is_prime\n"
      ],
      "metadata": {
        "id": "Q1_t2W6JN6Ij"
      },
      "execution_count": null,
      "outputs": []
    },
    {
      "cell_type": "code",
      "source": [
        "numbers = int(input (\"enter the range\"))\n",
        "result = []\n",
        "for i in range(2, numbers+1):\n",
        "  if check_prime(i):\n",
        "    result.append(i)\n",
        "print(result)"
      ],
      "metadata": {
        "colab": {
          "base_uri": "https://localhost:8080/"
        },
        "id": "oMjauuFmhts8",
        "outputId": "1ee26226-774d-4536-cd82-74fec44cfd91"
      },
      "execution_count": null,
      "outputs": [
        {
          "output_type": "stream",
          "name": "stdout",
          "text": [
            "enter the range200\n",
            "[2, 3, 5, 7, 9, 11, 13, 15, 17, 19, 21, 23, 25, 27, 29, 31, 33, 35, 37, 39, 41, 43, 45, 47, 49, 51, 53, 55, 57, 59, 61, 63, 65, 67, 69, 71, 73, 75, 77, 79, 81, 83, 85, 87, 89, 91, 93, 95, 97, 99, 101, 103, 105, 107, 109, 111, 113, 115, 117, 119, 121, 123, 125, 127, 129, 131, 133, 135, 137, 139, 141, 143, 145, 147, 149, 151, 153, 155, 157, 159, 161, 163, 165, 167, 169, 171, 173, 175, 177, 179, 181, 183, 185, 187, 189, 191, 193, 195, 197, 199]\n"
          ]
        }
      ]
    },
    {
      "cell_type": "markdown",
      "source": [
        "##5 Create an iterator class in Python that generates the Fibonacci sequence up to a specified number of terms"
      ],
      "metadata": {
        "id": "NIg4vRvok5tk"
      }
    },
    {
      "cell_type": "code",
      "source": [
        "def fibo (n):\n",
        "  a = 0\n",
        "  b = 1\n",
        "  for i in range(n):\n",
        "    yield a\n",
        "    a,b = b, a+b"
      ],
      "metadata": {
        "id": "ZtBlCCHHk9YV"
      },
      "execution_count": null,
      "outputs": []
    },
    {
      "cell_type": "code",
      "source": [
        "gen = fibo(5)\n",
        "print(next(gen))\n",
        "print(next(gen))\n",
        "print(next(gen))\n",
        "print(next(gen))\n",
        "print(next(gen))\n"
      ],
      "metadata": {
        "colab": {
          "base_uri": "https://localhost:8080/"
        },
        "id": "bzJpCpvYXxIu",
        "outputId": "9e5a943d-26e0-4e42-931b-7ba4544dc126"
      },
      "execution_count": null,
      "outputs": [
        {
          "output_type": "stream",
          "name": "stdout",
          "text": [
            "0\n",
            "1\n",
            "1\n",
            "2\n",
            "3\n"
          ]
        }
      ]
    },
    {
      "cell_type": "markdown",
      "source": [
        "##6.  6. Write a generator function in Python that yields the powers of 2 up to a given exponent.\n"
      ],
      "metadata": {
        "id": "UHruJP8Y11zB"
      }
    },
    {
      "cell_type": "code",
      "source": [
        "def power_num (n):\n",
        "  for i in range (n):\n",
        "    yield 2**i\n"
      ],
      "metadata": {
        "id": "DtV93mQghtjs"
      },
      "execution_count": null,
      "outputs": []
    },
    {
      "cell_type": "code",
      "source": [
        "gen = power_num(5)\n",
        "print(next(gen))\n",
        "print(next(gen))\n",
        "print(next(gen))\n",
        "print(next(gen))\n",
        "print(next(gen))\n"
      ],
      "metadata": {
        "colab": {
          "base_uri": "https://localhost:8080/"
        },
        "id": "Im6UyWnkaAy9",
        "outputId": "2f20c040-3574-4b8d-9567-31a697cc7174"
      },
      "execution_count": null,
      "outputs": [
        {
          "output_type": "stream",
          "name": "stdout",
          "text": [
            "1\n",
            "2\n",
            "4\n",
            "8\n",
            "16\n"
          ]
        }
      ]
    },
    {
      "cell_type": "markdown",
      "source": [
        "##7. Implement a generator function that reads a file line by line and yields each line as a string.\n"
      ],
      "metadata": {
        "id": "f_uUNv2kawUm"
      }
    },
    {
      "cell_type": "code",
      "source": [
        "def read_file(file_name):\n",
        "  with open(file_name, 'r') as file:\n",
        "    for line in file:\n",
        "      yield line"
      ],
      "metadata": {
        "id": "sLdCrdGua7h2"
      },
      "execution_count": null,
      "outputs": []
    },
    {
      "cell_type": "code",
      "source": [
        "file_name = 'myfile.txt'\n",
        "gen = read_file(file_name)\n",
        "print(next(gen))\n",
        "print(next(gen))\n",
        "print(next(gen))\n",
        "print(next(gen))\n",
        "print(next(gen))\n",
        "print(next(gen))\n"
      ],
      "metadata": {
        "colab": {
          "base_uri": "https://localhost:8080/"
        },
        "id": "fh4WT_0Xa7ee",
        "outputId": "28ff2d43-2874-4f4d-f15a-d2eccecf759a"
      },
      "execution_count": null,
      "outputs": [
        {
          "output_type": "stream",
          "name": "stdout",
          "text": [
            "Write 10 more similar programmes like these,\n",
            "\n",
            "which are important for a fresher learning, \n",
            "\n",
            "python.\n",
            "\n",
            "Create a small mini project where we are establishing \n",
            "\n",
            "connection with SQLITE having few tables and extracting \n",
            "\n",
            "the data from those tables\n",
            "\n"
          ]
        }
      ]
    },
    {
      "cell_type": "markdown",
      "source": [
        "##8. Use a lambda function in Python to sort a list of tuples based on the second element of each tuple.\n"
      ],
      "metadata": {
        "id": "ki_oXWgFeDtl"
      }
    },
    {
      "cell_type": "code",
      "source": [
        "list_tuples = [(1, 4), (3, 1), (5, 3),(6,2)]\n",
        "sort_tuples = sorted(list_tuples, key = lambda x: x[1])\n",
        "print(sort_tuples)"
      ],
      "metadata": {
        "colab": {
          "base_uri": "https://localhost:8080/"
        },
        "id": "PcIP3zgaeYzl",
        "outputId": "3a28d4c8-124e-4f80-ae43-d778e52ebcaa"
      },
      "execution_count": null,
      "outputs": [
        {
          "output_type": "stream",
          "name": "stdout",
          "text": [
            "[(3, 1), (6, 2), (5, 3), (1, 4)]\n"
          ]
        }
      ]
    },
    {
      "cell_type": "markdown",
      "source": [
        "##9. Write a Python program that uses `map()` to convert a list of temperatures from Celsius to Fahrenheit.\n"
      ],
      "metadata": {
        "id": "Sc5kbFEkjAQe"
      }
    },
    {
      "cell_type": "code",
      "source": [
        "temp_celecius  = [50,60,70,80]\n",
        "temp_fahrenheit = list(map(lambda x: (x*9/5)+32, temp_celecius))\n",
        "print(temp_fahrenheit)\n"
      ],
      "metadata": {
        "colab": {
          "base_uri": "https://localhost:8080/"
        },
        "id": "4fo4JEFYi8x-",
        "outputId": "9b0f3601-a5de-434b-f3cf-20a2d20af114"
      },
      "execution_count": null,
      "outputs": [
        {
          "output_type": "stream",
          "name": "stdout",
          "text": [
            "[122.0, 140.0, 158.0, 176.0]\n"
          ]
        }
      ]
    },
    {
      "cell_type": "markdown",
      "source": [
        "##10. Create a Python program that uses `filter()` to remove all the vowels from a given string.\n"
      ],
      "metadata": {
        "id": "pbKfmdUxkR6u"
      }
    },
    {
      "cell_type": "code",
      "source": [
        "\n",
        "string = \"I am learning python.\"\n",
        "\n",
        "remove_vowels = list(filter(lambda x: x not in 'aeiouAEIOU', string))\n",
        "print(remove_vowels)"
      ],
      "metadata": {
        "colab": {
          "base_uri": "https://localhost:8080/"
        },
        "id": "wl9YJOMFkYHm",
        "outputId": "e819643a-c1ea-4dda-a188-32c2d7d294b2"
      },
      "execution_count": null,
      "outputs": [
        {
          "output_type": "stream",
          "name": "stdout",
          "text": [
            "[' ', 'm', ' ', 'l', 'r', 'n', 'n', 'g', ' ', 'p', 'y', 't', 'h', 'n', '.']\n"
          ]
        }
      ]
    },
    {
      "cell_type": "markdown",
      "source": [
        "##11.Imagine an accounting routine used in a book shop. It works on a list with sublists, which look like this:\n",
        " Write a Python program, which returns a list with 2-tuples. Each tuple consists of the order number and the\n",
        "product of the price per item and the quantity. The product should be increased by 10,- € if the value of the\n",
        "order is smaller than 100,00 €.\n",
        " Write a Python program using lambda and map"
      ],
      "metadata": {
        "id": "uZaj-Atkm-P_"
      }
    },
    {
      "cell_type": "code",
      "source": [
        "orders = [(934587, 4, 40.95),\n",
        "          (98765, 5, 56.80),\n",
        "          (77226, 3, 32.95),\n",
        "          (88112, 3, 24.99)]"
      ],
      "metadata": {
        "id": "ge6-nCf0kYB2"
      },
      "execution_count": null,
      "outputs": []
    },
    {
      "cell_type": "code",
      "source": [
        "result = list(map(lambda x: (x[0], x[1]*x[2] + (10 if x[1]*x[2] < 100 else 0)), orders))\n",
        "result\n"
      ],
      "metadata": {
        "id": "fbjUkrrho82n",
        "outputId": "8c0acd15-96c5-4acb-8197-ab0ea0b95a8c",
        "colab": {
          "base_uri": "https://localhost:8080/"
        }
      },
      "execution_count": null,
      "outputs": [
        {
          "output_type": "execute_result",
          "data": {
            "text/plain": [
              "[(934587, 163.8), (98765, 284.0), (77226, 108.85000000000001), (88112, 84.97)]"
            ]
          },
          "metadata": {},
          "execution_count": 5
        }
      ]
    }
  ]
}