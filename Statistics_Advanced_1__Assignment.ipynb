{
  "nbformat": 4,
  "nbformat_minor": 0,
  "metadata": {
    "colab": {
      "provenance": []
    },
    "kernelspec": {
      "name": "python3",
      "display_name": "Python 3"
    },
    "language_info": {
      "name": "python"
    }
  },
  "cells": [
    {
      "cell_type": "markdown",
      "source": [
        "# Statistics Advanced - 1| Assignment"
      ],
      "metadata": {
        "id": "ILnFmLzzKxhC"
      }
    },
    {
      "cell_type": "markdown",
      "source": [
        "## Question 1: What is a random variable in probability theory?\n",
        "\n",
        "  - **random variable** in probability theory is a variable whose possible values are numerical outcomes of a random phenomenon. It is a function that assigns a numerical value to each outcome in the sample space of a random experiment.\n",
        "\n",
        "    For example, if you flip a fair coin twice, the sample space is {HH, HT, TH, TT}. We can define a random variable $X$ as the number of heads in two flips. The possible values of $X$ are 0, 1, and 2.\n"
      ],
      "metadata": {
        "id": "z7dIxQPBK9GC"
      }
    },
    {
      "cell_type": "markdown",
      "source": [
        "## Question 2: What are the types of random variables?\n",
        "- There are two main types of random variables:\n",
        "\n",
        "1.  **Discrete Random Variable:** This type of random variable can only take on a finite number of distinct values or an infinite sequence of countable values. Examples include the number of heads in a series of coin flips, the number of cars passing a point in an hour, or the number of defects in a manufactured product.\n",
        "\n",
        "2.  **Continuous Random Variable:** This type of random variable can take on any value within a given range or interval. Examples include the height of a person, the temperature of a room, the weight of an object, or the time it takes to complete a task."
      ],
      "metadata": {
        "id": "hqVajxj2K9DJ"
      }
    },
    {
      "cell_type": "markdown",
      "source": [
        "## Question 3: Explain the difference between discrete and continuous distributions.\n",
        " - The difference between discrete and continuous distributions can be summarized in the following table:\n",
        "\n",
        "| Feature           | Discrete Distribution                    | Continuous Distribution                     |\n",
        "| :---------------- | :--------------------------------------- | :------------------------------------------ |\n",
        "| **Random Variable** | Discrete Random Variable                 | Continuous Random Variable                  |\n",
        "| **Possible Values** | Finite or countably infinite distinct values | Any value within a given range or interval  |\n",
        "| **Probability**   | Assigned to individual values            | Assigned to a range of values (area under curve) |\n",
        "| **Examples**      | Binomial, Poisson                        | Normal, Exponential                         |"
      ],
      "metadata": {
        "id": "bUsTbi3cK9AB"
      }
    },
    {
      "cell_type": "markdown",
      "source": [
        "## Question 4: What is a binomial distribution, and how is it used in probability?\n",
        "\n",
        "-  A **binomial distribution** is a discrete probability distribution that describes the probability of obtaining a certain number of successes in a fixed number of independent Bernoulli trials (experiments with only two possible outcomes, like success or failure).\n",
        "\n",
        "    It's used in probability to model situations where you have:\n",
        "\n",
        "    - A fixed number of trials (n).\n",
        "    - Each trial is independent of the others.\n",
        "    - Each trial has only two possible outcomes (success or failure).\n",
        "    - The probability of success (p) is constant for each trial.\n",
        "\n",
        "The formula for the probability mass function of a binomial distribution is:\n",
        "\n",
        "$P(X=k) = \\binom{n}{k} * p^k * (1-p)^{n-k}$\n",
        "\n",
        ">Where:\n",
        ">*   P(X=k) is the probability of getting exactly k successes\n",
        ">*   $\\binom{n}{k}$ is the binomial coefficient, which calculates the number of ways to choose k successes from n trials.\n",
        ">*   $p^k$ is the probability of getting k successes.\n",
        ">*   $(1-p)^{n-k}$ is the probability of getting n-k failures."
      ],
      "metadata": {
        "id": "oi2g5Q2EK89A"
      }
    },
    {
      "cell_type": "markdown",
      "source": [
        "## Question 5: What is the standard normal distribution, and why is it important?\n",
        "\n",
        " - The **standard normal distribution**, also known as the Z-distribution, is a special case of the normal distribution. It has a mean of 0 and a standard deviation of 1.\n",
        "\n",
        "   It's important for several reasons:\n",
        "    - **Standardization:** Any normal distribution can be converted into a standard normal distribution by standardizing the values. This allows us to compare values from different normal distributions.\n",
        "\n",
        "    - **Probability Calculation:** We can use the standard normal distribution table (Z-table) to find the probability of a value falling within a certain range, which simplifies calculations for any normal distribution after standardization.\n",
        "\n",
        "    - **Foundation for Statistical Inference:** Many statistical tests and confidence intervals are based on the properties of the standard normal distribution."
      ],
      "metadata": {
        "id": "xpZuN-EWK85w"
      }
    },
    {
      "cell_type": "markdown",
      "source": [
        "## Question 6: What is the Central Limit Theorem (CLT), and why is it critical in statistics?\n",
        "\n",
        " -  The **Central Limit Theorem (CLT)** is a fundamental concept in statistics. It states that if you take a large number of independent random samples from *any* population with a finite mean ($\\mu$) and variance ($\\sigma^2$), the distribution of the sample means will approximate a normal distribution, regardless of the original population's distribution. The larger the sample size, the closer the distribution of the sample means will be to a normal distribution.\n",
        "\n",
        "    The CLT is critical in statistics for several reasons:\n",
        "\n",
        "     -  **Statistical Inference:** It allows us to make inferences about a population mean based on a sample mean, even if the original population distribution is unknown. This is because the distribution of sample means is approximately normal, which we can work with using known properties of the normal distribution.\n",
        "\n",
        "     -  **Hypothesis Testing and Confidence Intervals:** The CLT is the basis for many statistical tests and the construction of confidence intervals for population means. It allows us to use z-scores and t-scores to determine probabilities and make decisions about hypotheses.\n",
        "\n",
        "    -   **Real-World Applications:** Many real-world phenomena involve sums or averages of independent random variables, and the CLT helps explain why the normal distribution appears so frequently in nature and data analysis.\n"
      ],
      "metadata": {
        "id": "HMkZqlmbK82w"
      }
    },
    {
      "cell_type": "markdown",
      "source": [
        "## Question 7: What is the significance of confidence intervals in statistical analysis?\n",
        "\n",
        " - **Confidence intervals** are a crucial part of statistical analysis. They provide a range of values within which we can be reasonably confident that the true population parameter lies.\n",
        "\n",
        "    Here's why they are significant:\n",
        "\n",
        "     - **Estimating Population Parameters:** While a sample statistic (like a sample mean) gives us a point estimate of a population parameter, a confidence interval gives us a range, which is more informative.\n",
        "\n",
        "     - **Quantifying Uncertainty:** Confidence intervals explicitly show the uncertainty associated with our estimate. A wider interval indicates more uncertainty, while a narrower interval indicates less uncertainty.\n",
        "\n",
        "     - **Decision Making:** Confidence intervals help in making informed decisions. If a confidence interval for a difference between two groups includes zero, it suggests that there might not be a statistically significant difference.\n",
        "\n",
        "     - **Interpreting Study Results:** In research, confidence intervals are often reported alongside p-values. They provide a more complete picture of the study's findings than p-values alone."
      ],
      "metadata": {
        "id": "U4WQ4LlhK8z4"
      }
    },
    {
      "cell_type": "markdown",
      "source": [
        "## Question 8: What is the concept of expected value in a probability distribution?\n",
        "\n",
        " - The **expected value** (or expectation) of a random variable is a fundamental concept in probability and statistics. It represents the average value of the random variable over a large number of trials or experiments. It's essentially a weighted average of all possible values the random variable can take, where the weights are the probabilities of those values occurring.\n",
        "\n",
        ">For a discrete random variable $X$ with possible values $x_1, x_2, ..., x_n$ and corresponding probabilities $P(X=x_1), P(X=x_2), ..., P(X=x_n)$, the expected value $E(X)$ is calculated as:\n",
        "\n",
        "$E(X) = \\sum_{i=1}^{n} x_i * P(X=x_i)$\n",
        "\n",
        ">For a continuous random variable $X$ with a probability density function $f(x)$, the expected value $E(X)$ is calculated as:\n",
        "\n",
        "$E(X) = \\int_{-\\infty}^{\\infty} x * f(x) dx$\n",
        "\n",
        ">In simpler terms, the expected value is what you would \"expect\" to get on average if you were to repeat the random experiment many times. It's a measure of the center or central tendency of the probability distribution."
      ],
      "metadata": {
        "id": "fBNqetxiK8xJ"
      }
    },
    {
      "cell_type": "markdown",
      "source": [
        "## Question 9: Write a Python program to generate 1000 random numbers from a normal distribution with mean = 50 and standard deviation = 5. Compute its mean and standard deviation using NumPy, and draw a histogram to visualize the distribution."
      ],
      "metadata": {
        "id": "s1X6iBmlK8uB"
      }
    },
    {
      "cell_type": "code",
      "source": [
        "import numpy as np\n",
        "import matplotlib.pyplot as plt\n",
        "\n",
        "# Generate 1000 random numbers from a normal distribution\n",
        "mean = 50\n",
        "std_dev = 5\n",
        "random_numbers = np.random.normal(mean, std_dev, 1000)\n",
        "\n",
        "# Compute mean and standard deviation using NumPy\n",
        "computed_mean = np.mean(random_numbers)\n",
        "computed_std_dev = np.std(random_numbers)\n",
        "\n",
        "print(f\"Computed Mean: {computed_mean}\")\n",
        "print(f\"Computed Standard Deviation: {computed_std_dev}\")\n",
        "\n",
        "# Draw a histogram to visualize the distribution\n",
        "plt.hist(random_numbers, bins=30, density=True, alpha=0.6, color='r')\n",
        "plt.title('Histogram of Normally Distributed Random Numbers')\n",
        "plt.xlabel('Value')\n",
        "plt.ylabel('Frequency')\n",
        "plt.grid(True)\n",
        "plt.show()"
      ],
      "metadata": {
        "colab": {
          "base_uri": "https://localhost:8080/",
          "height": 507
        },
        "id": "xykwiiZxUGs1",
        "outputId": "8632642c-5bae-4626-e559-202dd087e06f"
      },
      "execution_count": 1,
      "outputs": [
        {
          "output_type": "stream",
          "name": "stdout",
          "text": [
            "Computed Mean: 50.24602871563051\n",
            "Computed Standard Deviation: 5.079832409495569\n"
          ]
        },
        {
          "output_type": "display_data",
          "data": {
            "text/plain": [
              "<Figure size 640x480 with 1 Axes>"
            ],
            "image/png": "[encoded data removed]"
          },
          "metadata": {}
        }
      ]
    },
    {
      "cell_type": "markdown",
      "source": [
        "## Question 10: You are working as a data analyst for a retail company. The company has collected daily sales data for 2 years and wants you to identify the overall sales trend.\n",
        "\n",
        "daily_sales = [220, 245, 210, 265, 230, 250, 260, 275, 240, 255,\n",
        " 235, 260, 245, 250, 225, 270, 265, 255, 250, 260]\n",
        "\n",
        "   - Explain how you would apply the Central Limit Theorem to estimate the average sales with a 95% confidence interval.\n",
        "\n",
        "  - Write the Python code to compute the mean sales and its confidence interval.\n",
        "\n",
        "\n",
        "  \n"
      ],
      "metadata": {
        "id": "K9S5Joc2K8rJ"
      }
    },
    {
      "cell_type": "markdown",
      "source": [
        " - > Applying the Central Limit Theorem (CLT)\n",
        "\n",
        "1. The daily sales data represents a sample of all possible daily sales.\n",
        "2. According to the CLT, if we take repeated random samples of daily sales, the\n",
        "sampling distribution of the sample mean will be approximately normal, even if\n",
        "the underlying data isn’t perfectly normal, provided the sample size is reasonably\n",
        "large.\n",
        "3. This allows us to compute a confidence interval (CI) for the population mean\n",
        "(true average daily sales).\n",
        "4. A 95% confidence interval gives a range in which we are 95% confident that the\n",
        "true average daily sales lies.\n",
        "\n",
        ">The formula for a 95% confidence interval for the mean ( μ ) is:\n",
        "\n",
        ">**Confidence Interval =  x¯±Margin of Error **\n",
        "\n",
        ">Where:\n",
        "\n",
        ">x¯  is the sample mean.\n",
        "Margin of Error depends on whether the population standard deviation ( σ ) is known or unknown, and the sample size ( n ).\n",
        "\n",
        ">If the population standard deviation ( σ ) is known (or sample size is large,  n>30 , and we use the sample standard deviation as an estimate for  σ ):\n",
        "\n",
        ">Margin of Error =  Zα/2∗(σ/n−−√)\n"
      ],
      "metadata": {
        "id": "udEzB1ODK8n5"
      }
    },
    {
      "cell_type": "code",
      "execution_count": 2,
      "metadata": {
        "id": "a-zGZXUCKUor",
        "colab": {
          "base_uri": "https://localhost:8080/"
        },
        "outputId": "104ced25-c9bc-40b4-ccbe-7fa5f5eb92a8"
      },
      "outputs": [
        {
          "output_type": "stream",
          "name": "stdout",
          "text": [
            "Sample Mean: 248.25\n",
            "Sample Standard Deviation: 17.27\n",
            "95% Confidence Interval (using Z-distribution): (240.68, 255.82)\n"
          ]
        }
      ],
      "source": [
        "from scipy.stats import norm\n",
        "import numpy as np\n",
        "\n",
        "daily_sales = [220, 245, 210, 265, 230, 250, 260, 275, 240, 255,\n",
        "235, 260, 245, 250, 225, 270, 265, 255, 250, 260]\n",
        "\n",
        "# Calculate the mean of the daily sales\n",
        "sample_mean = np.mean(daily_sales)\n",
        "\n",
        "# Calculate the sample standard deviation of the daily sales\n",
        "sample_std = np.std(daily_sales, ddof=1)\n",
        "\n",
        "# Sample size\n",
        "n = len(daily_sales)\n",
        "\n",
        "# Confidence level\n",
        "confidence_level = 0.95\n",
        "\n",
        "# Alpha value\n",
        "alpha = 1 - confidence_level\n",
        "\n",
        "# Get the z-score for a 95% confidence interval\n",
        "z_score = norm.ppf(1 - alpha/2)\n",
        "\n",
        "# Calculate the standard error (using sample standard deviation as an estimate for population standard deviation)\n",
        "standard_error = sample_std / np.sqrt(n)\n",
        "\n",
        "# Calculate the margin of error\n",
        "margin_of_error = z_score * standard_error\n",
        "\n",
        "# Calculate the confidence interval\n",
        "confidence_interval_lower = sample_mean - margin_of_error\n",
        "confidence_interval_upper = sample_mean + margin_of_error\n",
        "\n",
        "print(f\"Sample Mean: {sample_mean:.2f}\")\n",
        "print(f\"Sample Standard Deviation: {sample_std:.2f}\")\n",
        "print(f\"95% Confidence Interval (using Z-distribution): ({confidence_interval_lower:.2f}, {confidence_interval_upper:.2f})\")"
      ]
    }
  ]
}