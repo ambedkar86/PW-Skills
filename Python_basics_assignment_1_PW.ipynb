{
  "nbformat": 4,
  "nbformat_minor": 0,
  "metadata": {
    "colab": {
      "provenance": []
    },
    "kernelspec": {
      "name": "python3",
      "display_name": "Python 3"
    },
    "language_info": {
      "name": "python"
    }
  },
  "cells": [
    {
      "cell_type": "markdown",
      "source": [
        "#Python Basics Assignment\n",
        "\n",
        "\n",
        "\n"
      ],
      "metadata": {
        "id": "aaXE5ATOzoYJ"
      }
    },
    {
      "cell_type": "markdown",
      "source": [
        "1. What is Python, and why is it popular ?\n",
        " - Python is a programming language that is easy to understand and write, making it a popular choice among developers and programmers.\n",
        " -It is compatible with various programming paradigms, such as procedural, object-oriented, and functional programming.\n",
        " -Python has a large and active community of developers, an extensive standard library, and third-party packages for various domains.\n"
      ],
      "metadata": {
        "id": "HUxIWMVq0Sm5"
      }
    },
    {
      "cell_type": "markdown",
      "source": [
        "2. What is an interpreter in Python ?\n",
        " - The interpreter takes Python code and translates it into machine code that the processor can understand and executes the code line by line."
      ],
      "metadata": {
        "id": "2Il7bxzW023w"
      }
    },
    {
      "cell_type": "markdown",
      "source": [
        "3. What are pre-defined keywords in Python\n",
        "  - Keywords are reserved words in Python that have special meanings and cannot be used as identifiers.\n",
        "  - Examples of keywords include if, else, while, for, def, class, import, try, except, return, True, False, None, etc."
      ],
      "metadata": {
        "id": "rPGLdqRs1I6o"
      }
    },
    {
      "cell_type": "markdown",
      "source": [
        " 4. Can keywords be used as variable names ?\n",
        "  - Keywords cannot be used as variable names because it affects the functionality of the existing keywords (pre-defined keywords) .\n"
      ],
      "metadata": {
        "id": "wSKRL4CB1XZg"
      }
    },
    {
      "cell_type": "markdown",
      "source": [
        "5. What is mutability in Python ?\n",
        " - It means that in Python, objects can be changeable (modifiable) after its creation such as lists and dictionaries, can be modified after creation,\n"
      ],
      "metadata": {
        "id": "pW2TA6xM1jIZ"
      }
    },
    {
      "cell_type": "markdown",
      "source": [
        "6. Why are lists mutable, but tuples are immutable?\n",
        " - Lists are mutable bacause we can modify the contaent inside the list after its creation.\n",
        " -Tuples are immutable bacuse we can not modify the contaent inside the tuple after its creation.\n"
      ],
      "metadata": {
        "id": "6dt1SEJt1jF4"
      }
    },
    {
      "cell_type": "markdown",
      "source": [
        "7. What is the difference between “==” and “is” operators in Python ?\n",
        "  - Use \"==\" when we need to determine if two objects have the same content or value.\n",
        "  - Use \"is\" when we need to determine if two variables are referencing the exact same object in memory.\n"
      ],
      "metadata": {
        "id": "7uWdINAM1jC4"
      }
    },
    {
      "cell_type": "markdown",
      "source": [
        "8.  What are logical operators in Python ?\n",
        " - Logical operators in Python are used to combine conditional statements and evaluate expressions based on Boolean logic. They return either True or False and are fundamental for controlling the flow of a program through decision-making.\n",
        " Eaxmple: and, or, not\n"
      ],
      "metadata": {
        "id": "pbYWbg0w1jAI"
      }
    },
    {
      "cell_type": "markdown",
      "source": [
        "9.  What is type casting in Python ?\n",
        " -  Type casting, also referred to as type conversion, is the process of changing one data type to another in Python.\n"
      ],
      "metadata": {
        "id": "6yqsyU441i9Z"
      }
    },
    {
      "cell_type": "markdown",
      "metadata": {
        "id": "fcf8d607"
      },
      "source": [
        "10. What is the difference between implicit and explicit type casting ?\n",
        "- Implicit type casting is when the Python interpreter automatically converts one data type to another. For example, when adding an integer and a float, the integer is implicitly converted to a float before the addition.\n",
        "- Explicit type casting is when the user manually converts one data type to another using built-in functions like `int`, `float()`, or `str()`."
      ]
    },
    {
      "cell_type": "markdown",
      "metadata": {
        "id": "281c5b8a"
      },
      "source": [
        "11. What is the purpose of conditional statements in Python ?\n",
        "- Conditional statements in Python (like `if`, `elif`, and `else`) allow a program to execute certain blocks of code only when specific conditions are met. They are used to control the flow of a program and make decisions based on different inputs or states."
      ]
    },
    {
      "cell_type": "markdown",
      "metadata": {
        "id": "dae68fbf"
      },
      "source": [
        "12. How does the elif statement work ?\n",
        "- The `elif` (else if) statement is used to check for multiple conditions. It is used after an `if` statement and before an `else` statement. If the `if` statement is false, the `elif` statement is checked. If the `elif` statement is true, its code block is executed. If both the `if` and `elif` statements are false, the `else` statement's code block is executed (if one is present)."
      ]
    },
    {
      "cell_type": "markdown",
      "metadata": {
        "id": "48265f22"
      },
      "source": [
        "13. What is the difference between for and while loops?\n",
        "- A `for` loop is used to iterate over a sequence (like a list, tuple, or string) or other iterable objects. It executes a block of code a specific number of times.\n",
        "- A `while` loop is used to execute a block of code as long as a certain condition is true. It is used when the number of iterations is not known beforehand."
      ]
    },
    {
      "cell_type": "markdown",
      "metadata": {
        "id": "aaae9b4b"
      },
      "source": [
        "14. Describe a scenario where a while loop is more suitable than a for loop.\n",
        "- A `while` loop is more suitable than a `for` loop when the number of iterations is not known in advance. For example, when you want to keep asking a user for input until they enter a specific value, you would use a `while` loop. Another example is a program that runs continuously until a certain event occurs, like a server waiting for a client connection."
      ]
    },
    {
      "cell_type": "markdown",
      "source": [
        "#  Practical Questions\n",
        "  "
      ],
      "metadata": {
        "id": "f4d7YgMdZpaI"
      }
    },
    {
      "cell_type": "code",
      "source": [
        "# 1. Write a Python program to print \"Hello, World!\"\n",
        "\n",
        "print(\"Hello, World!\")"
      ],
      "metadata": {
        "colab": {
          "base_uri": "https://localhost:8080/"
        },
        "id": "fDbPPRl2aARp",
        "outputId": "85776dde-c760-4a14-98ad-0eaa3fe24d77"
      },
      "execution_count": null,
      "outputs": [
        {
          "output_type": "stream",
          "name": "stdout",
          "text": [
            "Hello, World!\n"
          ]
        }
      ]
    },
    {
      "cell_type": "code",
      "source": [
        "#2. Write a Python program that displays your name and age.\n",
        "\n",
        "name = input(\"Enter your name: \")\n",
        "age = input(\"Enter your age: \")\n",
        "print(f\"My name is {name} and my age is {age}\")"
      ],
      "metadata": {
        "colab": {
          "base_uri": "https://localhost:8080/"
        },
        "id": "_V9L0nQLafIy",
        "outputId": "44991068-9d07-4ba8-f95a-ee273c122d94"
      },
      "execution_count": null,
      "outputs": [
        {
          "output_type": "stream",
          "name": "stdout",
          "text": [
            "Enter your name: Rahul\n",
            "Enter your age: 35\n",
            "My name is Rahul and my age is 35\n"
          ]
        }
      ]
    },
    {
      "cell_type": "code",
      "source": [
        "#3. Write code to print all the pre-defined keywords in Python using the keyword library.\n",
        "\n",
        "import keyword\n",
        "print(f\"pre-defined keywords in Python are :\\n{keyword.kwlist}\")"
      ],
      "metadata": {
        "colab": {
          "base_uri": "https://localhost:8080/"
        },
        "id": "G08g1TQMbIPR",
        "outputId": "d1e5cfdd-f37f-4a8e-8e6c-e86d1a7454f5"
      },
      "execution_count": null,
      "outputs": [
        {
          "output_type": "stream",
          "name": "stdout",
          "text": [
            "pre-defined keywords in Python are :\n",
            "['False', 'None', 'True', 'and', 'as', 'assert', 'async', 'await', 'break', 'class', 'continue', 'def', 'del', 'elif', 'else', 'except', 'finally', 'for', 'from', 'global', 'if', 'import', 'in', 'is', 'lambda', 'nonlocal', 'not', 'or', 'pass', 'raise', 'return', 'try', 'while', 'with', 'yield']\n"
          ]
        }
      ]
    },
    {
      "cell_type": "code",
      "source": [
        "#4. Write a program that checks if a given word is a Python keyword.\n",
        "\n",
        "word = input(\"Enter a word: \")\n",
        "if keyword.iskeyword(word):\n",
        "    print(f\"{word} is a Python keyword.\")\n",
        "else:\n",
        "    print(f\"{word} is not a Python keyword.\")\n"
      ],
      "metadata": {
        "colab": {
          "base_uri": "https://localhost:8080/"
        },
        "id": "c2vzsEbQblmb",
        "outputId": "b740ed1c-cfed-4888-97ad-7ecdd2c58014"
      },
      "execution_count": null,
      "outputs": [
        {
          "output_type": "stream",
          "name": "stdout",
          "text": [
            "Enter a word: ram\n",
            "ram is not a Python keyword.\n"
          ]
        }
      ]
    },
    {
      "cell_type": "code",
      "source": [
        "#5. Create a list and tuple in Python, and demonstrate how attempting to change an element works differently for each.\n",
        "\n",
        "list1 = [2,3,5]\n",
        "tuple_1 = (2,3,5)\n",
        "list1[2] = 4\n",
        "print(list1)\n",
        "\n"
      ],
      "metadata": {
        "colab": {
          "base_uri": "https://localhost:8080/"
        },
        "id": "bVVyM6SBcm-B",
        "outputId": "0e70c7e7-cc87-46df-d73e-685a7f1d19eb"
      },
      "execution_count": null,
      "outputs": [
        {
          "output_type": "stream",
          "name": "stdout",
          "text": [
            "[2, 3, 4]\n"
          ]
        }
      ]
    },
    {
      "cell_type": "code",
      "source": [
        "tuple_1[2] = 4\n",
        "print(tuple_1)"
      ],
      "metadata": {
        "colab": {
          "base_uri": "https://localhost:8080/",
          "height": 159
        },
        "id": "_Vyb6R6vcm6h",
        "outputId": "b00befd5-23e7-4383-b44f-083c08f101ae"
      },
      "execution_count": null,
      "outputs": [
        {
          "output_type": "error",
          "ename": "TypeError",
          "evalue": "'tuple' object does not support item assignment",
          "traceback": [
            "\u001b[0;31m---------------------------------------------------------------------------\u001b[0m",
            "\u001b[0;31mTypeError\u001b[0m                                 Traceback (most recent call last)",
            "\u001b[0;32m/tmp/ipython-input-2072495726.py\u001b[0m in \u001b[0;36m<cell line: 0>\u001b[0;34m()\u001b[0m\n\u001b[0;32m----> 1\u001b[0;31m \u001b[0mtuple_1\u001b[0m\u001b[0;34m[\u001b[0m\u001b[0;36m2\u001b[0m\u001b[0;34m]\u001b[0m \u001b[0;34m=\u001b[0m \u001b[0;36m4\u001b[0m\u001b[0;34m\u001b[0m\u001b[0;34m\u001b[0m\u001b[0m\n\u001b[0m\u001b[1;32m      2\u001b[0m \u001b[0mprint\u001b[0m\u001b[0;34m(\u001b[0m\u001b[0mtuple_1\u001b[0m\u001b[0;34m)\u001b[0m\u001b[0;34m\u001b[0m\u001b[0;34m\u001b[0m\u001b[0m\n",
            "\u001b[0;31mTypeError\u001b[0m: 'tuple' object does not support item assignment"
          ]
        }
      ]
    },
    {
      "cell_type": "code",
      "source": [
        "# #6. Write a function to demonstrate the behavior of mutable and immutable arguments.\n",
        "\n",
        "def modify_list(lst):\n",
        "    lst.append(4)\n",
        "\n",
        "def modify_number(num):\n",
        "    num += 5\n",
        "    return num\n",
        "\n",
        "my_list = [1, 2, 3]\n",
        "my_num = 5\n",
        "\n",
        "modify_list(my_list)\n",
        "new_num = modify_number(my_num)\n",
        "\n",
        "print(\"Modified list (mutable):\", my_list)\n",
        "print(\"Original number (immutable):\", my_num)\n",
        "print(\"Returned new number:\", new_num)\n",
        "\n"
      ],
      "metadata": {
        "id": "2F1dxqzrcm1A",
        "colab": {
          "base_uri": "https://localhost:8080/"
        },
        "outputId": "dc42e59d-9bb1-44c7-ee14-26ddbd467d07"
      },
      "execution_count": 2,
      "outputs": [
        {
          "output_type": "stream",
          "name": "stdout",
          "text": [
            "Modified list (mutable): [1, 2, 3, 4]\n",
            "Original number (immutable): 5\n",
            "Returned new number: 10\n"
          ]
        }
      ]
    },
    {
      "cell_type": "code",
      "source": [
        "#7. Write a program that performs basic arithmetic operations on two user-input numbers.\n",
        "\n",
        "num1 = int(input(\"Enter first number: \"))\n",
        "num2 = int(input(\"Enter second number: \"))\n",
        "\n",
        "addition = num1 + num2\n",
        "subtraction = num1 - num2\n",
        "multiplication = num1 * num2\n",
        "division = num1 / num2\n",
        "remainder = num1 % num2\n",
        "floor_division = num1 // num2\n",
        "\n",
        "print(f\"Addition of {num1} and {num2} is: {num1 + num2}\")\n",
        "print(f\"Subtraction of {num1} and {num2} is: {num1 - num2}\")\n",
        "print(f\"Multiplication of {num1} and {num2} is: {num1 * num2}\")\n",
        "print(f\"Division of {num1} and {num2} is: {num1 / num2}\")\n",
        "print(f\"Remainder of {num1} and {num2} is: {num1 % num2}\")\n",
        "print(f\"Flor division of {num1} and {num2} is: {num1 // num2}\")"
      ],
      "metadata": {
        "colab": {
          "base_uri": "https://localhost:8080/"
        },
        "id": "c8P4FWkMcmx5",
        "outputId": "f21f7af4-65f4-48d9-b964-47185e8bfeee"
      },
      "execution_count": null,
      "outputs": [
        {
          "output_type": "stream",
          "name": "stdout",
          "text": [
            "Enter first number: 50\n",
            "Enter second number: 6\n",
            "Addition of 50 and 6 is: 56\n",
            "Subtraction of 50 and 6 is: 44\n",
            "Multiplication of 50 and 6 is: 300\n",
            "Division of 50 and 6 is: 8.333333333333334\n",
            "Remainder of 50 and 6 is: 2\n",
            "Flor division of 50 and 6 is: 8\n"
          ]
        }
      ]
    },
    {
      "cell_type": "code",
      "source": [
        "#8. Write a program to demonstrate the use of logical operators.\n",
        "\n",
        "x = 10\n",
        "y = 20\n",
        "print(x > 5 and y > 15)\n",
        "print(x > 15 or y > 15)\n",
        "print(not(x > 5))\n"
      ],
      "metadata": {
        "colab": {
          "base_uri": "https://localhost:8080/"
        },
        "id": "E4RC0nWecmsS",
        "outputId": "fca2c767-b411-43cd-85ea-2c0d0115731d"
      },
      "execution_count": null,
      "outputs": [
        {
          "output_type": "stream",
          "name": "stdout",
          "text": [
            "True\n",
            "True\n",
            "False\n"
          ]
        }
      ]
    },
    {
      "cell_type": "code",
      "source": [
        "#9. Write a Python program to convert user input from string to integer, float, and boolean types.\n",
        "\n",
        "user_input = input(\"Enter a value: \")\n",
        "integer_value = int(user_input)\n",
        "float_value = float(user_input)\n",
        "boolean_value = bool(user_input)\n",
        "\n",
        "print(f\"Integer value: {integer_value}\")\n",
        "print(f\"Float value: {float_value}\")\n",
        "print(f\"Boolean value: {boolean_value}\")\n"
      ],
      "metadata": {
        "colab": {
          "base_uri": "https://localhost:8080/"
        },
        "id": "mdCdyLT7cmpZ",
        "outputId": "7bb5f1e0-7c7c-4d4e-b4ba-e582e265baf3"
      },
      "execution_count": null,
      "outputs": [
        {
          "output_type": "stream",
          "name": "stdout",
          "text": [
            "Enter a value: 85\n",
            "Integer value: 85\n",
            "Float value: 85.0\n",
            "Boolean value: True\n"
          ]
        }
      ]
    },
    {
      "cell_type": "code",
      "source": [
        "#10. Write code to demonstrate type casting with list elements.\n",
        "\n",
        "lst1= ['1', '2', '3','4', '5']\n",
        "int_lst = [int(i) for i in lst1]\n",
        "print(\"Integer List:\", int_lst)"
      ],
      "metadata": {
        "colab": {
          "base_uri": "https://localhost:8080/"
        },
        "id": "PNQ3RrGucmmY",
        "outputId": "d0c869a0-2e43-4fe7-eb93-a591afe5146f"
      },
      "execution_count": null,
      "outputs": [
        {
          "output_type": "stream",
          "name": "stdout",
          "text": [
            "Integer List: [1, 2, 3, 4, 5]\n"
          ]
        }
      ]
    },
    {
      "cell_type": "code",
      "source": [
        "#11. Write a program that checks if a number is positive, negative, or zero.\n",
        "\n",
        "num = int(input(\"Enter a number: \"))\n",
        "if num > 0:\n",
        "    print(f\"{num} is a positive number.\")\n",
        "elif num < 0:\n",
        "    print(f\"{num} is a negative number.\")\n",
        "else:\n",
        "    print(f\"{num} is zero.\")\n"
      ],
      "metadata": {
        "colab": {
          "base_uri": "https://localhost:8080/"
        },
        "id": "Ji-gB6tRhJho",
        "outputId": "908573f6-8587-4e09-cfce-59f0bfd9b6fb"
      },
      "execution_count": null,
      "outputs": [
        {
          "output_type": "stream",
          "name": "stdout",
          "text": [
            "Enter a number: -2\n",
            "-2 is a negative number.\n"
          ]
        }
      ]
    },
    {
      "cell_type": "code",
      "source": [
        "#12. Write a for loop to print numbers from 1 to 10.\n",
        "\n",
        "for i in range(1,11):\n",
        "    print(i)\n"
      ],
      "metadata": {
        "colab": {
          "base_uri": "https://localhost:8080/"
        },
        "id": "C8UKWll5cmjg",
        "outputId": "fa98c692-cbf8-4935-c9b6-9b26b6e6840f"
      },
      "execution_count": null,
      "outputs": [
        {
          "output_type": "stream",
          "name": "stdout",
          "text": [
            "1\n",
            "2\n",
            "3\n",
            "4\n",
            "5\n",
            "6\n",
            "7\n",
            "8\n",
            "9\n",
            "10\n"
          ]
        }
      ]
    },
    {
      "cell_type": "code",
      "source": [
        "#13. Write a Python program to find the sum of all even numbers between 1 and 50.\n",
        "\n",
        "sum_even = 0\n",
        "for i in range(1,51):\n",
        "    if i % 2 == 0:\n",
        "        sum_even += i\n",
        "print(f\"Sum of even numers :{sum_even}\")\n"
      ],
      "metadata": {
        "colab": {
          "base_uri": "https://localhost:8080/"
        },
        "id": "uCuuVnOXi6bp",
        "outputId": "28f0a18f-88ee-4fd3-a255-d1ec68f317d2"
      },
      "execution_count": null,
      "outputs": [
        {
          "output_type": "stream",
          "name": "stdout",
          "text": [
            "Sum of even numers :650\n"
          ]
        }
      ]
    },
    {
      "cell_type": "code",
      "source": [
        "#14. Write a program to reverse a string using a while loop.\n",
        "\n",
        "\n",
        "string = input(\"Enter a string: \")\n",
        "reversed_string = \" \"\n",
        "index = len(string) - 1\n",
        "\n",
        "while index >= 0:\n",
        "    reversed_string += string[index]\n",
        "    index -= 1\n",
        "\n",
        "print(\"Reversed string:\", reversed_string)\n"
      ],
      "metadata": {
        "colab": {
          "base_uri": "https://localhost:8080/"
        },
        "id": "xW5fwReZi6Yn",
        "outputId": "6f6c3201-4451-44fe-a41d-0d5502d32755"
      },
      "execution_count": null,
      "outputs": [
        {
          "output_type": "stream",
          "name": "stdout",
          "text": [
            "Enter a string: rahul\n",
            "Reversed string:  luhar\n"
          ]
        }
      ]
    },
    {
      "cell_type": "code",
      "source": [
        "# 15. Write a Python program to calculate the factorial of a number provided by the user using a while loop.\n",
        "\n",
        "num = int(input(\"Enter a number: \"))\n",
        "factorial = 1\n",
        "current = 1\n",
        "while current <= num:\n",
        "    factorial *= current\n",
        "    current += 1\n",
        "print(f\"Factorial of {num} is: {factorial}\")\n"
      ],
      "metadata": {
        "colab": {
          "base_uri": "https://localhost:8080/"
        },
        "id": "OKUIRRDpi6Vx",
        "outputId": "2d0316bc-c19d-4dfa-ce27-e14bf18bb48f"
      },
      "execution_count": null,
      "outputs": [
        {
          "output_type": "stream",
          "name": "stdout",
          "text": [
            "Enter a number: 5\n",
            "Factorial of 5 is: 120\n"
          ]
        }
      ]
    },
    {
      "cell_type": "code",
      "source": [],
      "metadata": {
        "id": "-PtVkkGji6SQ"
      },
      "execution_count": null,
      "outputs": []
    },
    {
      "cell_type": "code",
      "source": [],
      "metadata": {
        "id": "ujOHr6DlcmgY"
      },
      "execution_count": null,
      "outputs": []
    }
  ]
}